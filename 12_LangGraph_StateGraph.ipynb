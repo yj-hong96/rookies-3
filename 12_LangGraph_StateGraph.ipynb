{
 "cells": [
  {
   "cell_type": "markdown",
   "metadata": {},
   "source": [
    "## 1. 환경 설정"
   ]
  },
  {
   "cell_type": "markdown",
   "metadata": {},
   "source": [
    "`(1) Env 환경변수`"
   ]
  },
  {
   "cell_type": "code",
   "execution_count": 1,
   "metadata": {},
   "outputs": [
    {
     "data": {
      "text/plain": [
       "True"
      ]
     },
     "execution_count": 1,
     "metadata": {},
     "output_type": "execute_result"
    }
   ],
   "source": [
    "from dotenv import load_dotenv\n",
    "load_dotenv()"
   ]
  },
  {
   "cell_type": "markdown",
   "metadata": {},
   "source": [
    "`(2) 기본 라이브러리`"
   ]
  },
  {
   "cell_type": "code",
   "execution_count": 2,
   "metadata": {},
   "outputs": [],
   "source": [
    "import re\n",
    "import os, json\n",
    "\n",
    "from textwrap import dedent\n",
    "from pprint import pprint\n",
    "\n",
    "import warnings\n",
    "warnings.filterwarnings(\"ignore\")"
   ]
  },
  {
   "cell_type": "markdown",
   "metadata": {},
   "source": [
    "## 2. StateGraph\n",
    "- 상태(state)를 기반으로 작동하는 그래프 구조\n",
    "- 실습: 레스토랑 메뉴 추천 시스템\n",
    "    - 사용자의 선호도에 따라 메뉴를 추천하고, 메뉴에 대한 정보를 제공"
   ]
  },
  {
   "cell_type": "markdown",
   "metadata": {},
   "source": [
    "`(1) 상태(State)`\n",
    "- 상태는 그래프가 처리하는 데이터의 구조를 정의\n",
    "- 기존 상태를 override (덮어쓰기)"
   ]
  },
  {
   "cell_type": "code",
   "execution_count": 4,
   "metadata": {},
   "outputs": [],
   "source": [
    "from typing import TypedDict\n",
    "\n",
    "# 상태 Schema 정의 - 사용자의 선호도, 추천된 메뉴, 그리고 메뉴 정보를 저장\n",
    "class MenuState(TypedDict):\n",
    "    user_preference: str\n",
    "    recommended_menu: str\n",
    "    menu_info: str"
   ]
  },
  {
   "cell_type": "markdown",
   "metadata": {},
   "source": [
    "`(2) 노드(Node)`\n",
    "- 노드는 그래프에서 실제 작업을 수행하는 함수"
   ]
  },
  {
   "cell_type": "code",
   "execution_count": 5,
   "metadata": {},
   "outputs": [],
   "source": [
    "import random\n",
    "\n",
    "def get_user_preference(state: MenuState) -> MenuState:\n",
    "    print(\"---랜덤 사용자 선호도 생성---\")\n",
    "    preferences = [\"육류\", \"해산물\", \"채식\", \"아무거나\"]\n",
    "    preference = random.choice(preferences)\n",
    "    print(f\"생성된 선호도: {preference}\")\n",
    "    return {\"user_preference\": preference}\n",
    "\n",
    "def recommend_menu(state: MenuState) -> MenuState:\n",
    "    print(\"---메뉴 추천---\")\n",
    "    preference = state['user_preference']\n",
    "    if preference == \"육류\":\n",
    "        menu = \"스테이크\"\n",
    "    elif preference == \"해산물\":\n",
    "        menu = \"랍스터 파스타\"\n",
    "    elif preference == \"채식\":\n",
    "        menu = \"그린 샐러드\"\n",
    "    else:\n",
    "        menu = \"오늘의 쉐프 특선\"\n",
    "    print(f\"추천 메뉴: {menu}\")\n",
    "    return {\"recommended_menu\": menu}\n",
    "\n",
    "def provide_menu_info(state: MenuState) -> MenuState:\n",
    "    print(\"---메뉴 정보 제공---\")\n",
    "    menu = state['recommended_menu']\n",
    "    if menu == \"스테이크\":\n",
    "        info = \"최상급 소고기로 만든 juicy한 스테이크입니다. 가격: 30,000원\"\n",
    "    elif menu == \"랍스터 파스타\":\n",
    "        info = \"신선한 랍스터와 al dente 파스타의 조화. 가격: 28,000원\"\n",
    "    elif menu == \"그린 샐러드\":\n",
    "        info = \"신선한 유기농 채소로 만든 건강한 샐러드. 가격: 15,000원\"\n",
    "    else:\n",
    "        info = \"쉐프가 그날그날 엄선한 특별 요리입니다. 가격: 35,000원\"\n",
    "    print(f\"메뉴 정보: {info}\")\n",
    "    return {\"menu_info\": info}"
   ]
  },
  {
   "cell_type": "markdown",
   "metadata": {},
   "source": [
    "`(3) 그래프(Graph) 구성`\n",
    "- 정의한 구성 요소들을 사용하여 전체 그래프를 빌드"
   ]
  },
  {
   "cell_type": "code",
   "execution_count": 6,
   "metadata": {},
   "outputs": [
    {
     "name": "stdout",
     "output_type": "stream",
     "text": [
      "<class 'langgraph.graph.state.StateGraph'>\n",
      "<class 'langgraph.graph.state.CompiledStateGraph'>\n"
     ]
    }
   ],
   "source": [
    "from langgraph.graph import StateGraph, START, END\n",
    "\n",
    "# 그래프 빌더 생성\n",
    "builder = StateGraph(MenuState)\n",
    "print(type(builder))\n",
    "\n",
    "# 노드 추가\n",
    "builder.add_node(\"get_preference\", get_user_preference)\n",
    "builder.add_node(\"recommend\", recommend_menu)\n",
    "builder.add_node(\"provide_info\", provide_menu_info)\n",
    "\n",
    "# 엣지 추가\n",
    "builder.add_edge(START, \"get_preference\")\n",
    "builder.add_edge(\"get_preference\", \"recommend\")\n",
    "builder.add_edge(\"recommend\", \"provide_info\")\n",
    "builder.add_edge(\"provide_info\", END)\n",
    "\n",
    "# 그래프 컴파일\n",
    "graph = builder.compile()\n",
    "print(type(graph))"
   ]
  },
  {
   "cell_type": "code",
   "execution_count": 7,
   "metadata": {},
   "outputs": [
    {
     "data": {
      "image/png": "[encoded data removed]",
      "text/plain": [
       "<IPython.core.display.Image object>"
      ]
     },
     "metadata": {},
     "output_type": "display_data"
    }
   ],
   "source": [
    "from IPython.display import Image, display\n",
    "\n",
    "# 그래프 시각화\n",
    "display(Image(graph.get_graph().draw_mermaid_png()))"
   ]
  },
  {
   "cell_type": "code",
   "execution_count": 9,
   "metadata": {},
   "outputs": [
    {
     "name": "stdout",
     "output_type": "stream",
     "text": [
      "---랜덤 사용자 선호도 생성---\n",
      "생성된 선호도: 육류\n",
      "---메뉴 추천---\n",
      "추천 메뉴: 스테이크\n",
      "---메뉴 정보 제공---\n",
      "메뉴 정보: 최상급 소고기로 만든 juicy한 스테이크입니다. 가격: 30,000원\n",
      "<class 'langgraph.pregel.io.AddableValuesDict'>\n",
      "{'user_preference': '육류', 'recommended_menu': '스테이크', 'menu_info': '최상급 소고기로 만든 juicy한 스테이크입니다. 가격: 30,000원'}\n",
      "\n",
      "=== 결과 ===\n",
      "선호도: 육류\n",
      "추천 메뉴: 스테이크\n",
      "메뉴 정보: 최상급 소고기로 만든 juicy한 스테이크입니다. 가격: 30,000원\n",
      "============\n",
      "\n",
      "****************************************************************************************************\n",
      "\n",
      "---랜덤 사용자 선호도 생성---\n",
      "생성된 선호도: 채식\n",
      "---메뉴 추천---\n",
      "추천 메뉴: 그린 샐러드\n",
      "---메뉴 정보 제공---\n",
      "메뉴 정보: 신선한 유기농 채소로 만든 건강한 샐러드. 가격: 15,000원\n",
      "<class 'langgraph.pregel.io.AddableValuesDict'>\n",
      "{'user_preference': '채식', 'recommended_menu': '그린 샐러드', 'menu_info': '신선한 유기농 채소로 만든 건강한 샐러드. 가격: 15,000원'}\n",
      "\n",
      "=== 결과 ===\n",
      "선호도: 채식\n",
      "추천 메뉴: 그린 샐러드\n",
      "메뉴 정보: 신선한 유기농 채소로 만든 건강한 샐러드. 가격: 15,000원\n",
      "============\n",
      "\n",
      "****************************************************************************************************\n",
      "\n"
     ]
    }
   ],
   "source": [
    "# 그래프 실행\n",
    "\n",
    "def print_result(result: MenuState):\n",
    "    print(\"\\n=== 결과 ===\")\n",
    "    print(\"선호도:\", result['user_preference'])\n",
    "    print(\"추천 메뉴:\", result['recommended_menu'])\n",
    "    print(\"메뉴 정보:\", result['menu_info'])\n",
    "    print(\"============\\n\")\n",
    "\n",
    "\n",
    "# 초기 입려\n",
    "inputs = {\"user_preference\": \"\"}\n",
    "\n",
    "# 여러 번 실행하여 테스트 \n",
    "for _ in range(2):\n",
    "    result = graph.invoke(inputs)\n",
    "    print(type(result))\n",
    "    print(result)\n",
    "    print_result(result)\n",
    "    print(\"*\"*100)\n",
    "    print()"
   ]
  },
  {
   "cell_type": "markdown",
   "metadata": {},
   "source": [
    "## 3. 조건부 엣지(Edge)\n",
    "- 엣지는 노드 간의 연결을 정의\n",
    "- 조건부 엣지: 사용자 입력이 메뉴 관련인지 여부에 따라 다른 경로로 진행"
   ]
  },
  {
   "cell_type": "markdown",
   "metadata": {},
   "source": [
    "`(1) State 정의`\n",
    "- 사용자 입력이 메뉴 추천이면 벡터저장소에서 검색하여 RAG Chain을 실행하고,\n",
    "- 그렇지 않은 경우에는 LLM이 답변을 생성"
   ]
  },
  {
   "cell_type": "code",
   "execution_count": 10,
   "metadata": {},
   "outputs": [],
   "source": [
    "from typing import List\n",
    "from typing import TypedDict\n",
    "\n",
    "# state 스키마 \n",
    "class MenuState(TypedDict):\n",
    "    user_query: str\n",
    "    is_menu_related: bool\n",
    "    search_results: List[str]\n",
    "    final_answer: str"
   ]
  },
  {
   "cell_type": "markdown",
   "metadata": {},
   "source": [
    "`(2) 벡터저장소 검색 도구`\n",
    "- 메뉴 검색을 위한 벡터저장소를 초기화 (기존 저장소를 로드)"
   ]
  },
  {
   "cell_type": "code",
   "execution_count": 12,
   "metadata": {},
   "outputs": [],
   "source": [
    "from langchain_community.vectorstores import FAISS\n",
    "from langchain_ollama  import OllamaEmbeddings\n",
    "\n",
    "embeddings_model = OllamaEmbeddings(model=\"bge-m3:latest\") \n",
    "\n",
    "# menu db 벡터 저장소 로드\n",
    "menu_db = FAISS.load_local(\n",
    "    \"./db/menu_db\", \n",
    "    embeddings_model, \n",
    "    allow_dangerous_deserialization=True\n",
    ")"
   ]
  },
  {
   "cell_type": "markdown",
   "metadata": {},
   "source": [
    "`(3) 노드(Node)`"
   ]
  },
  {
   "cell_type": "code",
   "execution_count": 13,
   "metadata": {},
   "outputs": [],
   "source": [
    "from langchain_core.prompts import ChatPromptTemplate\n",
    "from langchain_core.output_parsers import StrOutputParser\n",
    "from langchain_openai import ChatOpenAI\n",
    "\n",
    "# LLM 모델 \n",
    "#llm = ChatOpenAI(model=\"gpt-4o-mini\")\n",
    "llm = ChatOpenAI(\n",
    "    #api_key=OPENAI_API_KEY,\n",
    "    base_url=\"https://api.groq.com/openai/v1\",  # Groq API 엔드포인트\n",
    "    model=\"meta-llama/llama-4-scout-17b-16e-instruct\",\n",
    "    temperature=0.7\n",
    ")\n",
    "\n",
    "def get_user_query(state: MenuState) -> MenuState:\n",
    "    user_query = input(\"무엇을 도와드릴까요? \")\n",
    "    return {\"user_query\": user_query}\n",
    "\n",
    "def analyze_input(state: MenuState) -> MenuState:\n",
    "    analyze_template = \"\"\"\n",
    "    사용자의 입력을 분석하여 레스토랑 메뉴 추천이나 음식 정보에 관한 질문인지 판단하세요.\n",
    "\n",
    "    사용자 입력: {user_query}\n",
    "\n",
    "    레스토랑 메뉴나 음식 정보에 관한 질문이면 \"True\", 아니면 \"False\"로 답변하세요.\n",
    "\n",
    "    답변:\n",
    "    \"\"\"\n",
    "    analyze_prompt = ChatPromptTemplate.from_template(analyze_template)\n",
    "    analyze_chain = analyze_prompt | llm | StrOutputParser()\n",
    "    \n",
    "    result = analyze_chain.invoke({\"user_query\": state['user_query']})\n",
    "    print(result)\n",
    "    is_menu_related = result.strip().lower() == \"true\"\n",
    "    \n",
    "    return {\"is_menu_related\": is_menu_related}\n",
    "\n",
    "def search_menu_info(state: MenuState) -> MenuState:\n",
    "    # 벡터저장소에서 최대 4개의 문서를 검색 \n",
    "    results = menu_db.similarity_search(state['user_query'], k=4)\n",
    "    search_results = [doc.page_content for doc in results]\n",
    "    return {\"search_results\": search_results}\n",
    "\n",
    "def generate_menu_response(state: MenuState) -> MenuState:\n",
    "    response_template = \"\"\"\n",
    "    사용자 입력: {user_query}\n",
    "    메뉴 관련 검색 결과: {search_results}\n",
    "\n",
    "    위 정보를 바탕으로 사용자의 메뉴 관련 질문에 대한 상세한 답변을 생성하세요. \n",
    "    검색 결과의 정보를 활용하여 정확하고 유용한 정보를 제공하세요.\n",
    "\n",
    "    답변:\n",
    "    \"\"\"\n",
    "    response_prompt = ChatPromptTemplate.from_template(response_template)\n",
    "    response_chain = response_prompt | llm | StrOutputParser()\n",
    "    \n",
    "    final_answer = response_chain.invoke({\n",
    "        \"user_query\": state['user_query'], \n",
    "        \"search_results\": state['search_results']})\n",
    "    print(f\"\\n메뉴 어시스턴트: {final_answer}\")\n",
    "    \n",
    "    return {\"final_answer\": final_answer}\n",
    "\n",
    "def generate_general_response(state: MenuState) -> MenuState:\n",
    "    response_template = \"\"\"\n",
    "    사용자 입력: {user_query}\n",
    "\n",
    "    위 입력은 레스토랑 메뉴나 음식과 관련이 없습니다. \n",
    "    일반적인 대화 맥락에서 적절한 답변을 생성하세요.\n",
    "\n",
    "    답변:\n",
    "    \"\"\"\n",
    "    response_prompt = ChatPromptTemplate.from_template(response_template)\n",
    "    response_chain = response_prompt | llm | StrOutputParser()\n",
    "    \n",
    "    final_answer = response_chain.invoke({\"user_query\": state['user_query']})\n",
    "    print(f\"\\n일반 어시스턴트: {final_answer}\")\n",
    "    \n",
    "    return {\"final_answer\": final_answer}"
   ]
  },
  {
   "cell_type": "markdown",
   "metadata": {},
   "source": [
    "`(4) 엣지(Edge)`"
   ]
  },
  {
   "cell_type": "code",
   "execution_count": 15,
   "metadata": {},
   "outputs": [],
   "source": [
    "from typing import Literal\n",
    "\n",
    "def decide_next_step(state: MenuState) -> Literal[\"search_menu_info\", \"generate_general_response\"]:\n",
    "    if state['is_menu_related']:\n",
    "        return \"search_menu_info\"  \n",
    "    else:\n",
    "        return \"generate_general_response\""
   ]
  },
  {
   "cell_type": "markdown",
   "metadata": {},
   "source": [
    "`(5) 그래프(Graph) 구성`"
   ]
  },
  {
   "cell_type": "code",
   "execution_count": 16,
   "metadata": {},
   "outputs": [],
   "source": [
    "from langgraph.graph import StateGraph, START, END\n",
    "\n",
    "# 그래프 구성\n",
    "builder = StateGraph(MenuState)\n",
    "\n",
    "# 노드 추가\n",
    "builder.add_node(\"get_user_query\", get_user_query)\n",
    "builder.add_node(\"analyze_input\", analyze_input)\n",
    "builder.add_node(\"search_menu_info\", search_menu_info)\n",
    "builder.add_node(\"generate_menu_response\", generate_menu_response)\n",
    "builder.add_node(\"generate_general_response\", generate_general_response)\n",
    "\n",
    "# 엣지 추가\n",
    "builder.add_edge(START, \"get_user_query\")\n",
    "builder.add_edge(\"get_user_query\", \"analyze_input\")\n",
    "\n",
    "# 조건부 엣지 추가\n",
    "builder.add_conditional_edges(\n",
    "    \"analyze_input\",\n",
    "    decide_next_step,\n",
    "    {\n",
    "        \"search_menu_info\": \"search_menu_info\",\n",
    "        \"generate_general_response\": \"generate_general_response\"\n",
    "    }\n",
    ")\n",
    "\n",
    "builder.add_edge(\"search_menu_info\", \"generate_menu_response\")\n",
    "builder.add_edge(\"generate_menu_response\", END)\n",
    "builder.add_edge(\"generate_general_response\", END)\n",
    "\n",
    "# 그래프 컴파일\n",
    "graph = builder.compile()"
   ]
  },
  {
   "cell_type": "code",
   "execution_count": 17,
   "metadata": {},
   "outputs": [
    {
     "data": {
      "image/png": "[encoded data removed]",
      "text/plain": [
       "<IPython.core.display.Image object>"
      ]
     },
     "metadata": {},
     "output_type": "display_data"
    }
   ],
   "source": [
    "from IPython.display import Image, display\n",
    "\n",
    "# 그래프 시각화\n",
    "display(Image(graph.get_graph().draw_mermaid_png()))"
   ]
  },
  {
   "cell_type": "markdown",
   "metadata": {},
   "source": [
    "`(6) Graph 실행`"
   ]
  },
  {
   "cell_type": "code",
   "execution_count": 18,
   "metadata": {},
   "outputs": [
    {
     "name": "stdout",
     "output_type": "stream",
     "text": [
      "True\n",
      "\n",
      "메뉴 어시스턴트: 시그니처 스테이크의 가격은 35,000원입니다. 이 메뉴는 21일간 건조 숙성한 최상급 한우 등심을 사용하며, 미디엄 레어로 조리하여 육즙을 최대한 보존합니다. 또한 로즈메리 향의 감자와 아삭한 그릴드 아스파라거스가 곁들여지고, 레드와인 소스와 함께 제공되어 풍부한 맛을 즐길 수 있습니다.\n",
      "True\n",
      "\n",
      "메뉴 어시스턴트: 네, 가든 샐러드와 안심 스테이크 샐러드 두 가지 샐러드 메뉴가 있습니다. \n",
      "\n",
      "가든 샐러드는 신선한 유기농 채소들로 구성된 건강한 샐러드로, 유기농 믹스 그린, 체리 토마토, 오이, 당근이 포함되어 있으며, 특제 발사믹 드레싱이 채소 본연의 맛을 살려줍니다. 가격은 12,000원입니다.\n",
      "\n",
      "안심 스테이크 샐러드는 부드러운 안심 스테이크를 얇게 슬라이스하여 신선한 루꼴라 위에 올린 메인 요리 샐러드로, 체리 토마토와 파마산 치즈 플레이크로 풍미를 더하고, 발사믹 글레이즈로 마무리하여 고기의 풍미를 한층 끌어올렸습니다. 가격은 26,000원입니다. \n",
      "\n",
      "두 샐러드 모두를 드셔보시면 어떨까요?\n",
      "대화를 종료합니다. 감사합니다!\n"
     ]
    }
   ],
   "source": [
    "while True:\n",
    "    initial_state = {'user_query':''}\n",
    "    graph.invoke(initial_state) \n",
    "    continue_chat = input(\"다른 질문이 있으신가요? (y/n): \").lower()\n",
    "    if continue_chat != 'y':\n",
    "        print(\"대화를 종료합니다. 감사합니다!\")\n",
    "        break"
   ]
  }
 ],
 "metadata": {
  "kernelspec": {
   "display_name": "langchain-basic-kGdHTiMZ-py3.12",
   "language": "python",
   "name": "python3"
  },
  "language_info": {
   "codemirror_mode": {
    "name": "ipython",
    "version": 3
   },
   "file_extension": ".py",
   "mimetype": "text/x-python",
   "name": "python",
   "nbconvert_exporter": "python",
   "pygments_lexer": "ipython3",
   "version": "3.12.7"
  }
 },
 "nbformat": 4,
 "nbformat_minor": 2
}
