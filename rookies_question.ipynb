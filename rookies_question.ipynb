{
 "cells": [
  {
   "cell_type": "markdown",
   "id": "d1532373",
   "metadata": {},
   "source": [
    "### 1-1번 기본 체인 만들기 -AI 요리사"
   ]
  },
  {
   "cell_type": "code",
   "execution_count": 7,
   "id": "3feb0da4",
   "metadata": {},
   "outputs": [
    {
     "name": "stdout",
     "output_type": "stream",
     "text": [
      "Hello LangChain\n"
     ]
    }
   ],
   "source": [
    "print('Hello LangChain')"
   ]
  },
  {
   "cell_type": "code",
   "execution_count": 8,
   "id": "6f98dd02",
   "metadata": {},
   "outputs": [],
   "source": [
    "import os\n",
    "from dotenv import load_dotenv\n",
    "from langchain_core.prompts import PromptTemplate\n",
    "from langchain_openai import ChatOpenAI \n",
    "\n",
    "load_dotenv()\n",
    "\n",
    "OPENAI_API_KEY = os.getenv(\"OPENAI_API_KEY\")\n",
    "\n",
    "#print(OPENAI_API_KEY)"
   ]
  },
  {
   "cell_type": "code",
   "execution_count": 9,
   "id": "4d5c5b1f",
   "metadata": {},
   "outputs": [],
   "source": [
    "prompt = PromptTemplate(\n",
    "    input_variables=[\"input\"],\n",
    "    template=\"당신은 요리사입니다. 다음 재료로 만들 수 있는 요리를 추천해줘:\\n\\n{input}\"\n",
    ")"
   ]
  },
  {
   "cell_type": "code",
   "execution_count": 10,
   "id": "8de31bc4",
   "metadata": {},
   "outputs": [],
   "source": [
    "formatted_prompt = prompt.format(input=\"계란과 밥 김치로 만들 수 있는 요리를 추천해줘\")"
   ]
  },
  {
   "cell_type": "code",
   "execution_count": 13,
   "id": "5c975600",
   "metadata": {},
   "outputs": [
    {
     "name": "stdout",
     "output_type": "stream",
     "text": [
      "오류 발생: name 'llm' is not defined\n"
     ]
    }
   ],
   "source": [
    "try:\n",
    "    response = llm.invoke(messages)  # 또는 prompt_text\n",
    "    print(type(response))\n",
    "    print(\"전체 응답:\", response)\n",
    "\n",
    "    # 응답 객체가 content 속성을 가지는 경우만 출력\n",
    "    if hasattr(response, \"content\"):\n",
    "        print(\"응답 내용:\", response.content)\n",
    "except Exception as e:\n",
    "    print(f\"오류 발생: {e}\")\n"
   ]
  },
  {
   "cell_type": "markdown",
   "id": "5c5a2c97",
   "metadata": {},
   "source": [
    "### 1-2 2단계 체인 만들기 - 영화 추천 시스템\n",
    "* 문제 설명 : 사용자가 좋아하는 장르를 입력하면, 영화를 추천하고 그영화의 정보(감독, 줄거리, 등장인물)들을 알려주는 2단계 체인을 구현해보세요."
   ]
  },
  {
   "cell_type": "code",
   "execution_count": 37,
   "id": "647e7e0e",
   "metadata": {},
   "outputs": [],
   "source": [
    "import os\n",
    "from dotenv import load_dotenv\n",
    "from langchain_core.prompts import ChatPromptTemplate\n",
    "from langchain_openai import ChatOpenAI \n",
    "\n",
    "load_dotenv()\n",
    "\n",
    "OPENAI_API_KEY = os.getenv(\"OPENAI_API_KEY\")\n",
    "\n",
    "#print(OPENAI_API_KEY)"
   ]
  },
  {
   "cell_type": "code",
   "execution_count": null,
   "id": "82efb5e1",
   "metadata": {},
   "outputs": [
    {
     "name": "stdout",
     "output_type": "stream",
     "text": [
      "input_variables=['input'] input_types={} partial_variables={} messages=[SystemMessagePromptTemplate(prompt=PromptTemplate(input_variables=[], input_types={}, partial_variables={}, template='당신은 영화감평사 입니다.'), additional_kwargs={}), HumanMessagePromptTemplate(prompt=PromptTemplate(input_variables=['input'], input_types={}, partial_variables={}, template='{input}'), additional_kwargs={})]\n"
     ]
    }
   ],
   "source": [
    "# prompt\n",
    "prompt = ChatPromptTemplate.from_messages(\n",
    "    [ (\"system\", \"당신은 영화감평사 입니다. 장르에 맞는 최고의 영화를 추천하고 이유를 설명해주세요.\") , \n",
    "     (\"human\", \"{input}\") ]\n",
    ")\n",
    "print(prompt)\n",
    "\n",
    "prompt_text = prompt.format(input=\"\")"
   ]
  },
  {
   "cell_type": "code",
   "execution_count": null,
   "id": "78afa474",
   "metadata": {},
   "outputs": [],
   "source": []
  }
 ],
 "metadata": {
  "kernelspec": {
   "display_name": "langchain-basic-kGdHTiMZ-py3.13",
   "language": "python",
   "name": "python3"
  },
  "language_info": {
   "codemirror_mode": {
    "name": "ipython",
    "version": 3
   },
   "file_extension": ".py",
   "mimetype": "text/x-python",
   "name": "python",
   "nbconvert_exporter": "python",
   "pygments_lexer": "ipython3",
   "version": "3.13.4"
  }
 },
 "nbformat": 4,
 "nbformat_minor": 5
}
