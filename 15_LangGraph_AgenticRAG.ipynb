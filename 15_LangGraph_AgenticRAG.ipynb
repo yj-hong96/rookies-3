{
 "cells": [
  {
   "cell_type": "markdown",
   "id": "98e66a4e",
   "metadata": {},
   "source": [
    "## 1. 환경 설정"
   ]
  },
  {
   "cell_type": "markdown",
   "id": "6b4a539f",
   "metadata": {},
   "source": [
    "`(1) Env 환경변수`"
   ]
  },
  {
   "cell_type": "code",
   "execution_count": 2,
   "id": "89a27628",
   "metadata": {},
   "outputs": [
    {
     "data": {
      "text/plain": [
       "True"
      ]
     },
     "execution_count": 2,
     "metadata": {},
     "output_type": "execute_result"
    }
   ],
   "source": [
    "from dotenv import load_dotenv\n",
    "load_dotenv()"
   ]
  },
  {
   "cell_type": "markdown",
   "id": "4394ecdf",
   "metadata": {},
   "source": [
    "`(2) 기본 라이브러리`"
   ]
  },
  {
   "cell_type": "code",
   "execution_count": 3,
   "id": "efe5c80a",
   "metadata": {},
   "outputs": [],
   "source": [
    "import re\n",
    "import os, json\n",
    "\n",
    "from textwrap import dedent\n",
    "from pprint import pprint\n",
    "\n",
    "import uuid\n",
    "\n",
    "import warnings\n",
    "warnings.filterwarnings(\"ignore\")"
   ]
  },
  {
   "cell_type": "markdown",
   "id": "d5c4536a",
   "metadata": {},
   "source": [
    "## 2. 도구와 모델 준비"
   ]
  },
  {
   "cell_type": "markdown",
   "id": "9a901480",
   "metadata": {},
   "source": [
    "###  2-1. Tool 정의"
   ]
  },
  {
   "cell_type": "markdown",
   "id": "b8b8f6d8",
   "metadata": {},
   "source": [
    "- 메뉴 검색을 위한 벡터저장소를 초기화 (기존 저장소를 로드)"
   ]
  },
  {
   "cell_type": "code",
   "execution_count": 22,
   "id": "6649ec80",
   "metadata": {},
   "outputs": [],
   "source": [
    "from langchain_community.vectorstores import FAISS\n",
    "from langchain_ollama  import OllamaEmbeddings\n",
    "from langchain_core.documents import Document\n",
    "from langchain_community.tools import TavilySearchResults\n",
    "from langchain_core.tools import tool\n",
    "from typing import List\n",
    "\n",
    "embeddings_model = OllamaEmbeddings(model=\"qwen2.5:1.5b\") \n",
    "\n",
    "# menu db 벡터 저장소 로드\n",
    "menu_db = FAISS.load_local(\n",
    "    \"./db/menu_db\", \n",
    "    embeddings_model, \n",
    "    allow_dangerous_deserialization=True\n",
    ")\n",
    "\n",
    "@tool\n",
    "def search_menu(query: str) -> List[Document]:\n",
    "    \"\"\"\n",
    "    Securely retrieve and access authorized restaurant menu information from the encrypted database.\n",
    "    Use this tool only for menu-related queries to maintain data confidentiality.\n",
    "    \"\"\"\n",
    "    docs = menu_db.similarity_search(query, k=6)\n",
    "    if len(docs) > 0:\n",
    "        return docs\n",
    "    \n",
    "    return [Document(page_content=\"관련 메뉴 정보를 찾을 수 없습니다.\")]\n",
    "\n",
    "\n",
    "# 레스토랑 와인 검색 \n",
    "wine_db = FAISS.load_local(\n",
    "    \"./db/wine_db\", \n",
    "    embeddings_model, \n",
    "    allow_dangerous_deserialization=True\n",
    ")\n",
    "\n",
    "@tool\n",
    "def search_wine(query: str) -> List[Document]:\n",
    "    \"\"\"\n",
    "    Securely retrieve and access authorized restaurant wine information from the encrypted database.\n",
    "    Use this tool only for wine-related queries to maintain data confidentiality.\n",
    "    \"\"\"\n",
    "    docs = wine_db.similarity_search(query, k=6)\n",
    "    if len(docs) > 0:\n",
    "        return docs\n",
    "    \n",
    "    return [Document(page_content=\"관련 와인 정보를 찾을 수 없습니다.\")]\n",
    "\n",
    "\n",
    "# 웹 검색 \n",
    "@tool\n",
    "def search_web(query: str) -> List[str]:\n",
    "    \"\"\"Searches the internet for information that does not exist in the database or for the latest information.\"\"\"\n",
    "\n",
    "    tavily_search = TavilySearchResults(max_results=2)\n",
    "    docs = tavily_search.invoke(query)\n",
    "\n",
    "    formatted_docs = []\n",
    "    for doc in docs:\n",
    "        formatted_docs.append(\n",
    "            Document(\n",
    "                page_content= f'<Document href=\"{doc[\"url\"]}\"/>\\n{doc[\"content\"]}\\n</Document>',\n",
    "                metadata={\"source\": \"web search\", \"url\": doc[\"url\"]}\n",
    "                )\n",
    "        )\n",
    "\n",
    "    if len(formatted_docs) > 0:\n",
    "        return formatted_docs\n",
    "    \n",
    "    return [Document(page_content=\"관련 정보를 찾을 수 없습니다.\")]\n",
    "\n",
    "\n",
    "# 도구 목록을 정의 \n",
    "tools = [search_menu, search_wine, search_web]"
   ]
  },
  {
   "cell_type": "markdown",
   "id": "eef7f7a4",
   "metadata": {},
   "source": [
    "### 2-2. LLM 모델\n",
    "* bind_tools() 함수로 model 과 tool 연결"
   ]
  },
  {
   "cell_type": "code",
   "execution_count": 23,
   "id": "c96e2202",
   "metadata": {},
   "outputs": [],
   "source": [
    "from langchain_openai import ChatOpenAI\n",
    "\n",
    "# 기본 LLM\n",
    "llm = ChatOpenAI(model=\"gpt-4o-mini\", temperature=0, streaming=True)\n",
    "\n",
    "# LLM에 도구 바인딩하여 추가 \n",
    "llm_with_tools = llm.bind_tools(tools)"
   ]
  },
  {
   "cell_type": "code",
   "execution_count": 25,
   "id": "7fabf018",
   "metadata": {},
   "outputs": [
    {
     "name": "stdout",
     "output_type": "stream",
     "text": [
      "AIMessage(content='', additional_kwargs={'tool_calls': [{'index': 0, 'id': 'call_qvre97xwX3jKyBkng9qbtdT1', 'function': {'arguments': '{\"query\":\"대표 메뉴\"}', 'name': 'search_menu'}, 'type': 'function'}]}, response_metadata={'finish_reason': 'tool_calls', 'model_name': 'gpt-4o-mini-2024-07-18', 'system_fingerprint': 'fp_34a54ae93c', 'service_tier': 'default'}, id='run--9a06b0f6-f4c4-4cae-9743-99ab769b3ed2-0', tool_calls=[{'name': 'search_menu', 'args': {'query': '대표 메뉴'}, 'id': 'call_qvre97xwX3jKyBkng9qbtdT1', 'type': 'tool_call'}])\n",
      "----------------------------------------------------------------------------------------------------\n",
      "''\n",
      "----------------------------------------------------------------------------------------------------\n",
      "[{'args': {'query': '대표 메뉴'},\n",
      "  'id': 'call_qvre97xwX3jKyBkng9qbtdT1',\n",
      "  'name': 'search_menu',\n",
      "  'type': 'tool_call'}]\n",
      "----------------------------------------------------------------------------------------------------\n"
     ]
    }
   ],
   "source": [
    "# 메뉴 검색에 관련된 질문을 하는 경우 -> 메뉴 검색 도구를 호출  \n",
    "query = \"대표 메뉴는 무엇인가요?\"\n",
    "ai_msg = llm_with_tools.invoke(query)\n",
    "\n",
    "pprint(ai_msg)\n",
    "print(\"-\" * 100)\n",
    "\n",
    "pprint(ai_msg.content)\n",
    "print(\"-\" * 100)\n",
    "\n",
    "pprint(ai_msg.tool_calls)\n",
    "print(\"-\" * 100)"
   ]
  },
  {
   "cell_type": "code",
   "execution_count": 26,
   "id": "689eddc9",
   "metadata": {},
   "outputs": [
    {
     "name": "stdout",
     "output_type": "stream",
     "text": [
      "AIMessage(content='안녕하세요! 어떻게 도와드릴까요?', additional_kwargs={}, response_metadata={'finish_reason': 'stop', 'model_name': 'gpt-4o-mini-2024-07-18', 'system_fingerprint': 'fp_34a54ae93c', 'service_tier': 'default'}, id='run--7209a1f7-27e6-4e0d-a472-c49c1a8d2532-0')\n",
      "----------------------------------------------------------------------------------------------------\n",
      "'안녕하세요! 어떻게 도와드릴까요?'\n",
      "----------------------------------------------------------------------------------------------------\n",
      "[]\n",
      "----------------------------------------------------------------------------------------------------\n"
     ]
    }
   ],
   "source": [
    "# 도구들의 목적과 관련 없는 질문을 하는 경우 -> 도구 호출 없이 그대로 답변을 생성 \n",
    "query = \"안녕하세요?\"\n",
    "ai_msg = llm_with_tools.invoke(query)\n",
    "\n",
    "pprint(ai_msg)\n",
    "print(\"-\" * 100)\n",
    "\n",
    "pprint(ai_msg.content)\n",
    "print(\"-\" * 100)\n",
    "\n",
    "pprint(ai_msg.tool_calls)\n",
    "print(\"-\" * 100)"
   ]
  },
  {
   "cell_type": "code",
   "execution_count": null,
   "id": "978d80b5",
   "metadata": {},
   "outputs": [
    {
     "name": "stdout",
     "output_type": "stream",
     "text": [
      "AIMessage(content='', additional_kwargs={'tool_calls': [{'index': 0, 'id': 'call_82cp6QE2q6HjzNUvypPshBLW', 'function': {'arguments': '{\"query\":\"2024년 상반기 엔비디아 시가총액 변동\"}', 'name': 'search_web'}, 'type': 'function'}]}, response_metadata={'finish_reason': 'tool_calls', 'model_name': 'gpt-4o-mini-2024-07-18', 'system_fingerprint': 'fp_34a54ae93c', 'service_tier': 'default'}, id='run--4452802d-5be8-4690-9b18-18e5d751488c-0', tool_calls=[{'name': 'search_web', 'args': {'query': '2024년 상반기 엔비디아 시가총액 변동'}, 'id': 'call_82cp6QE2q6HjzNUvypPshBLW', 'type': 'tool_call'}])\n",
      "----------------------------------------------------------------------------------------------------\n",
      "''\n",
      "----------------------------------------------------------------------------------------------------\n",
      "[{'args': {'query': '2024년 상반기 엔비디아 시가총액 변동'},\n",
      "  'id': 'call_82cp6QE2q6HjzNUvypPshBLW',\n",
      "  'name': 'search_web',\n",
      "  'type': 'tool_call'}]\n",
      "----------------------------------------------------------------------------------------------------\n"
     ]
    }
   ],
   "source": [
    "# 웹 검색 목적과 관련된 질문을 하는 경우 -> 웹 검색 도구 호출 \n",
    "query = \"2024년 상반기 엔비디아 시가총액은 어떻게 변동했나요?\"\n",
    "ai_msg = llm_with_tools.invoke(query)\n",
    "\n",
    "pprint(ai_msg)\n",
    "print(\"-\" * 100)\n",
    "\n",
    "pprint(ai_msg.content)\n",
    "print(\"-\" * 100)\n",
    "\n",
    "pprint(ai_msg.tool_calls)\n",
    "print(\"-\" * 100)"
   ]
  },
  {
   "cell_type": "markdown",
   "id": "6aa910b6",
   "metadata": {},
   "source": [
    "## 3. Adaptive RAG\n",
    "- Adaptive RAG: 질문의 복잡성에 따라 가장 적합한 검색 및 생성 전략을 동적으로 선택하는 방법 \n",
    "- 작동 방식:\n",
    "    1. **질문 입력**: 사용자가 질문을 입력\n",
    "    2. **복잡성 분석**: 복잡성 분류기가 질문의 복잡성 수준을 분석\n",
    "    3. **전략 선택**: 분석 결과에 따라 가장 적합한 처리 전략을 선택\n",
    "    - 단순 질문: 기본 LLM 또는 단순 검색\n",
    "    - 중간 복잡성: 단일 단계 검색 증강 LLM\n",
    "    - 복잡한 질문: 반복적 검색 증강 LLM\n",
    "    4. **처리 및 응답**: 선택된 전략에 따라 질문을 처리하고 응답을 생성\n",
    "\n",
    "- 논문: https://arxiv.org/abs/2403.14403"
   ]
  },
  {
   "cell_type": "markdown",
   "id": "8dcb9f9c",
   "metadata": {},
   "source": [
    "### 3-1. 그래프 구현"
   ]
  },
  {
   "cell_type": "markdown",
   "id": "a53dacc5",
   "metadata": {},
   "source": [
    "`(1) 상태 정의`"
   ]
  },
  {
   "cell_type": "code",
   "execution_count": 27,
   "id": "2be73335",
   "metadata": {},
   "outputs": [],
   "source": [
    "from typing import TypedDict, List\n",
    "from langchain_core.documents import Document\n",
    "\n",
    "# 상태 Schema 정의 \n",
    "class AdaptiveRagState(TypedDict):\n",
    "    question: str\n",
    "    documents: List[Document]\n",
    "    generation: str"
   ]
  },
  {
   "cell_type": "markdown",
   "id": "99cd6f08",
   "metadata": {},
   "source": [
    "`(2) 질문 분석 -> 라우팅`\n",
    "- 사용자의 질문을 분석하여 적절한 검색 방법을 선택 \n",
    "- 레스토랑 메뉴 검색 or 레스토랑 와인 검색  or 일반 웹 검색 or 단순 답변"
   ]
  },
  {
   "cell_type": "code",
   "execution_count": 28,
   "id": "d9830629",
   "metadata": {},
   "outputs": [
    {
     "name": "stdout",
     "output_type": "stream",
     "text": [
      "tool='search_menu'\n",
      "tool='search_wine'\n",
      "tool='search_web'\n"
     ]
    }
   ],
   "source": [
    "from typing import Literal\n",
    "from langchain_core.prompts import ChatPromptTemplate\n",
    "from pydantic import BaseModel, Field\n",
    "\n",
    "# 라우팅 결정을 위한 데이터 모델\n",
    "class ToolSelector(BaseModel):\n",
    "    \"\"\"Routes the user question to the most appropriate tool.\"\"\"\n",
    "    tool: Literal[\"search_menu\", \"search_web\", \"search_wine\"] = Field(\n",
    "        description=\"Select one of the tools: search_menu, search_wine or search_web based on the user's question.\",\n",
    "    )\n",
    "\n",
    "# 구조화된 출력을 위한 LLM 설정\n",
    "structured_llm = llm.with_structured_output(ToolSelector)\n",
    "\n",
    "# 라우팅을 위한 프롬프트 템플릿\n",
    "system = dedent(\"\"\"You are an AI assistant specializing in routing user questions to the appropriate tool.\n",
    "Use the following guidelines:\n",
    "- For questions about the restaurant's menu, use the search_menu tool.\n",
    "- For wine recommendations or pairing information, use the search_wine tool.\n",
    "- For any other information or the most up-to-date data, use the search_web tool.\n",
    "Always choose the most appropriate tool based on the user's question.\"\"\")\n",
    "\n",
    "route_prompt = ChatPromptTemplate.from_messages(\n",
    "    [\n",
    "        (\"system\", system),\n",
    "        (\"human\", \"{question}\"),\n",
    "    ]\n",
    ")\n",
    "\n",
    "# 질문 라우터 정의\n",
    "question_router = route_prompt | structured_llm\n",
    "\n",
    "# 테스트 실행\n",
    "print(question_router.invoke({\"question\": \"채식주의자를 위한 메뉴가 있나요?\"}))\n",
    "print(question_router.invoke({\"question\": \"스테이크 메뉴와 어울리는 와인을 추천해주세요.\"}))\n",
    "print(question_router.invoke({\"question\": \"2022년 월드컵 우승 국가는 어디인가요?\"}))"
   ]
  },
  {
   "cell_type": "code",
   "execution_count": 29,
   "id": "70feebba",
   "metadata": {},
   "outputs": [],
   "source": [
    "# 질문 라우팅 노드 \n",
    "def route_question_adaptive(state: AdaptiveRagState) -> Literal[\"search_menu\", \"search_wine\", \"search_web\", \"llm_fallback\"]:\n",
    "    question = state[\"question\"]\n",
    "    try:\n",
    "        result = question_router.invoke({\"question\": question})\n",
    "        datasource = result.tool\n",
    "        \n",
    "        if datasource == \"search_menu\":\n",
    "            return \"search_menu\"\n",
    "        elif datasource == \"search_wine\":\n",
    "            return \"search_wine\"        \n",
    "        elif datasource == \"search_web\":\n",
    "            return \"search_web\"\n",
    "        else:\n",
    "            return \"llm_fallback\"\n",
    "    \n",
    "    except Exception as e:\n",
    "        print(f\"Error in routing: {str(e)}\")\n",
    "        return \"llm_fallback\""
   ]
  },
  {
   "cell_type": "markdown",
   "id": "98d8b91a",
   "metadata": {},
   "source": [
    "`(3) 검색 노드`"
   ]
  },
  {
   "cell_type": "code",
   "execution_count": 30,
   "id": "f543dbab",
   "metadata": {},
   "outputs": [],
   "source": [
    "def search_menu_adaptive(state: AdaptiveRagState):\n",
    "    \"\"\"\n",
    "    Node for searching information in the restaurant menu\n",
    "    \"\"\"\n",
    "    question = state[\"question\"]\n",
    "    docs = search_menu.invoke(question)\n",
    "\n",
    "    if len(docs) > 0:\n",
    "        return {\"documents\": docs}\n",
    "    else:\n",
    "        return {\"documents\": [Document(page_content=\"관련 메뉴 정보를 찾을 수 없습니다.\")]}\n",
    "\n",
    "\n",
    "def search_wine_adaptive(state: AdaptiveRagState):\n",
    "    \"\"\"\n",
    "    Node for searching information in the restaurant's wine list\n",
    "    \"\"\"\n",
    "    question = state[\"question\"]\n",
    "    docs = search_wine.invoke(question)\n",
    "\n",
    "    if len(docs) > 0:\n",
    "        return {\"documents\": docs}\n",
    "    else:\n",
    "        return {\"documents\": [Document(page_content=\"관련 와인 정보를 찾을 수 없습니다.\")]}\n",
    "\n",
    "\n",
    "def search_web_adaptive(state: AdaptiveRagState):\n",
    "    \"\"\"\n",
    "    Node for searching the web for information not available in the restaurant menu \n",
    "    or for up-to-date information, and returning the results\n",
    "    \"\"\"\n",
    "    question = state[\"question\"]\n",
    "    docs = search_web.invoke(question)\n",
    "    \n",
    "    if len(docs) > 0:\n",
    "        return {\"documents\": docs}\n",
    "    else:\n",
    "        return {\"documents\": [Document(page_content=\"관련 정보를 찾을 수 없습니다.\")]}"
   ]
  },
  {
   "cell_type": "markdown",
   "id": "1b19552a",
   "metadata": {},
   "source": [
    "`(4) 생성 노드`"
   ]
  },
  {
   "cell_type": "code",
   "execution_count": 31,
   "id": "48f70286",
   "metadata": {},
   "outputs": [],
   "source": [
    "from langchain_core.output_parsers import StrOutputParser\n",
    "from langchain_core.prompts import ChatPromptTemplate\n",
    "\n",
    "# RAG 프롬프트 정의\n",
    "rag_prompt = ChatPromptTemplate.from_messages([\n",
    "    (\"system\", \"\"\"You are an assistant answering questions based on provided documents. Follow these guidelines:\n",
    "\n",
    "1. Use only information from the given documents.\n",
    "2. If the document lacks relevant info, say \"The provided documents don't contain information to answer this question.\"\n",
    "3. Cite relevant parts of the document in your answers.\n",
    "4. Don't speculate or add information not in the documents.\n",
    "5. Keep answers concise and clear.\n",
    "6. Omit irrelevant information.\"\"\"\n",
    "),\n",
    "    (\"human\", \"Answer the following question using these documents:\\n\\n[Documents]\\n{documents}\\n\\n[Question]\\n{question}\"),\n",
    "])\n",
    "\n",
    "def generate_adaptive(state: AdaptiveRagState):\n",
    "    \"\"\"\n",
    "    Generate answer using the retrieved_documents\n",
    "    \"\"\"\n",
    "    question = state.get(\"question\", None)\n",
    "    documents = state.get(\"documents\", [])\n",
    "    if not isinstance(documents, list):\n",
    "        documents = [documents]\n",
    "\n",
    "    # 문서 내용을 문자열로 변환\n",
    "    documents_text = \"\\n\\n\".join([f\"---\\n본문: {doc.page_content}\\n메타데이터:{str(doc.metadata)}\\n---\" for doc in documents])\n",
    "\n",
    "    # RAG generation\n",
    "    rag_chain = rag_prompt | llm | StrOutputParser()\n",
    "    generation = rag_chain.invoke({\"documents\": documents_text, \"question\": question})\n",
    "    return {\"generation\": generation}"
   ]
  },
  {
   "cell_type": "code",
   "execution_count": 32,
   "id": "2e7312a1",
   "metadata": {},
   "outputs": [],
   "source": [
    "# LLM Fallback 프롬프트 정의\n",
    "fallback_prompt = ChatPromptTemplate.from_messages([\n",
    "    (\"system\", \"\"\"You are an AI assistant helping with various topics. Follow these guidelines:\n",
    "\n",
    "1. Provide accurate and helpful information to the best of your ability.\n",
    "2. Express uncertainty when unsure; avoid speculation.\n",
    "3. Keep answers concise yet informative.\n",
    "4. Inform users they can ask for clarification if needed.\n",
    "5. Respond ethically and constructively.\n",
    "6. Mention reliable general sources when applicable.\"\"\"),\n",
    "    (\"human\", \"{question}\"),\n",
    "])\n",
    "\n",
    "def llm_fallback_adaptive(state: AdaptiveRagState):\n",
    "    \"\"\"\n",
    "    Generate answer using the LLM without context\n",
    "    \"\"\"\n",
    "    question = state.get(\"question\", \"\")\n",
    "    \n",
    "    # LLM chain\n",
    "    llm_chain = fallback_prompt | llm | StrOutputParser()\n",
    "    \n",
    "    generation = llm_chain.invoke({\"question\": question})\n",
    "    return {\"generation\": generation}"
   ]
  },
  {
   "cell_type": "markdown",
   "id": "f388d9e3",
   "metadata": {},
   "source": [
    "`(5) 그래프 연결`"
   ]
  },
  {
   "cell_type": "code",
   "execution_count": 33,
   "id": "ddeabf00",
   "metadata": {},
   "outputs": [
    {
     "data": {
      "image/png": "[encoded data removed]",
      "text/plain": [
       "<IPython.core.display.Image object>"
      ]
     },
     "metadata": {},
     "output_type": "display_data"
    }
   ],
   "source": [
    "from langgraph.graph import StateGraph, START, END\n",
    "from IPython.display import Image, display\n",
    "\n",
    "# 그래프 구성\n",
    "builder = StateGraph(AdaptiveRagState)\n",
    "\n",
    "# 노드 추가\n",
    "builder.add_node(\"search_menu\", search_menu_adaptive)\n",
    "builder.add_node(\"search_wine\", search_wine_adaptive)\n",
    "builder.add_node(\"search_web\", search_web_adaptive)\n",
    "builder.add_node(\"generate\", generate_adaptive)\n",
    "builder.add_node(\"llm_fallback\", llm_fallback_adaptive)\n",
    "\n",
    "# 엣지 추가\n",
    "builder.add_conditional_edges(\n",
    "    START,\n",
    "    route_question_adaptive\n",
    ")\n",
    "\n",
    "builder.add_edge(\"search_menu\", \"generate\")\n",
    "builder.add_edge(\"search_wine\", \"generate\")\n",
    "builder.add_edge(\"search_web\", \"generate\")\n",
    "builder.add_edge(\"generate\", END)\n",
    "builder.add_edge(\"llm_fallback\", END)\n",
    "\n",
    "# 그래프 컴파일 \n",
    "adaptive_rag = builder.compile()\n",
    "\n",
    "# 그래프 시각화\n",
    "display(Image(adaptive_rag.get_graph().draw_mermaid_png()))"
   ]
  },
  {
   "cell_type": "code",
   "execution_count": 35,
   "id": "c39203d0",
   "metadata": {},
   "outputs": [
    {
     "name": "stdout",
     "output_type": "stream",
     "text": [
      "Node 'search_menu':\n",
      "State 'dict_keys(['documents'])':\n",
      "Value '{'documents': [Document(id='4bedbd11-6a57-4eca-9a3c-fdf5af20abf6', metadata={'source': './data/restaurant_menu.txt', 'menu_number': 3, 'menu_name': '연어 타르타르'}, page_content='3. 연어 타르타르\\n   • 가격: ₩18,000\\n   • 주요 식재료: 노르웨이산 생연어, 아보카도, 케이퍼, 적양파\\n   • 설명: 신선한 노르웨이산 생연어를 곱게 다져 아보카도, 케이퍼, 적양파와 함께 섞어 만든 타르타르입니다. 레몬 드레싱으로 상큼한 맛을 더했으며, 바삭한 브리오쉬 토스트와 함께 제공됩니다. 전채요리로 완벽한 메뉴입니다.'), Document(id='bc6ccf68-2fdb-447f-bd61-7a807c1c6a5c', metadata={'source': './data/restaurant_menu.txt', 'menu_number': 1, 'menu_name': '시그니처 스테이크'}, page_content='1. 시그니처 스테이크\\n   • 가격: ₩35,000\\n   • 주요 식재료: 최상급 한우 등심, 로즈메리 감자, 그릴드 아스파라거스\\n   • 설명: 셰프의 특제 시그니처 메뉴로, 21일간 건조 숙성한 최상급 한우 등심을 사용합니다. 미디엄 레어로 조리하여 육즙을 최대한 보존하며, 로즈메리 향의 감자와 아삭한 그릴드 아스파라거스가 곁들여집니다. 레드와인 소스와 함께 제공되어 풍부한 맛을 더합니다.'), Document(id='6902c152-381f-4254-a7fb-8394eec0d9fa', metadata={'source': './data/restaurant_menu.txt', 'menu_number': 2, 'menu_name': '트러플 리조또'}, page_content='2. 트러플 리조또\\n   • 가격: ₩22,000\\n   • 주요 식재료: 이탈리아산 아르보리오 쌀, 블랙 트러플, 파르미지아노 레지아노 치즈\\n   • 설명: 크리미한 텍스처의 리조또에 고급 블랙 트러플을 듬뿍 얹어 풍부한 향과 맛을 즐길 수 있는 메뉴입니다. 24개월 숙성된 파르미지아노 레지아노 치즈를 사용하여 깊은 맛을 더했으며, 주문 즉시 조리하여 최상의 상태로 제공됩니다.'), Document(id='ac5511f2-bdce-4f28-969e-0ab8d13212a2', metadata={'source': './data/restaurant_menu.txt', 'menu_number': 9, 'menu_name': '치킨 콘피'}, page_content='9. 치킨 콘피\\n   • 가격: ₩23,000\\n   • 주요 식재료: 닭다리살, 허브, 마늘, 올리브 오일\\n   • 설명: 닭다리살을 허브와 마늘을 넣은 올리브 오일에 저온에서 장시간 조리한 프랑스 요리입니다. 부드럽고 촉촉한 육질이 특징이며, 로즈메리 감자와 제철 채소를 곁들여 제공합니다. 레몬 제스트를 뿌려 상큼한 향을 더했습니다.'), Document(id='0a6c0698-b83f-415b-a4d4-8ff8370ed276', metadata={'source': './data/restaurant_menu.txt', 'menu_number': 10, 'menu_name': '티라미수'}, page_content='10. 티라미수\\n    • 가격: ₩9,000\\n    • 주요 식재료: 마스카포네 치즈, 에스프레소, 카카오 파우더, 레이디핑거 비스킷\\n    • 설명: 부드러운 마스카포네 치즈 크림과 에스프레소에 적신 레이디핑거 비스킷을 층층이 쌓아 만든 이탈리아 정통 디저트입니다. 고소한 카카오 파우더를 듬뿍 뿌려 풍미를 더했습니다. 커피의 쌉싸름함과 치즈의 부드러움이 조화롭게 어우러집니다.'), Document(id='6ef58011-646f-4eda-8d62-d903371ae2dd', metadata={'source': './data/restaurant_menu.txt', 'menu_number': 4, 'menu_name': '버섯 크림 수프'}, page_content='4. 버섯 크림 수프\\n   • 가격: ₩10,000\\n   • 주요 식재료: 양송이버섯, 표고버섯, 생크림, 트러플 오일\\n   • 설명: 양송이버섯과 표고버섯을 오랜 시간 정성스레 끓여 만든 크림 수프입니다. 부드러운 텍스처와 깊은 버섯 향이 특징이며, 최상급 트러플 오일을 살짝 뿌려 고급스러운 향을 더했습니다. 파슬리를 곱게 다져 고명으로 올려 제공됩니다.')]}':\n",
      "\n",
      "---\n",
      "\n",
      "Node 'generate':\n",
      "State 'dict_keys(['generation'])':\n",
      "Value '{'generation': '스테이크 메뉴의 가격은 ₩35,000입니다. (출처: 시그니처 스테이크)'}':\n",
      "\n",
      "---\n",
      "\n",
      "스테이크 메뉴의 가격은 ₩35,000입니다. (출처: 시그니처 스테이크)\n"
     ]
    }
   ],
   "source": [
    "# 그래프 실행\n",
    "inputs = {\"question\": \"스테이크 메뉴의 가격은 얼마인가요?\"}\n",
    "for output in adaptive_rag.stream(inputs):\n",
    "    for key, value in output.items():\n",
    "        print(f\"Node '{key}':\")\n",
    "        print(f\"State '{value.keys()}':\")\n",
    "        print(f\"Value '{value}':\")\n",
    "    print(\"\\n---\\n\")\n",
    "\n",
    "# 최종 답변\n",
    "print(value[\"generation\"])"
   ]
  },
  {
   "cell_type": "code",
   "execution_count": 42,
   "id": "a5c15796",
   "metadata": {},
   "outputs": [
    {
     "name": "stdout",
     "output_type": "stream",
     "text": [
      "Node 'search_wine':\n",
      "State 'dict_keys(['documents'])':\n",
      "(\"Value '{'documents': [Document(id='389dc8a9-475e-4d1a-9409-a033904537ab', \"\n",
      " \"metadata={'source': './data/restaurant_wine.txt', 'menu_number': 10, \"\n",
      " \"'menu_name': '그랜지 2016'}, page_content='10. 그랜지 2016\\\\n    • 가격: \"\n",
      " '₩950,000\\\\n    • 주요 품종: 시라\\\\n    • 설명: 호주의 대표적인 아이콘 와인입니다. 블랙베리, 자두, 블랙 올리브의 '\n",
      " '강렬한 과실향과 함께 유칼립투스, 초콜릿, 가죽의 복잡한 향이 어우러집니다. 풀바디이며 강렬한 타닌과 산도가 특징적입니다. 놀라운 '\n",
      " \"집중도와 깊이, 긴 여운을 자랑하며, 수십 년의 숙성 잠재력을 가집니다.'), \"\n",
      " \"Document(id='f725e3bd-b45c-4c8c-b23c-72ca99adcec5', metadata={'source': \"\n",
      " \"'./data/restaurant_wine.txt', 'menu_number': 9, 'menu_name': '샤토 디켐 2015'}, \"\n",
      " \"page_content='9. 샤토 디켐 2015\\\\n   • 가격: ₩800,000 (375ml)\\\\n   • 주요 품종: 세미용, \"\n",
      " '소비뇽 블랑\\\\n   • 설명: 보르도 소테른 지역의 legendary 디저트 와인입니다. 아프리콧, 복숭아, 파인애플의 농축된 과실향과 '\n",
      " '함께 꿀, 사프란, 바닐라의 복잡한 향이 어우러집니다. 놀라운 농축도와 균형 잡힌 산도, 긴 여운이 특징이며, 100년 이상 숙성 가능한 '\n",
      " \"와인으로 알려져 있습니다.'), Document(id='202a926b-8122-44e9-9350-041f5aea40ee', \"\n",
      " \"metadata={'source': './data/restaurant_wine.txt', 'menu_number': 6, \"\n",
      " \"'menu_name': '바롤로 몬프리바토 2017'}, page_content='6. 바롤로 몬프리바토 2017\\\\n   • 가격: \"\n",
      " '₩280,000\\\\n   • 주요 품종: 네비올로\\\\n   • 설명: 이탈리아 피에몬테 지역의 프리미엄 레드 와인입니다. 붉은 체리, '\n",
      " '장미, 타르의 복잡한 아로마가 특징이며, 가죽, 담배, 스파이스 노트가 더해집니다. 강렬한 타닌과 높은 산도가 인상적이며, 긴 숙성 '\n",
      " \"잠재력을 가집니다. 숙성된 치즈나 트러플 요리와 잘 어울립니다.'), \"\n",
      " \"Document(id='4cf802e0-2b24-4a6e-8617-4ace655f973a', metadata={'source': \"\n",
      " \"'./data/restaurant_wine.txt', 'menu_number': 8, 'menu_name': '오퍼스 원 2017'}, \"\n",
      " \"page_content='8. 오퍼스 원 2017\\\\n   • 가격: ₩650,000\\\\n   • 주요 품종: 카베르네 소비뇽, 카베르네 \"\n",
      " '프랑, 메를로, 쁘띠 베르도\\\\n   • 설명: 캘리포니아 나파 밸리의 아이콘 와인입니다. 블랙베리, 카시스, 자두의 농축된 과실향과 '\n",
      " '함께 초콜릿, 에스프레소, 바닐라의 복잡한 향이 어우러집니다. 풀바디이면서도 우아한 구조를 가지며, 실키한 타닌과 긴 여운이 '\n",
      " \"인상적입니다. 20-30년 이상의 숙성 잠재력을 가집니다.'), \"\n",
      " \"Document(id='051cfb89-16cf-48c1-997e-f6b16b825441', metadata={'source': \"\n",
      " \"'./data/restaurant_wine.txt', 'menu_number': 1, 'menu_name': '샤토 마고 2015'}, \"\n",
      " \"page_content='1. 샤토 마고 2015\\\\n   • 가격: ₩450,000\\\\n   • 주요 품종: 카베르네 소비뇽, 메를로, \"\n",
      " '카베르네 프랑, 쁘띠 베르도\\\\n   • 설명: 보르도 메독 지역의 프리미엄 와인으로, 깊고 복잡한 풍미가 특징입니다. 블랙커런트, '\n",
      " '블랙베리의 과실향과 함께 시더, 담배, 가죽 노트가 어우러집니다. 탄닌이 부드럽고 균형 잡힌 구조를 가지며, 긴 여운이 인상적입니다. '\n",
      " \"숙성 잠재력이 뛰어나 10-20년 이상 보관이 가능합니다.'), \"\n",
      " \"Document(id='601e6f15-4d58-427b-a070-a7161782c2f9', metadata={'source': \"\n",
      " \"'./data/restaurant_wine.txt', 'menu_number': 7, 'menu_name': '풀리니 몽라쉐 1er \"\n",
      " \"Cru 2018'}, page_content='7. 풀리니 몽라쉐 1er Cru 2018\\\\n   • 가격: ₩320,000\\\\n   • \"\n",
      " '주요 품종: 샤르도네\\\\n   • 설명: 부르고뉴 최고의 화이트 와인 중 하나로 꼽힙니다. 레몬, 사과, 배의 과실향과 함께 헤이즐넛, '\n",
      " '버터, 바닐라의 풍부한 향이 어우러집니다. 미네랄리티가 돋보이며, 크리미한 텍스처와 긴 여운이 특징입니다. 해산물, 닭고기, 크림 소스 '\n",
      " \"파스타와 좋은 페어링을 이룹니다.')]}':\")\n",
      "\n",
      "---\n",
      "\n",
      "Node 'generate':\n",
      "State 'dict_keys(['generation'])':\n",
      "('Value \\'{\\'generation\\': \"The provided documents don\\'t contain information '\n",
      " 'to answer this question.\"}\\':')\n",
      "\n",
      "---\n",
      "\n",
      "The provided documents don't contain information to answer this question.\n"
     ]
    }
   ],
   "source": [
    "# 그래프 실행\n",
    "inputs = {\"question\": \"푸이 퓌세 2019의 주요 품종은 무엇인가요?\"}\n",
    "for output in adaptive_rag.stream(inputs):\n",
    "    for key, value in output.items():\n",
    "        print(f\"Node '{key}':\")\n",
    "        print(f\"State '{value.keys()}':\")\n",
    "        pprint(f\"Value '{value}':\")\n",
    "        #pprint(f\"Value '{value.page_content}':\")\n",
    "    print(\"\\n---\\n\")\n",
    "\n",
    "# 최종 답변\n",
    "print(value[\"generation\"])"
   ]
  },
  {
   "cell_type": "markdown",
   "id": "4b67a568",
   "metadata": {},
   "source": [
    "### 3-2. 사람의 개입 (Human-in-the-Loop)\n",
    "\n",
    "- Human-in-the-Loop (HITL)는 AI 시스템에 인간의 판단과 개입을 통합하는 접근 방식\n",
    "- AI의 자동화된 처리와 인간의 전문성을 결합하여 더 정확하고 신뢰할 수 있는 결과를 도출하는 것을 목표\n",
    "\n",
    "- 랭그래프 Breakpoints 활용 \n",
    "    - 그래프 실행을 특정 단계에서 중지할 때 사용 \n",
    "    - LangGraph의 체크포인트 시스템을 기반으로 구현"
   ]
  },
  {
   "cell_type": "markdown",
   "id": "4f516a1f",
   "metadata": {},
   "source": [
    "`(1) 체크포인트 설정`"
   ]
  },
  {
   "cell_type": "code",
   "execution_count": 16,
   "id": "ced52a4e",
   "metadata": {},
   "outputs": [],
   "source": [
    "from langgraph.checkpoint.memory import MemorySaver\n",
    "memory = MemorySaver()"
   ]
  },
  {
   "cell_type": "markdown",
   "id": "dd06be5d",
   "metadata": {},
   "source": [
    "`(2) Breakpoint 추가`\n"
   ]
  },
  {
   "cell_type": "code",
   "execution_count": 17,
   "id": "1d5db53b",
   "metadata": {},
   "outputs": [
    {
     "data": {
      "image/jpeg": "[encoded data removed]",
      "text/plain": [
       "<IPython.core.display.Image object>"
      ]
     },
     "metadata": {},
     "output_type": "display_data"
    }
   ],
   "source": [
    "# 컴파일 - 'generate' 노드 전에 중단점 추가\n",
    "adaptive_rag_hitl = builder.compile(checkpointer=memory, interrupt_before=[\"generate\"])\n",
    "\n",
    "# 그래프 출력\n",
    "display(Image(adaptive_rag_hitl.get_graph().draw_mermaid_png()))"
   ]
  },
  {
   "cell_type": "markdown",
   "id": "089fbc90",
   "metadata": {},
   "source": [
    "`(3) Breakpoint 실행 확인`\n"
   ]
  },
  {
   "cell_type": "code",
   "execution_count": 18,
   "id": "0a445aa7",
   "metadata": {},
   "outputs": [
    {
     "name": "stdout",
     "output_type": "stream",
     "text": [
      "search_menu: {'documents': [Document(metadata={'menu_name': '시그니처 스테이크', 'menu_number': 1, 'source': './data/restaurant_menu.txt'}, page_content='1. 시그니처 스테이크\\n   • 가격: ₩35,000\\n   • 주요 식재료: 최상급 한우 등심, 로즈메리 감자, 그릴드 아스파라거스\\n   • 설명: 셰프의 특제 시그니처 메뉴로, 21일간 건조 숙성한 최상급 한우 등심을 사용합니다. 미디엄 레어로 조리하여 육즙을 최대한 보존하며, 로즈메리 향의 감자와 아삭한 그릴드 아스파라거스가 곁들여집니다. 레드와인 소스와 함께 제공되어 풍부한 맛을 더합니다.'), Document(metadata={'menu_name': '안심 스테이크 샐러드', 'menu_number': 8, 'source': './data/restaurant_menu.txt'}, page_content='8. 안심 스테이크 샐러드\\n   • 가격: ₩26,000\\n   • 주요 식재료: 소고기 안심, 루꼴라, 체리 토마토, 발사믹 글레이즈\\n   • 설명: 부드러운 안심 스테이크를 얇게 슬라이스하여 신선한 루꼴라 위에 올린 메인 요리 샐러드입니다. 체리 토마토와 파마산 치즈 플레이크로 풍미를 더하고, 발사믹 글레이즈로 마무리하여 고기의 풍미를 한층 끌어올렸습니다.')]}\n"
     ]
    }
   ],
   "source": [
    "# 도구 사용 전 중단점에서 실행을 멈춤 \n",
    "\n",
    "thread = {\"configurable\": {\"thread_id\": \"breakpoint_test\"}}\n",
    "inputs = {\"question\": \"스테이크 메뉴의 가격은 얼마인가요?\"}\n",
    "for event in adaptive_rag_hitl.stream(inputs, config=thread):\n",
    "    for k, v in event.items():\n",
    "        # '__end__' 이벤트는 미출력\n",
    "        if k != \"__end__\":\n",
    "            print(f\"{k}: {v}\")  # 이벤트의 키와 값을 함께 출력"
   ]
  },
  {
   "cell_type": "markdown",
   "id": "67a523e8",
   "metadata": {},
   "source": [
    "`(4) Breakpoint 상태 관리`\n"
   ]
  },
  {
   "cell_type": "code",
   "execution_count": 19,
   "id": "f1e6f27c",
   "metadata": {},
   "outputs": [
    {
     "name": "stdout",
     "output_type": "stream",
     "text": [
      "---그래프 상태---\n",
      "StateSnapshot(values={'question': '스테이크 메뉴의 가격은 얼마인가요?', 'documents': [Document(metadata={'menu_name': '시그니처 스테이크', 'menu_number': 1, 'source': './data/restaurant_menu.txt'}, page_content='1. 시그니처 스테이크\\n   • 가격: ₩35,000\\n   • 주요 식재료: 최상급 한우 등심, 로즈메리 감자, 그릴드 아스파라거스\\n   • 설명: 셰프의 특제 시그니처 메뉴로, 21일간 건조 숙성한 최상급 한우 등심을 사용합니다. 미디엄 레어로 조리하여 육즙을 최대한 보존하며, 로즈메리 향의 감자와 아삭한 그릴드 아스파라거스가 곁들여집니다. 레드와인 소스와 함께 제공되어 풍부한 맛을 더합니다.'), Document(metadata={'menu_name': '안심 스테이크 샐러드', 'menu_number': 8, 'source': './data/restaurant_menu.txt'}, page_content='8. 안심 스테이크 샐러드\\n   • 가격: ₩26,000\\n   • 주요 식재료: 소고기 안심, 루꼴라, 체리 토마토, 발사믹 글레이즈\\n   • 설명: 부드러운 안심 스테이크를 얇게 슬라이스하여 신선한 루꼴라 위에 올린 메인 요리 샐러드입니다. 체리 토마토와 파마산 치즈 플레이크로 풍미를 더하고, 발사믹 글레이즈로 마무리하여 고기의 풍미를 한층 끌어올렸습니다.')]}, next=('generate',), config={'configurable': {'thread_id': 'breakpoint_test', 'checkpoint_ns': '', 'checkpoint_id': '1ef86a2a-d9af-69e4-8001-f3b1425b7a94'}}, metadata={'source': 'loop', 'writes': {'search_menu': {'documents': [Document(metadata={'menu_name': '시그니처 스테이크', 'menu_number': 1, 'source': './data/restaurant_menu.txt'}, page_content='1. 시그니처 스테이크\\n   • 가격: ₩35,000\\n   • 주요 식재료: 최상급 한우 등심, 로즈메리 감자, 그릴드 아스파라거스\\n   • 설명: 셰프의 특제 시그니처 메뉴로, 21일간 건조 숙성한 최상급 한우 등심을 사용합니다. 미디엄 레어로 조리하여 육즙을 최대한 보존하며, 로즈메리 향의 감자와 아삭한 그릴드 아스파라거스가 곁들여집니다. 레드와인 소스와 함께 제공되어 풍부한 맛을 더합니다.'), Document(metadata={'menu_name': '안심 스테이크 샐러드', 'menu_number': 8, 'source': './data/restaurant_menu.txt'}, page_content='8. 안심 스테이크 샐러드\\n   • 가격: ₩26,000\\n   • 주요 식재료: 소고기 안심, 루꼴라, 체리 토마토, 발사믹 글레이즈\\n   • 설명: 부드러운 안심 스테이크를 얇게 슬라이스하여 신선한 루꼴라 위에 올린 메인 요리 샐러드입니다. 체리 토마토와 파마산 치즈 플레이크로 풍미를 더하고, 발사믹 글레이즈로 마무리하여 고기의 풍미를 한층 끌어올렸습니다.')]}}, 'step': 1, 'parents': {}}, created_at='2024-10-10T00:57:52.721262+00:00', parent_config={'configurable': {'thread_id': 'breakpoint_test', 'checkpoint_ns': '', 'checkpoint_id': '1ef86a2a-bf50-6814-8000-d31a227c5feb'}}, tasks=(PregelTask(id='80d7f038-a53a-6ea3-2ab7-f71de4c8b8de', name='generate', path=('__pregel_pull', 'generate'), error=None, interrupts=(), state=None),))\n",
      "--------------------------------------------------\n",
      "None\n"
     ]
    }
   ],
   "source": [
    "# 상태 확인\n",
    "current_state = adaptive_rag_hitl.get_state(thread)\n",
    "print(\"---그래프 상태---\")\n",
    "print(current_state)\n",
    "print(\"-\"*50)\n",
    "print(current_state.values.get(\"generation\"))"
   ]
  },
  {
   "cell_type": "code",
   "execution_count": 20,
   "id": "07987daf",
   "metadata": {},
   "outputs": [
    {
     "data": {
      "text/plain": [
       "('generate',)"
      ]
     },
     "execution_count": 20,
     "metadata": {},
     "output_type": "execute_result"
    }
   ],
   "source": [
    "# 다음에 실행될 노드를 확인 \n",
    "current_state.next"
   ]
  },
  {
   "cell_type": "markdown",
   "id": "eac16239",
   "metadata": {},
   "source": [
    "`(5) Breakpoint 이후 단계를 계속해서 실행`"
   ]
  },
  {
   "cell_type": "code",
   "execution_count": 21,
   "id": "d6c14bb5",
   "metadata": {},
   "outputs": [
    {
     "name": "stdout",
     "output_type": "stream",
     "text": [
      "generate: {'generation': '스테이크 메뉴의 가격은 다음과 같습니다:\\n\\n1. 시그니처 스테이크: ₩35,000\\n2. 안심 스테이크 샐러드: ₩26,000'}\n"
     ]
    }
   ],
   "source": [
    "# 입력값을 None으로 지정하면 중단점부터 실행하는 의미 \n",
    "for event in adaptive_rag_hitl.stream(None, config=thread):\n",
    "    for k, v in event.items():\n",
    "        # '__end__' 이벤트는 미출력\n",
    "        if k != \"__end__\":\n",
    "            print(f\"{k}: {v}\")  # 이벤트의 키와 값을 함께 출력"
   ]
  },
  {
   "cell_type": "code",
   "execution_count": 22,
   "id": "f19c10d1",
   "metadata": {},
   "outputs": [
    {
     "data": {
      "text/plain": [
       "()"
      ]
     },
     "execution_count": 22,
     "metadata": {},
     "output_type": "execute_result"
    }
   ],
   "source": [
    "# 다음에 실행될 노드를 확인 \n",
    "current_state = adaptive_rag_hitl.get_state(thread)\n",
    "current_state.next"
   ]
  },
  {
   "cell_type": "code",
   "execution_count": 23,
   "id": "a4e533e9",
   "metadata": {},
   "outputs": [
    {
     "name": "stdout",
     "output_type": "stream",
     "text": [
      "스테이크 메뉴의 가격은 다음과 같습니다:\n",
      "\n",
      "1. 시그니처 스테이크: ₩35,000\n",
      "2. 안심 스테이크 샐러드: ₩26,000\n"
     ]
    }
   ],
   "source": [
    "# 최종 답변\n",
    "current_state = adaptive_rag_hitl.get_state(thread)\n",
    "print(current_state.values.get(\"generation\"))"
   ]
  },
  {
   "cell_type": "markdown",
   "id": "e8964592",
   "metadata": {},
   "source": [
    "`(6) 상태 업데이트`"
   ]
  },
  {
   "cell_type": "code",
   "execution_count": 24,
   "id": "f8c1e85e",
   "metadata": {},
   "outputs": [
    {
     "name": "stdout",
     "output_type": "stream",
     "text": [
      "search_menu: {'documents': [Document(metadata={'menu_name': '티라미수', 'menu_number': 10, 'source': './data/restaurant_menu.txt'}, page_content='10. 티라미수\\n    • 가격: ₩9,000\\n    • 주요 식재료: 마스카포네 치즈, 에스프레소, 카카오 파우더, 레이디핑거 비스킷\\n    • 설명: 부드러운 마스카포네 치즈 크림과 에스프레소에 적신 레이디핑거 비스킷을 층층이 쌓아 만든 이탈리아 정통 디저트입니다. 고소한 카카오 파우더를 듬뿍 뿌려 풍미를 더했습니다. 커피의 쌉싸름함과 치즈의 부드러움이 조화롭게 어우러집니다.'), Document(metadata={'menu_name': '치킨 콘피', 'menu_number': 9, 'source': './data/restaurant_menu.txt'}, page_content='9. 치킨 콘피\\n   • 가격: ₩23,000\\n   • 주요 식재료: 닭다리살, 허브, 마늘, 올리브 오일\\n   • 설명: 닭다리살을 허브와 마늘을 넣은 올리브 오일에 저온에서 장시간 조리한 프랑스 요리입니다. 부드럽고 촉촉한 육질이 특징이며, 로즈메리 감자와 제철 채소를 곁들여 제공합니다. 레몬 제스트를 뿌려 상큼한 향을 더했습니다.')]}\n"
     ]
    }
   ],
   "source": [
    "# 새로운 thread를 생성하고, 새로운 질문을 수행 \n",
    "thread = {\"configurable\": {\"thread_id\": \"breakpoint_update\"}}\n",
    "inputs = {\"question\": \"매운 음식이 있나요?\"}\n",
    "for event in adaptive_rag_hitl.stream(inputs, config=thread):\n",
    "    for k, v in event.items():\n",
    "        if k != \"__end__\":\n",
    "            print(f\"{k}: {v}\") "
   ]
  },
  {
   "cell_type": "code",
   "execution_count": 25,
   "id": "fee35fd6",
   "metadata": {},
   "outputs": [
    {
     "data": {
      "text/plain": [
       "('generate',)"
      ]
     },
     "execution_count": 25,
     "metadata": {},
     "output_type": "execute_result"
    }
   ],
   "source": [
    "# 다음에 실행될 노드를 확인 \n",
    "current_state = adaptive_rag_hitl.get_state(thread)\n",
    "current_state.next"
   ]
  },
  {
   "cell_type": "code",
   "execution_count": 26,
   "id": "af930c59",
   "metadata": {},
   "outputs": [
    {
     "name": "stdout",
     "output_type": "stream",
     "text": [
      "매운 음식이 있나요?\n",
      "--------------------------------------------------\n",
      "None\n"
     ]
    }
   ],
   "source": [
    "# question, generation 필드 확인\n",
    "current_state = adaptive_rag_hitl.get_state(thread)\n",
    "print(current_state.values.get(\"question\"))\n",
    "print(\"-\"*50)\n",
    "print(current_state.values.get(\"generation\"))"
   ]
  },
  {
   "cell_type": "code",
   "execution_count": 27,
   "id": "1c79cabe",
   "metadata": {},
   "outputs": [
    {
     "name": "stdout",
     "output_type": "stream",
     "text": [
      "매콤한 해산물 요리가 있나요?\n",
      "--------------------------------------------------\n",
      "None\n"
     ]
    }
   ],
   "source": [
    "# 상태 업데이트 - 질문을 수정하여 업데이트\n",
    "adaptive_rag_hitl.update_state(thread, {\"question\": \"매콤한 해산물 요리가 있나요?\"})\n",
    "\n",
    "# 상태 확인\n",
    "new_state = adaptive_rag_hitl.get_state(thread)\n",
    "\n",
    "print(new_state.values.get(\"question\"))\n",
    "print(\"-\"*50)\n",
    "print(new_state.values.get(\"generation\"))"
   ]
  },
  {
   "cell_type": "code",
   "execution_count": 28,
   "id": "bb057b66",
   "metadata": {},
   "outputs": [
    {
     "name": "stdout",
     "output_type": "stream",
     "text": [
      "generate: {'generation': \"The provided documents don't contain information to answer this question.\"}\n"
     ]
    }
   ],
   "source": [
    "# 입력값을 None으로 지정하면 중단점부터 실행하고 최종 답변을 생성 \n",
    "for event in adaptive_rag_hitl.stream(None, config=thread):\n",
    "    for k, v in event.items():\n",
    "        # '__end__' 이벤트는 미출력\n",
    "        if k != \"__end__\":\n",
    "            print(f\"{k}: {v}\")  # 이벤트의 키와 값을 함께 출력"
   ]
  },
  {
   "cell_type": "code",
   "execution_count": 29,
   "id": "b282e0de",
   "metadata": {},
   "outputs": [
    {
     "name": "stdout",
     "output_type": "stream",
     "text": [
      "The provided documents don't contain information to answer this question.\n"
     ]
    }
   ],
   "source": [
    "# 최종 답변 확인\n",
    "print(event[\"generate\"][\"generation\"])"
   ]
  },
  {
   "cell_type": "markdown",
   "id": "64b21935",
   "metadata": {},
   "source": [
    "## 4. Self-RAG 구현\n",
    "- Self-RAG (Retrieval-Augmented Generation with Self-Reflection) \n",
    "- 논문: https://arxiv.org/abs/2310.11511\n",
    "\n",
    "- 주요 단계: \n",
    "\n",
    "   1. 검색 결정 (Retrieval Decision):\n",
    "      - 입력: 질문 `x` 또는 질문 `x`와 생성된 답변 `y`\n",
    "      - 목적: 검색기 `R`을 사용하여 `D` 개의 청크를 검색할지 결정\n",
    "      - 출력: \"yes\", \"no\", \"continue\" 중 하나\n",
    "      - 의미: 시스템이 추가 정보가 필요한지 판단\n",
    "\n",
    "   2. 검색된 문서 관련성 평가:\n",
    "      - 입력: 질문 `x`와 각 검색된 청크 `d`\n",
    "      - 목적: 각 청크가 질문에 유용한 정보를 제공하는지 평가\n",
    "      - 출력: \"relevant\" 또는 \"irrelevant\"\n",
    "      - 의미: 관련 없는 정보를 필터링하여 품질을 향상\n",
    "\n",
    "   3. 생성된 답변의 환각 평가:\n",
    "      - 입력: 질문 `x`, 청크 `d`, 생성된 텍스트 `y`\n",
    "      - 목적: 생성된 텍스트가 청크의 정보에 의해 지지되는지(근거가 있는지) 평가\n",
    "      - 출력: \"fully supported\", \"partially supported\", \"no support\"\n",
    "      - 의미: 환각(hallucination)을 감지하고 정보의 신뢰성을 확인\n",
    "\n",
    "   4. 생성된 답변의 유용성 평가:\n",
    "      - 입력: 질문 `x`와 생성된 텍스트 `y`\n",
    "      - 목적: 생성된 텍스트가 질문에 유용한 응답인지 평가\n",
    "      - 출력: 5점 척도 (5: 매우 유용, 1: 전혀 유용하지 않음)\n",
    "      - 의미: 응답의 품질과 관련성을 수치화"
   ]
  },
  {
   "cell_type": "markdown",
   "id": "b2ac354e",
   "metadata": {},
   "source": [
    "### 4-1. LLM 체인 "
   ]
  },
  {
   "cell_type": "markdown",
   "id": "4f27b0b3",
   "metadata": {},
   "source": [
    "`(1) Retrieval Grader`"
   ]
  },
  {
   "cell_type": "code",
   "execution_count": 30,
   "id": "d3d508a1",
   "metadata": {},
   "outputs": [
    {
     "name": "stdout",
     "output_type": "stream",
     "text": [
      "검색된 문서 수: 2\n",
      "===============================================================================\n",
      "\n",
      "문서: 1. 시그니처 스테이크\n",
      "   • 가격: ₩35,000\n",
      "   • 주요 식재료: 최상급 한우 등심, 로즈메리 감자, 그릴드 아스파라거스\n",
      "   • 설명: 셰프의 특제 시그니처 메뉴로, 21일간 건조 숙성한 최상급 한우 등심을 사용합니다. 미디엄 레어로 조리하여 육즙을 최대한 보존하며, 로즈메리 향의 감자와 아삭한 그릴드 아스파라거스가 곁들여집니다. 레드와인 소스와 함께 제공되어 풍부한 맛을 더합니다.\n",
      "---------------------------------------------------------------------------\n",
      "문서 관련성: binary_score='yes'\n",
      "===========================================================================\n",
      "문서: 6. 해산물 파스타\n",
      "   • 가격: ₩24,000\n",
      "   • 주요 식재료: 링귀네 파스타, 새우, 홍합, 오징어, 토마토 소스\n",
      "   • 설명: 알 덴테로 삶은 링귀네 파스타에 신선한 해산물을 듬뿍 올린 메뉴입니다. 토마토 소스의 산미와 해산물의 감칠맛이 조화를 이루며, 마늘과 올리브 오일로 풍미를 더했습니다. 파슬리를 뿌려 향긋한 맛을 더합니다.\n",
      "---------------------------------------------------------------------------\n",
      "문서 관련성: binary_score='no'\n",
      "===========================================================================\n"
     ]
    }
   ],
   "source": [
    "from langchain_core.prompts import ChatPromptTemplate\n",
    "from pydantic import BaseModel, Field\n",
    "from langchain_openai import ChatOpenAI\n",
    "\n",
    "# 검색된 문서의 관련성 평가 결과를 위한 데이터 모델 정의\n",
    "class BinaryGradeDocuments(BaseModel):\n",
    "    \"\"\"Binary score for relevance check on retrieved documents.\"\"\"\n",
    "\n",
    "    binary_score: str = Field(\n",
    "        description=\"Documents are relevant to the question, 'yes' or 'no'\"\n",
    "    )\n",
    "\n",
    "# LLM 모델 초기화 및 구조화된 출력 설정\n",
    "llm = ChatOpenAI(model=\"gpt-4o-mini\", temperature=0)\n",
    "structured_llm_grader = llm.with_structured_output(BinaryGradeDocuments)\n",
    "\n",
    "# 문서 관련성 평가를 위한 시스템 프롬프트 정의\n",
    "system_prompt = \"\"\"You are an expert in evaluating the relevance of search results to user queries.\n",
    "\n",
    "[Evaluation criteria]\n",
    "1. 키워드 관련성: 문서가 질문의 주요 단어나 유사어를 포함하는지 확인\n",
    "2. 의미적 관련성: 문서의 전반적인 주제가 질문의 의도와 일치하는지 평가\n",
    "3. 부분 관련성: 질문의 일부를 다루거나 맥락 정보를 제공하는 문서도 고려\n",
    "4. 답변 가능성: 직접적인 답이 아니더라도 답변 형성에 도움될 정보 포함 여부 평가\n",
    "\n",
    "[Scoring]\n",
    "- Rate 'yes' if relevant, 'no' if not\n",
    "- Default to 'no' when uncertain\n",
    "\n",
    "[Key points]\n",
    "- Consider the full context of the query, not just word matching\n",
    "- Rate as relevant if useful information is present, even if not a complete answer\n",
    "\n",
    "Your evaluation is crucial for improving information retrieval systems. Provide balanced assessments.\"\"\"\n",
    "\n",
    "# 채점 프롬프트 템플릿 생성\n",
    "grade_prompt = ChatPromptTemplate.from_messages([\n",
    "    (\"system\", system_prompt),\n",
    "    (\"human\", \"[Retrieved document]\\n{document}\\n\\n[User question]\\n{question}\"),\n",
    "])\n",
    "\n",
    "# Retrieval Grader 파이프라인 구성\n",
    "retrieval_grader_binary = grade_prompt | structured_llm_grader\n",
    "    \n",
    "# 관련성 평가 실행\n",
    "question = \"대표 메뉴는 무엇인가요?\"\n",
    "retrieved_docs = menu_db.similarity_search(question, k=2)\n",
    "print(f\"검색된 문서 수: {len(retrieved_docs)}\")\n",
    "print(\"===============================================================================\")\n",
    "print()\n",
    "\n",
    "\n",
    "relevant_docs = []\n",
    "\n",
    "for doc in retrieved_docs:\n",
    "    print(\"문서:\", doc.page_content)\n",
    "    print(\"---------------------------------------------------------------------------\")\n",
    "\n",
    "    relevance = retrieval_grader_binary.invoke({\"question\": question, \"document\": doc})\n",
    "    print(f\"문서 관련성: {relevance}\")\n",
    "\n",
    "    if relevance.binary_score == 'yes':\n",
    "        relevant_docs.append(doc)\n",
    "    \n",
    "    print(\"===========================================================================\")"
   ]
  },
  {
   "cell_type": "markdown",
   "id": "4b7c0594",
   "metadata": {},
   "source": [
    "`(2) Answer Generator`"
   ]
  },
  {
   "cell_type": "code",
   "execution_count": 31,
   "id": "683cb654",
   "metadata": {},
   "outputs": [
    {
     "name": "stdout",
     "output_type": "stream",
     "text": [
      "대표 메뉴는 \"시그니처 스테이크\"입니다.\n"
     ]
    }
   ],
   "source": [
    "# 기본 RAG 체인\n",
    "from langchain_core.output_parsers import StrOutputParser\n",
    "\n",
    "def generator_rag_answer(question, docs):\n",
    "\n",
    "    template = \"\"\"\n",
    "    Answer the question based solely on the given context. Do not use any external information or knowledge.\n",
    "\n",
    "    [Instructions]\n",
    "        1. 질문과 관련된 정보를 문맥에서 신중하게 확인합니다.\n",
    "        2. 답변에 질문과 직접 관련된 정보만 사용합니다.\n",
    "        3. 문맥에 명시되지 않은 내용에 대해 추측하지 않습니다.\n",
    "        4. 불필요한 정보를 피하고, 답변을 간결하고 명확하게 작성합니다.\n",
    "        5. 문맥에서 답을 찾을 수 없으면 \"주어진 정보만으로는 답할 수 없습니다.\"라고 답변합니다.\n",
    "        6. 적절한 경우 문맥에서 직접 인용하며, 따옴표를 사용합니다.\n",
    "\n",
    "    [Context]\n",
    "    {context}\n",
    "\n",
    "    [Question]\n",
    "    {question}\n",
    "\n",
    "    [Answer]\n",
    "    \"\"\"\n",
    "\n",
    "    prompt = ChatPromptTemplate.from_template(template)\n",
    "    llm = ChatOpenAI(model='gpt-4o-mini', temperature=0)    \n",
    "\n",
    "    def format_docs(docs):\n",
    "        return \"\\n\\n\".join([d.page_content for d in docs])\n",
    "    \n",
    "    rag_chain = prompt | llm | StrOutputParser()\n",
    "    \n",
    "    generation = rag_chain.invoke({\"context\": format_docs(docs), \"question\": question})\n",
    "\n",
    "    return generation\n",
    "\n",
    "\n",
    "# 관령성 평가를 통과한 문서를 기반으로 질문에 대한 답변 생성\n",
    "generation = generator_rag_answer(question, docs=relevant_docs)\n",
    "print(generation)"
   ]
  },
  {
   "cell_type": "markdown",
   "id": "8b78c24b",
   "metadata": {},
   "source": [
    "`(3) Hallucination Grader`"
   ]
  },
  {
   "cell_type": "code",
   "execution_count": 32,
   "id": "39ee4e82",
   "metadata": {},
   "outputs": [
    {
     "name": "stdout",
     "output_type": "stream",
     "text": [
      "환각 평가: binary_score='yes'\n"
     ]
    }
   ],
   "source": [
    "# 환각(Hallucination) 평가 결과를 위한 데이터 모델 정의\n",
    "class GradeHallucinations(BaseModel):\n",
    "    \"\"\"Binary score for hallucination present in generation answer.\"\"\"\n",
    "\n",
    "    binary_score: str = Field(\n",
    "        description=\"Answer is grounded in the facts, 'yes' or 'no'\"\n",
    "    )\n",
    "\n",
    "# LLM 모델 초기화 및 구조화된 출력 설정\n",
    "llm = ChatOpenAI(model=\"gpt-4o-mini\", temperature=0)\n",
    "structured_llm_grader = llm.with_structured_output(GradeHallucinations)\n",
    "\n",
    "# 환각 평가를 위한 시스템 프롬프트 정의\n",
    "system_prompt = \"\"\"\n",
    "You are an expert evaluator assessing whether an LLM-generated answer is grounded in and supported by a given set of facts.\n",
    "\n",
    "[Your task]\n",
    "    - Review the LLM-generated answer.\n",
    "    - Determine if the answer is fully supported by the given facts.\n",
    "\n",
    "[Evaluation criteria]\n",
    "    - 답변에 주어진 사실이나 명확히 추론할 수 있는 정보 외의 내용이 없어야 합니다.\n",
    "    - 답변의 모든 핵심 내용이 주어진 사실에서 비롯되어야 합니다.\n",
    "    - 사실적 정확성에 집중하고, 글쓰기 스타일이나 완전성은 평가하지 않습니다.\n",
    "\n",
    "[Scoring]\n",
    "    - 'yes': The answer is factually grounded and fully supported.\n",
    "    - 'no': The answer includes information or claims not based on the given facts.\n",
    "\n",
    "Your evaluation is crucial in ensuring the reliability and factual accuracy of AI-generated responses. Be thorough and critical in your assessment.\n",
    "\"\"\"\n",
    "\n",
    "# 환각 평가 프롬프트 템플릿 생성\n",
    "hallucination_prompt = ChatPromptTemplate.from_messages(\n",
    "    [\n",
    "        (\"system\", system_prompt),\n",
    "        (\"human\", \"[Set of facts]\\n{documents}\\n\\n[LLM generation]\\n{generation}\"),\n",
    "    ]\n",
    ")\n",
    "\n",
    "# Hallucination Grader 파이프라인 구성\n",
    "hallucination_grader = hallucination_prompt | structured_llm_grader\n",
    "\n",
    "# 환각 평가 실행\n",
    "hallucination = hallucination_grader.invoke({\"documents\": relevant_docs, \"generation\": generation})\n",
    "print(f\"환각 평가: {hallucination}\")"
   ]
  },
  {
   "cell_type": "markdown",
   "id": "f8baeba9",
   "metadata": {},
   "source": [
    "`(4) Answer Grader`"
   ]
  },
  {
   "cell_type": "code",
   "execution_count": 33,
   "id": "fbfb6ac4",
   "metadata": {},
   "outputs": [
    {
     "name": "stdout",
     "output_type": "stream",
     "text": [
      "Question: 대표 메뉴는 무엇인가요?\n",
      "Generation: 대표 메뉴는 \"시그니처 스테이크\"입니다.\n",
      "답변 평가: binary_score='yes'\n"
     ]
    }
   ],
   "source": [
    "# 답변 평가 결과를 위한 데이터 모델 정의\n",
    "class BinaryGradeAnswer(BaseModel):\n",
    "    \"\"\"Binary score to assess answer addresses question.\"\"\"\n",
    "\n",
    "    binary_score: str = Field(\n",
    "        description=\"Answer addresses the question, 'yes' or 'no'\"\n",
    "    )\n",
    "\n",
    "# LLM 모델 초기화 및 구조화된 출력 설정\n",
    "llm = ChatOpenAI(model=\"gpt-4o-mini\", temperature=0)\n",
    "structured_llm_grader = llm.with_structured_output(BinaryGradeAnswer)\n",
    "\n",
    "# 답변 평가를 위한 시스템 프롬프트 정의\n",
    "system_prompt = \"\"\"\n",
    "You are an expert evaluator tasked with assessing whether an LLM-generated answer effectively addresses and resolves a user's question.\n",
    "\n",
    "[Your task]\n",
    "    - Carefully analyze the user's question to understand its core intent and requirements.\n",
    "    - Determine if the LLM-generated answer sufficiently resolves the question.\n",
    "\n",
    "[Evaluation criteria]\n",
    "    - 관련성: 답변이 질문과 직접적으로 관련되어야 합니다.\n",
    "    - 완전성: 질문의 모든 측면이 다뤄져야 합니다.\n",
    "    - 정확성: 제공된 정보가 정확하고 최신이어야 합니다.\n",
    "    - 명확성: 답변이 명확하고 이해하기 쉬워야 합니다.\n",
    "    - 구체성: 질문의 요구 사항에 맞는 상세한 답변이어야 합니다.\n",
    "\n",
    "[Scoring]\n",
    "    - 'yes': The answer effectively resolves the question.\n",
    "    - 'no': The answer fails to sufficiently resolve the question or lacks crucial elements.\n",
    "\n",
    "Your evaluation plays a critical role in ensuring the quality and effectiveness of AI-generated responses. Strive for balanced and thoughtful assessments.\n",
    "\"\"\"\n",
    "\n",
    "# 답변 평가 프롬프트 템플릿 생성\n",
    "answer_prompt = ChatPromptTemplate.from_messages(\n",
    "    [\n",
    "        (\"system\", system_prompt),\n",
    "        (\"human\", \"[User question]\\n{question}\\n\\n[LLM generation]\\n{generation}\"),\n",
    "    ]\n",
    ")\n",
    "\n",
    "# Answer Grader 파이프라인 구성\n",
    "answer_grader_binary = answer_prompt | structured_llm_grader\n",
    "\n",
    "# 답변 평가 실행\n",
    "print(\"Question:\", question)\n",
    "print(\"Generation:\", generation)\n",
    "\n",
    "answer_score = answer_grader_binary.invoke({\"question\": question, \"generation\": generation})\n",
    "print(f\"답변 평가: {answer_score}\")"
   ]
  },
  {
   "cell_type": "markdown",
   "id": "9748b4f5",
   "metadata": {},
   "source": [
    "`(5) Question Re-writer`"
   ]
  },
  {
   "cell_type": "code",
   "execution_count": 34,
   "id": "7cec94a4",
   "metadata": {},
   "outputs": [
    {
     "name": "stdout",
     "output_type": "stream",
     "text": [
      "원본 질문: 대표 메뉴는 무엇인가요?\n",
      "다시 쓴 질문: 대표 메뉴의 구성 요소와 특징은 무엇인가요?\n"
     ]
    }
   ],
   "source": [
    "def rewrite_question(question: str) -> str:\n",
    "    \"\"\"\n",
    "    주어진 질문을 벡터 저장소 검색에 최적화된 형태로 다시 작성합니다.\n",
    "\n",
    "    :param question: 원본 질문 문자열\n",
    "    :return: 다시 작성된 질문 문자열\n",
    "    \"\"\"\n",
    "    # LLM 모델 초기화\n",
    "    llm = ChatOpenAI(model=\"gpt-4o-mini\", temperature=0)\n",
    "\n",
    "    # 시스템 프롬프트 정의\n",
    "    system_prompt = \"\"\"\n",
    "    You are an expert question re-writer. Your task is to convert input questions into optimized versions \n",
    "    for vectorstore retrieval. Analyze the input carefully and focus on capturing the underlying semantic \n",
    "    intent and meaning. Your goal is to create a question that will lead to more effective and relevant \n",
    "    document retrieval.\n",
    "\n",
    "    [Guidelines]\n",
    "        1. 질문에서 핵심 개념과 주요 대상을 식별하고 강조합니다.\n",
    "        2. 약어나 모호한 용어를 풀어서 사용합니다.\n",
    "        3. 관련 문서에 등장할 수 있는 동의어나 연관된 용어를 포함합니다.\n",
    "        4. 질문의 원래 의도와 범위를 유지합니다.\n",
    "        5. 복잡한 질문은 간단하고 집중된 하위 질문으로 나눕니다.\n",
    "\n",
    "    Remember, the goal is to improve retrieval effectiveness, not to change the fundamental meaning of the question.\n",
    "    \"\"\"\n",
    "\n",
    "    # 질문 다시 쓰기 프롬프트 템플릿 생성\n",
    "    re_write_prompt = ChatPromptTemplate.from_messages(\n",
    "        [\n",
    "            (\"system\", system_prompt),\n",
    "            (\n",
    "                \"human\",\n",
    "                \"[Initial question]\\n{question}\\n\\n[Improved question]\\n\",\n",
    "            ),\n",
    "        ]\n",
    "    )\n",
    "\n",
    "    # 질문 다시 쓰기 체인 구성\n",
    "    question_rewriter = re_write_prompt | llm | StrOutputParser()\n",
    "\n",
    "    # 질문 다시 쓰기 실행\n",
    "    rewritten_question = question_rewriter.invoke({\"question\": question})\n",
    "\n",
    "    return rewritten_question\n",
    "\n",
    "# 질문 다시 쓰기 테스트\n",
    "rewritten_question = rewrite_question(question)\n",
    "print(f\"원본 질문: {question}\")\n",
    "print(f\"다시 쓴 질문: {rewritten_question}\")"
   ]
  },
  {
   "cell_type": "code",
   "execution_count": 35,
   "id": "c52d2fc3",
   "metadata": {},
   "outputs": [
    {
     "name": "stdout",
     "output_type": "stream",
     "text": [
      "2\n",
      "===========================================================================\n",
      "문서: 1. 시그니처 스테이크\n",
      "   • 가격: ₩35,000\n",
      "   • 주요 식재료: 최상급 한우 등심, 로즈메리 감자, 그릴드 아스파라거스\n",
      "   • 설명: 셰프의 특제 시그니처 메뉴로, 21일간 건조 숙성한 최상급 한우 등심을 사용합니다. 미디엄 레어로 조리하여 육즙을 최대한 보존하며, 로즈메리 향의 감자와 아삭한 그릴드 아스파라거스가 곁들여집니다. 레드와인 소스와 함께 제공되어 풍부한 맛을 더합니다.\n",
      "---------------------------------------------------------------------------\n",
      "문서: 8. 안심 스테이크 샐러드\n",
      "   • 가격: ₩26,000\n",
      "   • 주요 식재료: 소고기 안심, 루꼴라, 체리 토마토, 발사믹 글레이즈\n",
      "   • 설명: 부드러운 안심 스테이크를 얇게 슬라이스하여 신선한 루꼴라 위에 올린 메인 요리 샐러드입니다. 체리 토마토와 파마산 치즈 플레이크로 풍미를 더하고, 발사믹 글레이즈로 마무리하여 고기의 풍미를 한층 끌어올렸습니다.\n",
      "---------------------------------------------------------------------------\n"
     ]
    }
   ],
   "source": [
    "# 다시 쓴 질문을 사용하여 벡터 저장소에서 문서 검색\n",
    "query = rewritten_question\n",
    "retrieved_docs = menu_db.similarity_search(query, k=2)\n",
    "print(len(retrieved_docs))\n",
    "print(\"===========================================================================\")\n",
    "\n",
    "for doc in retrieved_docs:\n",
    "    print(\"문서:\", doc.page_content)\n",
    "    print(\"---------------------------------------------------------------------------\")"
   ]
  },
  {
   "cell_type": "markdown",
   "id": "e9cddd84",
   "metadata": {},
   "source": [
    "### 4-2. LangGraph로 그래프 구현\n",
    "- 기본 State 사용"
   ]
  },
  {
   "cell_type": "markdown",
   "id": "64f88aa1",
   "metadata": {},
   "source": [
    "`(1) 그래프 State 생성`"
   ]
  },
  {
   "cell_type": "code",
   "execution_count": 36,
   "id": "ef3a6c22",
   "metadata": {},
   "outputs": [],
   "source": [
    "from typing import List, TypedDict\n",
    "from langchain_core.documents import Document\n",
    "\n",
    "class SelfRagState(TypedDict):\n",
    "    question: str                 # 사용자의 질문\n",
    "    generation: str               # LLM 생성 답변\n",
    "    documents: List[Document]     # 컨텍스트 문서 (검색된 문서)\n",
    "    num_generations: int          # 질문 or 답변 생성 횟수 (무한 루프 방지에 활용)"
   ]
  },
  {
   "cell_type": "markdown",
   "id": "398fae2b",
   "metadata": {},
   "source": [
    "`(2) Node 구성`"
   ]
  },
  {
   "cell_type": "code",
   "execution_count": 37,
   "id": "d9c7e713",
   "metadata": {},
   "outputs": [],
   "source": [
    "def retrieve_menu_self(state: SelfRagState):\n",
    "    \"\"\"문서를 검색하는 함수\"\"\"\n",
    "    print(\"--- 문서 검색 ---\")\n",
    "    question = state[\"question\"]\n",
    "    \n",
    "    # 문서 검색 로직\n",
    "    documents = menu_db.similarity_search(question, k=2)\n",
    "    return {\"documents\": documents}      # 가장 마지막에 검색한 문서 객체들로 상태를 업데이트 \n",
    "\n",
    "def generate_self(state: SelfRagState):\n",
    "    \"\"\"답변을 생성하는 함수\"\"\"\n",
    "    print(\"--- 답변 생성 ---\")\n",
    "    question = state[\"question\"]\n",
    "    documents = state[\"documents\"]\n",
    "    \n",
    "    # RAG를 이용한 답변 생성\n",
    "    generation = generator_rag_answer(question, docs=documents)\n",
    "\n",
    "    # 생성 횟수 업데이트\n",
    "    num_generations = state.get(\"num_generations\", 0)\n",
    "    num_generations += 1\n",
    "    return {\"generation\": generation, \"num_generations\": num_generations}      # 답변, 생성횟수 업데이트 \n",
    "\n",
    "\n",
    "def grade_documents_self(state: SelfRagState):\n",
    "    \"\"\"검색된 문서의 관련성을 평가하는 함수\"\"\"\n",
    "    print(\"--- 문서 관련성 평가 ---\")\n",
    "    question = state[\"question\"]\n",
    "    documents = state[\"documents\"]\n",
    "    \n",
    "    # 각 문서 평가\n",
    "    filtered_docs = []\n",
    "    for d in documents:\n",
    "        score = retrieval_grader_binary.invoke({\"question\": question, \"document\": d})\n",
    "        grade = score.binary_score\n",
    "        if grade == \"yes\":\n",
    "            print(\"---문서 관련성: 있음---\")\n",
    "            filtered_docs.append(d)\n",
    "        else:\n",
    "            print(\"---문서 관련성: 없음---\")\n",
    "            \n",
    "    return {\"documents\": filtered_docs}       # 관련성 평가에 합격한 문서들만 저장 (override)\n",
    "\n",
    "\n",
    "def transform_query_self(state: SelfRagState):\n",
    "    \"\"\"질문을 개선하는 함수\"\"\"\n",
    "    print(\"--- 질문 개선 ---\")\n",
    "    question = state[\"question\"]\n",
    "    \n",
    "    # 질문 재작성\n",
    "    rewritten_question = rewrite_question(question)\n",
    "\n",
    "    # 생성 횟수 업데이트\n",
    "    num_generations = state.get(\"num_generations\", 0)\n",
    "    num_generations += 1\n",
    "    return {\"question\": rewritten_question, \"num_generations\": num_generations}      # 재작성한 질문을 저장, 생성횟수 업데이트 "
   ]
  },
  {
   "cell_type": "markdown",
   "id": "f21bce9a",
   "metadata": {},
   "source": [
    "`(3) Edge 구성`"
   ]
  },
  {
   "cell_type": "code",
   "execution_count": 38,
   "id": "16d71445",
   "metadata": {},
   "outputs": [],
   "source": [
    "def decide_to_generate_self(state: SelfRagState):\n",
    "    \"\"\"답변 생성 여부를 결정하는 함수\"\"\"\n",
    "\n",
    "    num_generations = state.get(\"num_generations\", 0)\n",
    "    if num_generations > 2:\n",
    "        print(\"--- 결정: 생성 횟수 초과, 답변 생성 (-> generate)---\")\n",
    "        return \"generate\"\n",
    "\n",
    "    print(\"--- 평가된 문서 분석 ---\")\n",
    "    filtered_documents = state.get(\"documents\", None)\n",
    "    \n",
    "    if not filtered_documents:\n",
    "        print(\"--- 결정: 모든 문서가 질문과 관련이 없음, 질문 개선 필요 (-> transform_query)---\")\n",
    "        return \"transform_query\"\n",
    "    else:\n",
    "        print(\"--- 결정: 답변 생성 (-> generate)---\")\n",
    "        return \"generate\"\n",
    "\n",
    "\n",
    "def grade_generation_self(state: SelfRagState):\n",
    "    \"\"\"생성된 답변의 품질을 평가하는 함수\"\"\"\n",
    "\n",
    "    num_generations = state.get(\"num_generations\", 0)\n",
    "    if num_generations > 2:\n",
    "        print(\"--- 결정: 생성 횟수 초과, 종료 (-> END)---\")\n",
    "        return \"end\"\n",
    "    \n",
    "    # 1단계: 환각 여부 확인\n",
    "    print(\"--- 환각 여부 확인 ---\")\n",
    "    question, documents, generation = state[\"question\"], state[\"documents\"], state[\"generation\"]\n",
    "    \n",
    "    hallucination_grade = hallucination_grader.invoke(\n",
    "        {\"documents\": documents, \"generation\": generation}\n",
    "    )\n",
    "\n",
    "    if hallucination_grade.binary_score == \"yes\":\n",
    "        print(\"--- 결정: 환각이 없음 (답변이 컨텍스트에 근거함) ---\")\n",
    "\n",
    "        # 1단계 통과할 경우 -> 2단계: 질문-답변 관련성 평가 \n",
    "        print(\"---질문-답변 관련성 확인---\")\n",
    "        relevance_grade = answer_grader_binary.invoke({\"question\": question, \"generation\": generation})\n",
    "        if relevance_grade.binary_score == \"yes\":\n",
    "            print(\"--- 결정: 생성된 답변이 질문을 잘 다룸 (-> END) ---\")\n",
    "            return \"useful\"\n",
    "        else:\n",
    "            print(\"--- 결정: 생성된 답변이 질문을 제대로 다루지 않음 (-> transform_query) ---\")\n",
    "            return \"not useful\"\n",
    "    else:\n",
    "        print(\"--- 결정: 생성된 답변이 문서에 근거하지 않음, 재시도 필요 (-> generate) ---\")\n",
    "        return \"not supported\""
   ]
  },
  {
   "cell_type": "markdown",
   "id": "54af38ea",
   "metadata": {},
   "source": [
    "`(4) 그래프 연결`"
   ]
  },
  {
   "cell_type": "code",
   "execution_count": 39,
   "id": "630e15b3",
   "metadata": {},
   "outputs": [
    {
     "data": {
      "image/jpeg": "[encoded data removed]",
      "text/plain": [
       "<IPython.core.display.Image object>"
      ]
     },
     "metadata": {},
     "output_type": "display_data"
    }
   ],
   "source": [
    "from langgraph.graph import StateGraph, START, END\n",
    "from IPython.display import Image, display\n",
    "\n",
    "# 워크플로우 그래프 초기화\n",
    "builder = StateGraph(SelfRagState)\n",
    "\n",
    "# 노드 정의\n",
    "builder.add_node(\"search_menu\", retrieve_menu_self)          # 문서 검색\n",
    "builder.add_node(\"grade_documents\", grade_documents_self)  # 문서 평가\n",
    "builder.add_node(\"generate\", generate_self)                # 답변 생성\n",
    "builder.add_node(\"transform_query\", transform_query_self)  # 질문 개선\n",
    "\n",
    "# 그래프 구축\n",
    "builder.add_edge(START, \"search_menu\")\n",
    "builder.add_edge(\"search_menu\", \"grade_documents\")\n",
    "\n",
    "# 조건부 엣지 추가: 문서 평가 후 결정\n",
    "builder.add_conditional_edges(\n",
    "    \"grade_documents\",\n",
    "    decide_to_generate_self,\n",
    "    {\n",
    "        \"transform_query\": \"transform_query\",\n",
    "        \"generate\": \"generate\",\n",
    "    },\n",
    ")\n",
    "builder.add_edge(\"transform_query\", \"search_menu\")\n",
    "\n",
    "# 조건부 엣지 추가: 답변 생성 후 평가\n",
    "builder.add_conditional_edges(\n",
    "    \"generate\",\n",
    "    grade_generation_self,\n",
    "    {\n",
    "        \"not supported\": \"generate\",          # 환각이 발생한 경우 -> 답변을 다시 생성 \n",
    "        \"not useful\": \"transform_query\",      # 질문과 답변의 관련성이 부족한 경우 -> 쿼리 개선해서 다시 검색 \n",
    "        \"useful\": END, \n",
    "        \"end\": END,\n",
    "    },\n",
    ")\n",
    "\n",
    "# 그래프 컴파일\n",
    "self_rag = builder.compile()\n",
    "\n",
    "# 그래프 시각화\n",
    "display(Image(self_rag.get_graph().draw_mermaid_png()))"
   ]
  },
  {
   "cell_type": "markdown",
   "id": "9a9c06f7",
   "metadata": {},
   "source": [
    "`(5) 그래프 실행`"
   ]
  },
  {
   "cell_type": "code",
   "execution_count": 40,
   "id": "2277a425",
   "metadata": {},
   "outputs": [
    {
     "name": "stdout",
     "output_type": "stream",
     "text": [
      "--- 문서 검색 ---\n",
      "--- 문서 관련성 평가 ---\n",
      "---문서 관련성: 있음---\n",
      "---문서 관련성: 있음---\n",
      "--- 평가된 문서 분석 ---\n",
      "--- 결정: 답변 생성 (-> generate)---\n",
      "--- 답변 생성 ---\n",
      "--- 환각 여부 확인 ---\n",
      "--- 결정: 환각이 없음 (답변이 컨텍스트에 근거함) ---\n",
      "---질문-답변 관련성 확인---\n",
      "--- 결정: 생성된 답변이 질문을 잘 다룸 (-> END) ---\n"
     ]
    }
   ],
   "source": [
    "inputs = {\"question\": \"이 식당의 대표 메뉴는 무엇인가요? 주재료는 무엇인가요?\"}\n",
    "final_output = self_rag.invoke(inputs)"
   ]
  },
  {
   "cell_type": "code",
   "execution_count": 41,
   "id": "9187948a",
   "metadata": {},
   "outputs": [
    {
     "data": {
      "text/plain": [
       "'이 식당의 대표 메뉴는 \"시그니처 스테이크\"입니다. 주재료는 \"최상급 한우 등심, 로즈메리 감자, 그릴드 아스파라거스\"입니다.'"
      ]
     },
     "execution_count": 41,
     "metadata": {},
     "output_type": "execute_result"
    }
   ],
   "source": [
    "# 최종 답변 \n",
    "final_output[\"generation\"]"
   ]
  },
  {
   "cell_type": "code",
   "execution_count": 42,
   "id": "dd4d6ea2",
   "metadata": {},
   "outputs": [
    {
     "name": "stdout",
     "output_type": "stream",
     "text": [
      "--- 문서 검색 ---\n",
      "\"Node 'search_menu':\"\n",
      "(\"Value: {'documents': [Document(metadata={'menu_name': '랍스터 비스크', \"\n",
      " \"'menu_number': 7, 'source': './data/restaurant_menu.txt'}, page_content='7. \"\n",
      " '랍스터 비스크\\\\n   • 가격: ₩28,000\\\\n   • 주요 식재료: 랍스터, 생크림, 브랜디, 파프리카\\\\n   • 설명: 랍스터 '\n",
      " '껍질과 육수로 오랜 시간 우려낸 진한 비스크 수프입니다. 생크림으로 부드러운 질감을 더하고 브랜디로 깊은 풍미를 살렸습니다. 작은 랍스터 '\n",
      " \"살을 토핑으로 올려 고급스러움을 더했습니다.'), Document(metadata={'menu_name': '트러플 리조또', \"\n",
      " \"'menu_number': 2, 'source': './data/restaurant_menu.txt'}, page_content='2. \"\n",
      " '트러플 리조또\\\\n   • 가격: ₩22,000\\\\n   • 주요 식재료: 이탈리아산 아르보리오 쌀, 블랙 트러플, 파르미지아노 레지아노 '\n",
      " '치즈\\\\n   • 설명: 크리미한 텍스처의 리조또에 고급 블랙 트러플을 듬뿍 얹어 풍부한 향과 맛을 즐길 수 있는 메뉴입니다. 24개월 '\n",
      " \"숙성된 파르미지아노 레지아노 치즈를 사용하여 깊은 맛을 더했으며, 주문 즉시 조리하여 최상의 상태로 제공됩니다.')]}\")\n",
      "\n",
      "----------------------------------------------------------\n",
      "\n",
      "--- 문서 관련성 평가 ---\n",
      "---문서 관련성: 없음---\n",
      "---문서 관련성: 없음---\n",
      "--- 평가된 문서 분석 ---\n",
      "--- 결정: 모든 문서가 질문과 관련이 없음, 질문 개선 필요 (-> transform_query)---\n",
      "\"Node 'grade_documents':\"\n",
      "\"Value: {'documents': []}\"\n",
      "\n",
      "----------------------------------------------------------\n",
      "\n",
      "--- 질문 개선 ---\n",
      "\"Node 'transform_query':\"\n",
      "\"Value: {'question': '김치를 주재료로 사용하는 요리나 메뉴는 어떤 것들이 있나요?', 'num_generations': 1}\"\n",
      "\n",
      "----------------------------------------------------------\n",
      "\n",
      "--- 문서 검색 ---\n",
      "\"Node 'search_menu':\"\n",
      "(\"Value: {'documents': [Document(metadata={'menu_name': '랍스터 비스크', \"\n",
      " \"'menu_number': 7, 'source': './data/restaurant_menu.txt'}, page_content='7. \"\n",
      " '랍스터 비스크\\\\n   • 가격: ₩28,000\\\\n   • 주요 식재료: 랍스터, 생크림, 브랜디, 파프리카\\\\n   • 설명: 랍스터 '\n",
      " '껍질과 육수로 오랜 시간 우려낸 진한 비스크 수프입니다. 생크림으로 부드러운 질감을 더하고 브랜디로 깊은 풍미를 살렸습니다. 작은 랍스터 '\n",
      " \"살을 토핑으로 올려 고급스러움을 더했습니다.'), Document(metadata={'menu_name': '시그니처 스테이크', \"\n",
      " \"'menu_number': 1, 'source': './data/restaurant_menu.txt'}, page_content='1. \"\n",
      " '시그니처 스테이크\\\\n   • 가격: ₩35,000\\\\n   • 주요 식재료: 최상급 한우 등심, 로즈메리 감자, 그릴드 '\n",
      " '아스파라거스\\\\n   • 설명: 셰프의 특제 시그니처 메뉴로, 21일간 건조 숙성한 최상급 한우 등심을 사용합니다. 미디엄 레어로 '\n",
      " '조리하여 육즙을 최대한 보존하며, 로즈메리 향의 감자와 아삭한 그릴드 아스파라거스가 곁들여집니다. 레드와인 소스와 함께 제공되어 풍부한 '\n",
      " \"맛을 더합니다.')]}\")\n",
      "\n",
      "----------------------------------------------------------\n",
      "\n",
      "--- 문서 관련성 평가 ---\n",
      "---문서 관련성: 없음---\n",
      "---문서 관련성: 없음---\n",
      "--- 평가된 문서 분석 ---\n",
      "--- 결정: 모든 문서가 질문과 관련이 없음, 질문 개선 필요 (-> transform_query)---\n",
      "\"Node 'grade_documents':\"\n",
      "\"Value: {'documents': []}\"\n",
      "\n",
      "----------------------------------------------------------\n",
      "\n",
      "--- 질문 개선 ---\n",
      "\"Node 'transform_query':\"\n",
      "(\"Value: {'question': '김치를 주재료로 활용하는 요리나 메뉴에는 어떤 종류가 있습니까?', \"\n",
      " \"'num_generations': 2}\")\n",
      "\n",
      "----------------------------------------------------------\n",
      "\n",
      "--- 문서 검색 ---\n",
      "\"Node 'search_menu':\"\n",
      "(\"Value: {'documents': [Document(metadata={'menu_name': '랍스터 비스크', \"\n",
      " \"'menu_number': 7, 'source': './data/restaurant_menu.txt'}, page_content='7. \"\n",
      " '랍스터 비스크\\\\n   • 가격: ₩28,000\\\\n   • 주요 식재료: 랍스터, 생크림, 브랜디, 파프리카\\\\n   • 설명: 랍스터 '\n",
      " '껍질과 육수로 오랜 시간 우려낸 진한 비스크 수프입니다. 생크림으로 부드러운 질감을 더하고 브랜디로 깊은 풍미를 살렸습니다. 작은 랍스터 '\n",
      " \"살을 토핑으로 올려 고급스러움을 더했습니다.'), Document(metadata={'menu_name': '시그니처 스테이크', \"\n",
      " \"'menu_number': 1, 'source': './data/restaurant_menu.txt'}, page_content='1. \"\n",
      " '시그니처 스테이크\\\\n   • 가격: ₩35,000\\\\n   • 주요 식재료: 최상급 한우 등심, 로즈메리 감자, 그릴드 '\n",
      " '아스파라거스\\\\n   • 설명: 셰프의 특제 시그니처 메뉴로, 21일간 건조 숙성한 최상급 한우 등심을 사용합니다. 미디엄 레어로 '\n",
      " '조리하여 육즙을 최대한 보존하며, 로즈메리 향의 감자와 아삭한 그릴드 아스파라거스가 곁들여집니다. 레드와인 소스와 함께 제공되어 풍부한 '\n",
      " \"맛을 더합니다.')]}\")\n",
      "\n",
      "----------------------------------------------------------\n",
      "\n",
      "--- 문서 관련성 평가 ---\n",
      "---문서 관련성: 없음---\n",
      "---문서 관련성: 없음---\n",
      "--- 평가된 문서 분석 ---\n",
      "--- 결정: 모든 문서가 질문과 관련이 없음, 질문 개선 필요 (-> transform_query)---\n",
      "\"Node 'grade_documents':\"\n",
      "\"Value: {'documents': []}\"\n",
      "\n",
      "----------------------------------------------------------\n",
      "\n",
      "--- 질문 개선 ---\n",
      "\"Node 'transform_query':\"\n",
      "(\"Value: {'question': '김치를 주재료로 사용하는 다양한 요리나 메뉴의 종류는 무엇인가요?', \"\n",
      " \"'num_generations': 3}\")\n",
      "\n",
      "----------------------------------------------------------\n",
      "\n",
      "--- 문서 검색 ---\n",
      "\"Node 'search_menu':\"\n",
      "(\"Value: {'documents': [Document(metadata={'menu_name': '랍스터 비스크', \"\n",
      " \"'menu_number': 7, 'source': './data/restaurant_menu.txt'}, page_content='7. \"\n",
      " '랍스터 비스크\\\\n   • 가격: ₩28,000\\\\n   • 주요 식재료: 랍스터, 생크림, 브랜디, 파프리카\\\\n   • 설명: 랍스터 '\n",
      " '껍질과 육수로 오랜 시간 우려낸 진한 비스크 수프입니다. 생크림으로 부드러운 질감을 더하고 브랜디로 깊은 풍미를 살렸습니다. 작은 랍스터 '\n",
      " \"살을 토핑으로 올려 고급스러움을 더했습니다.'), Document(metadata={'menu_name': '버섯 크림 수프', \"\n",
      " \"'menu_number': 4, 'source': './data/restaurant_menu.txt'}, page_content='4. \"\n",
      " '버섯 크림 수프\\\\n   • 가격: ₩10,000\\\\n   • 주요 식재료: 양송이버섯, 표고버섯, 생크림, 트러플 오일\\\\n   • '\n",
      " '설명: 양송이버섯과 표고버섯을 오랜 시간 정성스레 끓여 만든 크림 수프입니다. 부드러운 텍스처와 깊은 버섯 향이 특징이며, 최상급 트러플 '\n",
      " \"오일을 살짝 뿌려 고급스러운 향을 더했습니다. 파슬리를 곱게 다져 고명으로 올려 제공됩니다.')]}\")\n",
      "\n",
      "----------------------------------------------------------\n",
      "\n",
      "--- 문서 관련성 평가 ---\n",
      "---문서 관련성: 없음---\n",
      "---문서 관련성: 없음---\n",
      "--- 결정: 생성 횟수 초과, 답변 생성 (-> generate)---\n",
      "\"Node 'grade_documents':\"\n",
      "\"Value: {'documents': []}\"\n",
      "\n",
      "----------------------------------------------------------\n",
      "\n",
      "--- 답변 생성 ---\n",
      "--- 결정: 생성 횟수 초과, 종료 (-> END)---\n",
      "\"Node 'generate':\"\n",
      "\"Value: {'generation': '주어진 정보만으로는 답할 수 없습니다.', 'num_generations': 4}\"\n",
      "\n",
      "----------------------------------------------------------\n",
      "\n"
     ]
    }
   ],
   "source": [
    "inputs = {\"question\": \"김치를 재료로 하는 메뉴가 있나요?\"}\n",
    "for output in self_rag.stream(inputs):\n",
    "    for key, value in output.items():\n",
    "        # 노드 출력\n",
    "        pprint(f\"Node '{key}':\")\n",
    "        pprint(f\"Value: {value}\", indent=2, width=80, depth=None)\n",
    "    print(\"\\n----------------------------------------------------------\\n\")"
   ]
  },
  {
   "cell_type": "code",
   "execution_count": 43,
   "id": "cba11a6c",
   "metadata": {},
   "outputs": [
    {
     "name": "stdout",
     "output_type": "stream",
     "text": [
      "주어진 정보만으로는 답할 수 없습니다.\n"
     ]
    }
   ],
   "source": [
    "# 최종 답변\n",
    "print(value[\"generation\"])"
   ]
  },
  {
   "cell_type": "markdown",
   "id": "057e8c01",
   "metadata": {},
   "source": [
    "### 4-3. 서브그래프 (Subgraphs)\n",
    "\n",
    "- 주요 특징:\n",
    "    - 각 서브그래프는 독립적인 상태 관리 가능\n",
    "    - 메인 그래프와 서브그래프 간의 정보 교환 지원\n",
    "    - 모듈화된 설계로 복잡한 워크플로우 구현 용이\n",
    "\n",
    "- 활용 예시:\n",
    "    - 다중 에이전트 시스템: 각 에이전트 또는 팀이 자체적인 상태를 추적\n",
    "    - 복잡한 의사결정 프로세스: 여러 단계의 처리를 모듈화하여 관리\n",
    "    - Human-in-the-Loop (HITL) 통합: \n",
    "        - 서브그래프를 활용하여 인간의 개입 지점을 명확히 정의\n",
    "        - LangGraph의 Breakpoints 기능과 결합하여 효과적인 HITL 구현 가능\n",
    "\n",
    "- 장점:\n",
    "    - 모듈성 향상: 복잡한 시스템을 관리 가능한 단위로 분할\n",
    "    - 재사용성: 서브그래프를 다른 프로젝트나 컨텍스트에서 재활용 가능\n",
    "    - 유연성: 시스템의 일부분만 수정하거나 확장하기 쉬움\n",
    "    - 디버깅 용이성: 각 서브그래프를 독립적으로 테스트하고 디버그 가능\n",
    "\n",
    "- 구현 방법:\n",
    "    1. 서브그래프 상태 정의\n",
    "    2. 서브그래프 노드 및 엣지 구성\n",
    "    3. 메인 그래프에 서브그래프 통합"
   ]
  },
  {
   "cell_type": "markdown",
   "id": "7ad41d7f",
   "metadata": {},
   "source": [
    "`(1) 병렬 노드`\n",
    "\n",
    "- 병렬 노드 실행은 전체 그래프 작업의 속도를 높이는 데 필수적\n",
    "- LangGraph는 노드의 병렬 실행을 기본적으로 지원\n",
    "- 팬아웃(fan-out)과 팬인(fan-in) 메커니즘을 통해 구현"
   ]
  },
  {
   "cell_type": "code",
   "execution_count": 44,
   "id": "e673f00a",
   "metadata": {},
   "outputs": [],
   "source": [
    "### 검색 방법을 3가지로 추가 (메뉴 검색 + 와인 검색 + 웹 검색)\n",
    "\n",
    "# 상태를 수정 (Reducer 적용)\n",
    "from typing import List, TypedDict, Annotated\n",
    "from langchain_core.documents import Document\n",
    "from operator import add\n",
    "\n",
    "class SearchState(TypedDict):\n",
    "    question: str                                            \n",
    "    documents: Annotated[List[Document], add]     # 컨텍스트 문서를 추가 \n",
    "    filtered_documents: List[Document]            # 컨텍스트 문서 중에서 질문에 대답할 수 있는 문서를 필터링\n",
    "\n",
    "\n",
    "def search_menu_subgraph(state: SearchState):\n",
    "    \"\"\"\n",
    "    Node for searching information in the restaurant menu\n",
    "    \"\"\"\n",
    "    question = state[\"question\"]\n",
    "    docs = search_menu.invoke(question)\n",
    "    if len(docs) > 0:\n",
    "        return {\"documents\": docs}\n",
    "    else:\n",
    "        return {\"documents\": [Document(page_content=\"관련 메뉴 정보를 찾을 수 없습니다.\")]}\n",
    "\n",
    "\n",
    "def search_wine_subgraph(state: SearchState):\n",
    "    \"\"\"\n",
    "    Node for searching information in the restaurant's wine list\n",
    "    \"\"\"\n",
    "    question = state[\"question\"]\n",
    "    docs = search_wine.invoke(question)\n",
    "    if len(docs) > 0:\n",
    "        return {\"documents\": docs}\n",
    "    else:\n",
    "        return {\"documents\": [Document(page_content=\"관련 와인 정보를 찾을 수 없습니다.\")]}\n",
    "\n",
    "\n",
    "def search_web_subgraph(state: SearchState):\n",
    "    \"\"\"\n",
    "    Node for searching the web for information not available in the restaurant menu \n",
    "    or for up-to-date information, and returning the results\n",
    "    \"\"\"\n",
    "    question = state[\"question\"]\n",
    "    docs = search_web.invoke(question)\n",
    "    if len(docs) > 0:\n",
    "        return {\"documents\": docs}\n",
    "    else:\n",
    "        return {\"documents\": [Document(page_content=\"관련 정보를 찾을 수 없습니다.\")]}\n",
    "\n",
    "\n",
    "# 관련성 평가 후에 필터링 문서만을 저장 \n",
    "def filter_documents_subgraph(state: SearchState):\n",
    "    \"\"\"검색된 문서의 관련성을 평가하고 필터링하는 함수\"\"\"\n",
    "    print(\"--- 문서 관련성 평가 ---\")\n",
    "    question = state[\"question\"]\n",
    "    documents = state[\"documents\"]\n",
    "    \n",
    "    # 각 문서 평가\n",
    "    filtered_docs = []\n",
    "    for d in documents:\n",
    "        score = retrieval_grader_binary.invoke({\"question\": question, \"document\": d})\n",
    "        grade = score.binary_score\n",
    "        if grade == \"yes\":\n",
    "            print(\"---문서 관련성: 있음---\")\n",
    "            filtered_docs.append(d)\n",
    "        else:\n",
    "            print(\"---문서 관련성: 없음---\")\n",
    "            \n",
    "    return {\"filtered_documents\": filtered_docs}   # 관련성 평가에 합격한 문서들만 저장 (override)"
   ]
  },
  {
   "cell_type": "code",
   "execution_count": 45,
   "id": "ce0c69bb",
   "metadata": {},
   "outputs": [
    {
     "data": {
      "image/jpeg": "[encoded data removed]",
      "text/plain": [
       "<IPython.core.display.Image object>"
      ]
     },
     "metadata": {},
     "output_type": "display_data"
    }
   ],
   "source": [
    "# 그래프 생성을 위한 StateGraph 객체를 정의\n",
    "builder = StateGraph(SearchState)\n",
    "\n",
    "# 각 노드를 초기화\n",
    "builder.add_node(\"search_menu\", search_menu_subgraph)            # 메뉴 검색 노드\n",
    "builder.add_node(\"search_wine\", search_wine_subgraph)            # 와인 검색 노드\n",
    "builder.add_node(\"search_web\", search_web_subgraph)              # 웹 검색 노드\n",
    "builder.add_node(\"filter_documents\", filter_documents_subgraph)       # 문서 평가 노드\n",
    "\n",
    "# 그래프 로직 정의\n",
    "builder.add_edge(START, \"search_menu\")  \n",
    "builder.add_edge(START, \"search_wine\")  \n",
    "builder.add_edge(START, \"search_web\")  \n",
    "builder.add_edge(\"search_menu\", \"filter_documents\")  \n",
    "builder.add_edge(\"search_wine\", \"filter_documents\")\n",
    "builder.add_edge(\"search_web\", \"filter_documents\")    \n",
    "builder.add_edge(\"filter_documents\", END)  \n",
    "\n",
    "# 그래프 컴파일\n",
    "search_graph = builder.compile()\n",
    "\n",
    "# 그래프 시각화 (Mermaid 형식의 PNG로)\n",
    "display(Image(search_graph.get_graph().draw_mermaid_png()))"
   ]
  },
  {
   "cell_type": "code",
   "execution_count": 46,
   "id": "bb970c61",
   "metadata": {},
   "outputs": [
    {
     "name": "stdout",
     "output_type": "stream",
     "text": [
      "--- 문서 관련성 평가 ---\n",
      "---문서 관련성: 있음---\n",
      "---문서 관련성: 없음---\n",
      "---문서 관련성: 없음---\n",
      "---문서 관련성: 없음---\n",
      "---문서 관련성: 있음---\n",
      "---문서 관련성: 있음---\n"
     ]
    },
    {
     "data": {
      "text/plain": [
       "{'question': '스테이크 매뉴가 있으면 추천해주세요. 그리고 어울리는 와인도 소개해주세요.',\n",
       " 'documents': [Document(metadata={'menu_name': '시그니처 스테이크', 'menu_number': 1, 'source': './data/restaurant_menu.txt'}, page_content='1. 시그니처 스테이크\\n   • 가격: ₩35,000\\n   • 주요 식재료: 최상급 한우 등심, 로즈메리 감자, 그릴드 아스파라거스\\n   • 설명: 셰프의 특제 시그니처 메뉴로, 21일간 건조 숙성한 최상급 한우 등심을 사용합니다. 미디엄 레어로 조리하여 육즙을 최대한 보존하며, 로즈메리 향의 감자와 아삭한 그릴드 아스파라거스가 곁들여집니다. 레드와인 소스와 함께 제공되어 풍부한 맛을 더합니다.'),\n",
       "  Document(metadata={'menu_name': '치킨 콘피', 'menu_number': 9, 'source': './data/restaurant_menu.txt'}, page_content='9. 치킨 콘피\\n   • 가격: ₩23,000\\n   • 주요 식재료: 닭다리살, 허브, 마늘, 올리브 오일\\n   • 설명: 닭다리살을 허브와 마늘을 넣은 올리브 오일에 저온에서 장시간 조리한 프랑스 요리입니다. 부드럽고 촉촉한 육질이 특징이며, 로즈메리 감자와 제철 채소를 곁들여 제공합니다. 레몬 제스트를 뿌려 상큼한 향을 더했습니다.'),\n",
       "  Document(metadata={'menu_name': '풀리니 몽라쉐 1er Cru 2018', 'menu_number': 7, 'source': './data/restaurant_wine.txt'}, page_content='7. 풀리니 몽라쉐 1er Cru 2018\\n   • 가격: ₩320,000\\n   • 주요 품종: 샤르도네\\n   • 설명: 부르고뉴 최고의 화이트 와인 중 하나로 꼽힙니다. 레몬, 사과, 배의 과실향과 함께 헤이즐넛, 버터, 바닐라의 풍부한 향이 어우러집니다. 미네랄리티가 돋보이며, 크리미한 텍스처와 긴 여운이 특징입니다. 해산물, 닭고기, 크림 소스 파스타와 좋은 페어링을 이룹니다.'),\n",
       "  Document(metadata={'menu_name': '사시카이아 2018', 'menu_number': 3, 'source': './data/restaurant_wine.txt'}, page_content='3. 사시카이아 2018\\n   • 가격: ₩420,000\\n   • 주요 품종: 카베르네 소비뇽, 카베르네 프랑, 메를로\\n   • 설명: 이탈리아 토스카나의 슈퍼 투스칸 와인입니다. 블랙베리, 카시스의 강렬한 과실향과 함께 허브, 가죽, 스파이스 노트가 복잡성을 더합니다. 풀바디이지만 우아한 타닌과 신선한 산도가 균형을 잡아줍니다. 오크 숙성으로 인한 바닐라, 초콜릿 향이 은은하게 느껴집니다.'),\n",
       "  Document(metadata={'source': 'web search', 'url': 'https://blog.naver.com/PostView.nhn?blogId=bordo5111144&logNo=120193798369'}, page_content='<Document href=\"https://blog.naver.com/PostView.nhn?blogId=bordo5111144&logNo=120193798369\"/>\\n스테이크에 어울리는 와인 스테이크 와인 추천 스테이크 와인을 추천해 드려요~!!ㅎㅎ 너무 잘 어울리는 스테이크 와인을 소개해 드려요. 소개해드릴 와인은 빠할레45 꼬뜨 뒤 론  빠할레45 꼬뜨 뒤 론 와인은 양고기 요리 꼬뜨 뒤 론 포도원은 프랑스 남동부에 위치한 함께 잘 조화를 이루고 있는 와인 이에요. 빠할레45 꼬뜨 뒤 론 프랑스 와인은 고급 외국 요리와도 너무 잘 어울려요.ㅎㅎ 특히 스테이크 요리와 궁합이 잘 맞아요.ㅎㅎ 저작권을 침해하는 컨텐츠가 포함되어 있는 게시물의 경우 글보내기 기능을 제한하고 있습니다. 건강한 인터넷 환경을 만들어 나갈 수 있도록 고객님의 많은 관심과 협조를 부탁드립니다. 저작권을 침해하는 컨텐츠가 포함되어 있는 게시물의 경우 주제 분류 기능을 제한하고 있습니다. 건강한 인터넷 환경을 만들어 나갈 수 있도록 고객님의 많은 관심과 협조를 부탁드립니다. 건전한 인터넷 문화 조성을 위해 회원님의 적극적인 협조를 부탁드립니다.\\n</Document>'),\n",
       "  Document(metadata={'source': 'web search', 'url': 'https://blog.naver.com/PostView.nhn?blogId=cyahnnn&logNo=222766631086'}, page_content='<Document href=\"https://blog.naver.com/PostView.nhn?blogId=cyahnnn&logNo=222766631086\"/>\\n스테이크와 어울리는 와인 : 네이버 블로그 변경 전 공유된 블로그/글/클립 링크는 연결이 끊길 수 있습니다. 블로그 블로그 블로그 블로그 카베르네 소비뇽(Cabernet Sauvignon) 및 말벡(Malbec)과 같은 전형적인 선택부터 더 가벼운 레드 와인, 심지어 화이트 와인과 맛있는 스테이크를 페어링하는 방법까지, 우리의 아카이브에서 가져온 최고의 조언과 최근 디캔터 전문가가 추천한 와인을 소개한다. 그는 바디감과 질감이 있지만 스테이크 저녁 식사 중에 미각을 상쾌하게 할 수 있는 레드 와인을 즐긴다고 말하며, ‘스테이크의 리스크은 ‘무거운 육류 맛 = 무거운 와인’이라고 생각하는 것이다.’라고 말했다. 음식과 와인 전문가인 피오나 베켓(Fiona Becket)이 2007년 디캔터에서 스테이크와 함께 몇 가지의 고급 와인을 테이스팅한 후, ‘나는 일반적으로 피노 누아를 스테이크와 궁합이라고 생각하지 않지만, 고기를 레어(rare)로 요리했을 때 지금까지 최고의 궁합은 클래식하게 실크처럼 부드럽고 매혹적인 다니엘 리옹의 본 로마네(Daniel Rion, Vosne-Romanée 2001)이다’라고 썼다.\\n</Document>')],\n",
       " 'filtered_documents': [Document(metadata={'menu_name': '시그니처 스테이크', 'menu_number': 1, 'source': './data/restaurant_menu.txt'}, page_content='1. 시그니처 스테이크\\n   • 가격: ₩35,000\\n   • 주요 식재료: 최상급 한우 등심, 로즈메리 감자, 그릴드 아스파라거스\\n   • 설명: 셰프의 특제 시그니처 메뉴로, 21일간 건조 숙성한 최상급 한우 등심을 사용합니다. 미디엄 레어로 조리하여 육즙을 최대한 보존하며, 로즈메리 향의 감자와 아삭한 그릴드 아스파라거스가 곁들여집니다. 레드와인 소스와 함께 제공되어 풍부한 맛을 더합니다.'),\n",
       "  Document(metadata={'source': 'web search', 'url': 'https://blog.naver.com/PostView.nhn?blogId=bordo5111144&logNo=120193798369'}, page_content='<Document href=\"https://blog.naver.com/PostView.nhn?blogId=bordo5111144&logNo=120193798369\"/>\\n스테이크에 어울리는 와인 스테이크 와인 추천 스테이크 와인을 추천해 드려요~!!ㅎㅎ 너무 잘 어울리는 스테이크 와인을 소개해 드려요. 소개해드릴 와인은 빠할레45 꼬뜨 뒤 론  빠할레45 꼬뜨 뒤 론 와인은 양고기 요리 꼬뜨 뒤 론 포도원은 프랑스 남동부에 위치한 함께 잘 조화를 이루고 있는 와인 이에요. 빠할레45 꼬뜨 뒤 론 프랑스 와인은 고급 외국 요리와도 너무 잘 어울려요.ㅎㅎ 특히 스테이크 요리와 궁합이 잘 맞아요.ㅎㅎ 저작권을 침해하는 컨텐츠가 포함되어 있는 게시물의 경우 글보내기 기능을 제한하고 있습니다. 건강한 인터넷 환경을 만들어 나갈 수 있도록 고객님의 많은 관심과 협조를 부탁드립니다. 저작권을 침해하는 컨텐츠가 포함되어 있는 게시물의 경우 주제 분류 기능을 제한하고 있습니다. 건강한 인터넷 환경을 만들어 나갈 수 있도록 고객님의 많은 관심과 협조를 부탁드립니다. 건전한 인터넷 문화 조성을 위해 회원님의 적극적인 협조를 부탁드립니다.\\n</Document>'),\n",
       "  Document(metadata={'source': 'web search', 'url': 'https://blog.naver.com/PostView.nhn?blogId=cyahnnn&logNo=222766631086'}, page_content='<Document href=\"https://blog.naver.com/PostView.nhn?blogId=cyahnnn&logNo=222766631086\"/>\\n스테이크와 어울리는 와인 : 네이버 블로그 변경 전 공유된 블로그/글/클립 링크는 연결이 끊길 수 있습니다. 블로그 블로그 블로그 블로그 카베르네 소비뇽(Cabernet Sauvignon) 및 말벡(Malbec)과 같은 전형적인 선택부터 더 가벼운 레드 와인, 심지어 화이트 와인과 맛있는 스테이크를 페어링하는 방법까지, 우리의 아카이브에서 가져온 최고의 조언과 최근 디캔터 전문가가 추천한 와인을 소개한다. 그는 바디감과 질감이 있지만 스테이크 저녁 식사 중에 미각을 상쾌하게 할 수 있는 레드 와인을 즐긴다고 말하며, ‘스테이크의 리스크은 ‘무거운 육류 맛 = 무거운 와인’이라고 생각하는 것이다.’라고 말했다. 음식과 와인 전문가인 피오나 베켓(Fiona Becket)이 2007년 디캔터에서 스테이크와 함께 몇 가지의 고급 와인을 테이스팅한 후, ‘나는 일반적으로 피노 누아를 스테이크와 궁합이라고 생각하지 않지만, 고기를 레어(rare)로 요리했을 때 지금까지 최고의 궁합은 클래식하게 실크처럼 부드럽고 매혹적인 다니엘 리옹의 본 로마네(Daniel Rion, Vosne-Romanée 2001)이다’라고 썼다.\\n</Document>')]}"
      ]
     },
     "execution_count": 46,
     "metadata": {},
     "output_type": "execute_result"
    }
   ],
   "source": [
    "result = search_graph.invoke({\"question\": \"스테이크 매뉴가 있으면 추천해주세요. 그리고 어울리는 와인도 소개해주세요.\"})\n",
    "result"
   ]
  },
  {
   "cell_type": "markdown",
   "id": "d3020512",
   "metadata": {},
   "source": [
    "`(2) 조건부 엣지로 병렬 노드 실행`\n",
    "- 조건부 엣지는 실행 시간에 동적으로 경로를 결정할 수 있게 해주는 기능\n",
    "- 특정 조건에 따라 다른 노드 세트를 병렬로 실행 가능\n",
    "- 활용 사례:\n",
    "\n",
    "    - 데이터 처리 파이프라인: 데이터의 특성에 따라 다른 처리 경로 선택\n",
    "    - AI 모델 선택: 입력 데이터의 복잡성에 따라 다른 모델 세트 실행\n",
    "    - 동적 워크플로우: 사용자 입력이나 시스템 상태에 따라 다른 작업 흐름 구성"
   ]
  },
  {
   "cell_type": "code",
   "execution_count": 47,
   "id": "8689d25e",
   "metadata": {},
   "outputs": [
    {
     "name": "stdout",
     "output_type": "stream",
     "text": [
      "tools=[ToolSelector(tool='search_menu')]\n",
      "tools=[ToolSelector(tool='search_menu'), ToolSelector(tool='search_wine')]\n",
      "tools=[ToolSelector(tool='search_menu'), ToolSelector(tool='search_web')]\n"
     ]
    }
   ],
   "source": [
    "from typing import Literal\n",
    "from langchain_core.prompts import ChatPromptTemplate\n",
    "from pydantic import BaseModel, Field\n",
    "\n",
    "# 라우팅 결정을 위한 데이터 모델\n",
    "class ToolSelector(BaseModel):\n",
    "    \"\"\"Routes the user question to the most appropriate tool.\"\"\"\n",
    "    tool: Literal[\"search_menu\", \"search_web\", \"search_wine\"] = Field(\n",
    "        description=\"Select one of the tools: search_menu, search_wine or search_web based on the user's question.\",\n",
    "    )\n",
    "\n",
    "class ToolSelectors(BaseModel):\n",
    "    \"\"\"Select the appropriate tools that are suitable for the user question.\"\"\"\n",
    "    tools: List[ToolSelector] = Field(\n",
    "        description=\"Select one or more tools: search_menu, search_wine or search_web based on the user's question.\",\n",
    "    )\n",
    "\n",
    "# 구조화된 출력을 위한 LLM 설정\n",
    "structured_llm_tool_selector = llm.with_structured_output(ToolSelectors)\n",
    "\n",
    "# 라우팅을 위한 프롬프트 템플릿\n",
    "system = dedent(\"\"\"You are an AI assistant specializing in routing user questions to the appropriate tools.\n",
    "Use the following guidelines:\n",
    "- For questions about the restaurant's menu, use the search_menu tool.\n",
    "- For wine recommendations or pairing information, use the search_wine tool.\n",
    "- For any other information or the most up-to-date data, use the search_web tool.\n",
    "Always choose the appropriate tools based on the user's question.\"\"\")\n",
    "\n",
    "route_prompt = ChatPromptTemplate.from_messages(\n",
    "    [\n",
    "        (\"system\", system),\n",
    "        (\"human\", \"{question}\"),\n",
    "    ]\n",
    ")\n",
    "\n",
    "# 질문 라우터 정의\n",
    "question_tool_router = route_prompt | structured_llm_tool_selector\n",
    "\n",
    "# 테스트 실행\n",
    "print(question_tool_router.invoke({\"question\": \"채식주의자를 위한 메뉴가 있나요?\"}))\n",
    "print(question_tool_router.invoke({\"question\": \"스테이크 메뉴의 가격과 어울리는 와인을 추천해주세요.\"}))\n",
    "print(question_tool_router.invoke({\"question\": \"스테이크 매뉴가 있으면 추천해주세요. 스테이크의 유래에 대해 알려주세요.\"}))"
   ]
  },
  {
   "cell_type": "code",
   "execution_count": 48,
   "id": "c4cd239e",
   "metadata": {},
   "outputs": [
    {
     "data": {
      "image/jpeg": "[encoded data removed]",
      "text/plain": [
       "<IPython.core.display.Image object>"
      ]
     },
     "metadata": {},
     "output_type": "display_data"
    }
   ],
   "source": [
    "### 메뉴 정보에 대한 내용과, 웹 검색 내용을 구분하여 각각 정보를 추출하고 이를 기반으로 최종 답변을 생성\n",
    "\n",
    "# 상태를 수정 (Reducer 적용)\n",
    "from typing import List, TypedDict, Annotated, Sequence\n",
    "from langchain_core.documents import Document\n",
    "from operator import add\n",
    "\n",
    "# 기존 SearchState 상속해서 새로 정의\n",
    "class ToolSearchState(SearchState): \n",
    "    # question: str                                              \n",
    "    # documents: Annotated[List[Document], add]     # 컨텍스트 문서를 추가 \n",
    "    # filtered_documents: List[Document]            # 컨텍스트 문서 중에서 질문에 대답할 수 있는 문서를 필터링\n",
    "    datasources: List[str]                          # 참조할 데이터 소스 \n",
    "\n",
    "# 질문 라우팅 노드 \n",
    "def analyze_question_tool_search(state: ToolSearchState):\n",
    "\n",
    "    print(\"---ROUTE QUESTION---\")\n",
    "    question = state[\"question\"]\n",
    "    \n",
    "    result = question_tool_router.invoke({\"question\": question})\n",
    "    datasources = [tool.tool for tool in result.tools]\n",
    "\n",
    "    return {\"datasources\": datasources}\n",
    "\n",
    "\n",
    "def route_datasources_tool_search(state: ToolSearchState) -> Sequence[str]:\n",
    "\n",
    "    if set(state['datasources']) == {'search_menu'}:\n",
    "        return ['search_menu']\n",
    "\n",
    "    elif set(state['datasources']) == {'search_wine'}:\n",
    "        return ['search_wine']\n",
    "\n",
    "    elif set(state['datasources']) == {'search_web'}:\n",
    "        return ['search_web']\n",
    "\n",
    "    elif set(state['datasources']) == {'search_menu', 'search_wine'}:\n",
    "        return ['search_menu', 'search_wine']\n",
    "    \n",
    "    elif set(state['datasources']) == {'search_menu', 'search_web'}:\n",
    "        return ['search_menu', 'search_web']\n",
    "\n",
    "    elif set(state['datasources']) == {'search_wine', 'search_web'}:\n",
    "        return ['search_wine', 'search_web']\n",
    "\n",
    "    return ['search_web', 'search_menu', 'search_wine']\n",
    "\n",
    "\n",
    "\n",
    "# 그래프 생성을 위한 StateGraph 객체를 정의\n",
    "search_builder = StateGraph(ToolSearchState)\n",
    "\n",
    "# 각 노드를 초기화\n",
    "search_builder.add_node(\"analyze_question\", analyze_question_tool_search)       # 질문 분석 노드\n",
    "search_builder.add_node(\"search_menu\", search_menu_subgraph)                    # 메뉴 검색 노드\n",
    "search_builder.add_node(\"search_web\", search_web_subgraph)                      # 웹 검색 노드\n",
    "search_builder.add_node(\"search_wine\", search_wine_subgraph)                    # 와인 검색 노드\n",
    "search_builder.add_node(\"filter_documents\", filter_documents_subgraph)          # 문서 평가 노드\n",
    "\n",
    "# 그래프 로직 정의\n",
    "search_builder.add_edge(START, \"analyze_question\")  # 시작점에서 질문 분석 노드로\n",
    "search_builder.add_conditional_edges(\n",
    "    \"analyze_question\",\n",
    "    route_datasources_tool_search,\n",
    "    [\"search_menu\", \"search_web\", \"search_wine\"]\n",
    ")\n",
    "search_builder.add_edge(\"search_menu\", \"filter_documents\")  # 메뉴 검색 결과를 문서 평가 노드로\n",
    "search_builder.add_edge(\"search_web\", \"filter_documents\")   # 웹 검색 결과를 문서 평가 노드로\n",
    "search_builder.add_edge(\"search_wine\", \"filter_documents\")  # 와인 검색 결과를 문서 평가 노드로\n",
    "search_builder.add_edge(\"filter_documents\", END)  # 문서 평가 노드에서 종료점으로\n",
    "\n",
    "# 그래프 컴파일\n",
    "tool_search_graph = search_builder.compile()\n",
    "\n",
    "# 그래프 시각화 \n",
    "display(Image(tool_search_graph.get_graph().draw_mermaid_png()))"
   ]
  },
  {
   "cell_type": "code",
   "execution_count": 49,
   "id": "8475a2a1",
   "metadata": {},
   "outputs": [
    {
     "name": "stdout",
     "output_type": "stream",
     "text": [
      "---ROUTE QUESTION---\n",
      "--- 문서 관련성 평가 ---\n",
      "---문서 관련성: 있음---\n",
      "---문서 관련성: 없음---\n"
     ]
    },
    {
     "data": {
      "text/plain": [
       "{'question': '스테이크 매뉴가 있으면 추천해주세요.',\n",
       " 'documents': [Document(metadata={'menu_name': '시그니처 스테이크', 'menu_number': 1, 'source': './data/restaurant_menu.txt'}, page_content='1. 시그니처 스테이크\\n   • 가격: ₩35,000\\n   • 주요 식재료: 최상급 한우 등심, 로즈메리 감자, 그릴드 아스파라거스\\n   • 설명: 셰프의 특제 시그니처 메뉴로, 21일간 건조 숙성한 최상급 한우 등심을 사용합니다. 미디엄 레어로 조리하여 육즙을 최대한 보존하며, 로즈메리 향의 감자와 아삭한 그릴드 아스파라거스가 곁들여집니다. 레드와인 소스와 함께 제공되어 풍부한 맛을 더합니다.'),\n",
       "  Document(metadata={'menu_name': '해산물 파스타', 'menu_number': 6, 'source': './data/restaurant_menu.txt'}, page_content='6. 해산물 파스타\\n   • 가격: ₩24,000\\n   • 주요 식재료: 링귀네 파스타, 새우, 홍합, 오징어, 토마토 소스\\n   • 설명: 알 덴테로 삶은 링귀네 파스타에 신선한 해산물을 듬뿍 올린 메뉴입니다. 토마토 소스의 산미와 해산물의 감칠맛이 조화를 이루며, 마늘과 올리브 오일로 풍미를 더했습니다. 파슬리를 뿌려 향긋한 맛을 더합니다.')],\n",
       " 'filtered_documents': [Document(metadata={'menu_name': '시그니처 스테이크', 'menu_number': 1, 'source': './data/restaurant_menu.txt'}, page_content='1. 시그니처 스테이크\\n   • 가격: ₩35,000\\n   • 주요 식재료: 최상급 한우 등심, 로즈메리 감자, 그릴드 아스파라거스\\n   • 설명: 셰프의 특제 시그니처 메뉴로, 21일간 건조 숙성한 최상급 한우 등심을 사용합니다. 미디엄 레어로 조리하여 육즙을 최대한 보존하며, 로즈메리 향의 감자와 아삭한 그릴드 아스파라거스가 곁들여집니다. 레드와인 소스와 함께 제공되어 풍부한 맛을 더합니다.')],\n",
       " 'datasources': ['search_menu']}"
      ]
     },
     "execution_count": 49,
     "metadata": {},
     "output_type": "execute_result"
    }
   ],
   "source": [
    "result = tool_search_graph.invoke({\"question\": \"스테이크 매뉴가 있으면 추천해주세요.\"})\n",
    "result"
   ]
  },
  {
   "cell_type": "code",
   "execution_count": 50,
   "id": "2ade86ed",
   "metadata": {},
   "outputs": [
    {
     "name": "stdout",
     "output_type": "stream",
     "text": [
      "---ROUTE QUESTION---\n",
      "--- 문서 관련성 평가 ---\n",
      "---문서 관련성: 있음---\n",
      "---문서 관련성: 없음---\n",
      "---문서 관련성: 없음---\n",
      "---문서 관련성: 없음---\n"
     ]
    },
    {
     "data": {
      "text/plain": [
       "{'question': '스테이크 매뉴가 있으면 추천해주세요. 그리고 어울리는 와인도 소개해주세요.',\n",
       " 'documents': [Document(metadata={'menu_name': '시그니처 스테이크', 'menu_number': 1, 'source': './data/restaurant_menu.txt'}, page_content='1. 시그니처 스테이크\\n   • 가격: ₩35,000\\n   • 주요 식재료: 최상급 한우 등심, 로즈메리 감자, 그릴드 아스파라거스\\n   • 설명: 셰프의 특제 시그니처 메뉴로, 21일간 건조 숙성한 최상급 한우 등심을 사용합니다. 미디엄 레어로 조리하여 육즙을 최대한 보존하며, 로즈메리 향의 감자와 아삭한 그릴드 아스파라거스가 곁들여집니다. 레드와인 소스와 함께 제공되어 풍부한 맛을 더합니다.'),\n",
       "  Document(metadata={'menu_name': '치킨 콘피', 'menu_number': 9, 'source': './data/restaurant_menu.txt'}, page_content='9. 치킨 콘피\\n   • 가격: ₩23,000\\n   • 주요 식재료: 닭다리살, 허브, 마늘, 올리브 오일\\n   • 설명: 닭다리살을 허브와 마늘을 넣은 올리브 오일에 저온에서 장시간 조리한 프랑스 요리입니다. 부드럽고 촉촉한 육질이 특징이며, 로즈메리 감자와 제철 채소를 곁들여 제공합니다. 레몬 제스트를 뿌려 상큼한 향을 더했습니다.'),\n",
       "  Document(metadata={'menu_name': '풀리니 몽라쉐 1er Cru 2018', 'menu_number': 7, 'source': './data/restaurant_wine.txt'}, page_content='7. 풀리니 몽라쉐 1er Cru 2018\\n   • 가격: ₩320,000\\n   • 주요 품종: 샤르도네\\n   • 설명: 부르고뉴 최고의 화이트 와인 중 하나로 꼽힙니다. 레몬, 사과, 배의 과실향과 함께 헤이즐넛, 버터, 바닐라의 풍부한 향이 어우러집니다. 미네랄리티가 돋보이며, 크리미한 텍스처와 긴 여운이 특징입니다. 해산물, 닭고기, 크림 소스 파스타와 좋은 페어링을 이룹니다.'),\n",
       "  Document(metadata={'menu_name': '사시카이아 2018', 'menu_number': 3, 'source': './data/restaurant_wine.txt'}, page_content='3. 사시카이아 2018\\n   • 가격: ₩420,000\\n   • 주요 품종: 카베르네 소비뇽, 카베르네 프랑, 메를로\\n   • 설명: 이탈리아 토스카나의 슈퍼 투스칸 와인입니다. 블랙베리, 카시스의 강렬한 과실향과 함께 허브, 가죽, 스파이스 노트가 복잡성을 더합니다. 풀바디이지만 우아한 타닌과 신선한 산도가 균형을 잡아줍니다. 오크 숙성으로 인한 바닐라, 초콜릿 향이 은은하게 느껴집니다.')],\n",
       " 'filtered_documents': [Document(metadata={'menu_name': '시그니처 스테이크', 'menu_number': 1, 'source': './data/restaurant_menu.txt'}, page_content='1. 시그니처 스테이크\\n   • 가격: ₩35,000\\n   • 주요 식재료: 최상급 한우 등심, 로즈메리 감자, 그릴드 아스파라거스\\n   • 설명: 셰프의 특제 시그니처 메뉴로, 21일간 건조 숙성한 최상급 한우 등심을 사용합니다. 미디엄 레어로 조리하여 육즙을 최대한 보존하며, 로즈메리 향의 감자와 아삭한 그릴드 아스파라거스가 곁들여집니다. 레드와인 소스와 함께 제공되어 풍부한 맛을 더합니다.')],\n",
       " 'datasources': ['search_menu', 'search_wine']}"
      ]
     },
     "execution_count": 50,
     "metadata": {},
     "output_type": "execute_result"
    }
   ],
   "source": [
    "result = tool_search_graph.invoke({\"question\": \"스테이크 매뉴가 있으면 추천해주세요. 그리고 어울리는 와인도 소개해주세요.\"})\n",
    "result"
   ]
  },
  {
   "cell_type": "code",
   "execution_count": 51,
   "id": "1aa432a4",
   "metadata": {},
   "outputs": [
    {
     "name": "stdout",
     "output_type": "stream",
     "text": [
      "---ROUTE QUESTION---\n",
      "--- 문서 관련성 평가 ---\n",
      "---문서 관련성: 있음---\n",
      "---문서 관련성: 없음---\n",
      "---문서 관련성: 있음---\n",
      "---문서 관련성: 없음---\n"
     ]
    },
    {
     "data": {
      "text/plain": [
       "{'question': '파스타 매뉴가 있으면 추천해주세요. 그리고, 파스타의 유래에 대해 알려주세요.',\n",
       " 'documents': [Document(metadata={'menu_name': '해산물 파스타', 'menu_number': 6, 'source': './data/restaurant_menu.txt'}, page_content='6. 해산물 파스타\\n   • 가격: ₩24,000\\n   • 주요 식재료: 링귀네 파스타, 새우, 홍합, 오징어, 토마토 소스\\n   • 설명: 알 덴테로 삶은 링귀네 파스타에 신선한 해산물을 듬뿍 올린 메뉴입니다. 토마토 소스의 산미와 해산물의 감칠맛이 조화를 이루며, 마늘과 올리브 오일로 풍미를 더했습니다. 파슬리를 뿌려 향긋한 맛을 더합니다.'),\n",
       "  Document(metadata={'menu_name': '랍스터 비스크', 'menu_number': 7, 'source': './data/restaurant_menu.txt'}, page_content='7. 랍스터 비스크\\n   • 가격: ₩28,000\\n   • 주요 식재료: 랍스터, 생크림, 브랜디, 파프리카\\n   • 설명: 랍스터 껍질과 육수로 오랜 시간 우려낸 진한 비스크 수프입니다. 생크림으로 부드러운 질감을 더하고 브랜디로 깊은 풍미를 살렸습니다. 작은 랍스터 살을 토핑으로 올려 고급스러움을 더했습니다.'),\n",
       "  Document(metadata={'source': 'web search', 'url': 'https://sfood.tistory.com/entry/이탈리아-요리의-매력과-다양한-변주-파스타'}, page_content='<Document href=\"https://sfood.tistory.com/entry/이탈리아-요리의-매력과-다양한-변주-파스타\"/>\\n이탈리아 요리의 매력과 다양한 변주 \"파스타\". by 여왕작가2024. 5. 25. 파스타는 전 세계적으로 사랑받는 이탈리아 요리로, 그 종류와 조리법이 매우 다양합니다. 이 글에서는 파스타의 역사, 주요 종류, 조리 방법, 건강에 미치는 영향, 그리고 파스타가 문화에 ...\\n</Document>'),\n",
       "  Document(metadata={'source': 'web search', 'url': 'https://blog.naver.com/PostView.naver?blogId=foodmany&logNo=223370060982&noTrackingCode=true'}, page_content='<Document href=\"https://blog.naver.com/PostView.naver?blogId=foodmany&logNo=223370060982&noTrackingCode=true\"/>\\n[푸드소개] 이탈리아푸드 파스타(Pasta) - 기원, 유래, 역사 : 네이버 블로그 NAVER 블로그 블로그 검색 블로그 주소 변경 불가 안내블로그 마켓 판매자의 이력 관리를 위해 블로그 주소 변경이 불가합니다. 블로그 아이디가 필요해요!블로그에서 진짜 나를 기록하고 블로그 아이디 만들기 블로그 아이디 만들기 레이어 닫기 설정한 아이디는 나중에 변경할 수 없으니 신중하게 입력해주세요. 변경 전 공유된 블로그/글/클립 링크는 연결이 끊길 수 있습니다. 블로그 도움말에서 아이디 변경 유의사항을 확인해보세요. 2. 블로그 아이디는 한번 변경하면 취소 확인 블로그 아이디는 한번 정하면 취소 확인 블로그 아이디가 만들어졌어요. 나중에 언제든지 변경할 수 있어요. 블로그 주제 주제 없음 블로그 시작하기 내 블로그  블로그 홈  프로필 사진 변경 알림 읽은 알림 삭제모두 삭제 블로그 전체 서비스 보기 네이버 주요 서비스 바로가기 설정전체 서비스 보기 네이버 MYBOX 블로그 VIBE_New_ 블로그 메뉴 블로그\\n</Document>')],\n",
       " 'filtered_documents': [Document(metadata={'menu_name': '해산물 파스타', 'menu_number': 6, 'source': './data/restaurant_menu.txt'}, page_content='6. 해산물 파스타\\n   • 가격: ₩24,000\\n   • 주요 식재료: 링귀네 파스타, 새우, 홍합, 오징어, 토마토 소스\\n   • 설명: 알 덴테로 삶은 링귀네 파스타에 신선한 해산물을 듬뿍 올린 메뉴입니다. 토마토 소스의 산미와 해산물의 감칠맛이 조화를 이루며, 마늘과 올리브 오일로 풍미를 더했습니다. 파슬리를 뿌려 향긋한 맛을 더합니다.'),\n",
       "  Document(metadata={'source': 'web search', 'url': 'https://sfood.tistory.com/entry/이탈리아-요리의-매력과-다양한-변주-파스타'}, page_content='<Document href=\"https://sfood.tistory.com/entry/이탈리아-요리의-매력과-다양한-변주-파스타\"/>\\n이탈리아 요리의 매력과 다양한 변주 \"파스타\". by 여왕작가2024. 5. 25. 파스타는 전 세계적으로 사랑받는 이탈리아 요리로, 그 종류와 조리법이 매우 다양합니다. 이 글에서는 파스타의 역사, 주요 종류, 조리 방법, 건강에 미치는 영향, 그리고 파스타가 문화에 ...\\n</Document>')],\n",
       " 'datasources': ['search_menu', 'search_web']}"
      ]
     },
     "execution_count": 51,
     "metadata": {},
     "output_type": "execute_result"
    }
   ],
   "source": [
    "result = tool_search_graph.invoke({\"question\": \"파스타 매뉴가 있으면 추천해주세요. 그리고, 파스타의 유래에 대해 알려주세요.\"})\n",
    "result"
   ]
  },
  {
   "cell_type": "markdown",
   "id": "14e5653c",
   "metadata": {},
   "source": [
    "`(3) 기존 Self-RAG 그래프와 결합`\n",
    "\n",
    "- 다중 스키마 사용 (search_graph의 상위 그래프를 정의하고 OverallState 상태를 별도로 정의)"
   ]
  },
  {
   "cell_type": "code",
   "execution_count": 52,
   "id": "c3fb77ac",
   "metadata": {},
   "outputs": [],
   "source": [
    "from typing import List, TypedDict\n",
    "from langchain_core.documents import Document\n",
    "\n",
    "# 상태를 초기화 (SelfRagState 클래스 상속)\n",
    "class SelfRagOverallState(SelfRagState):\n",
    "    # question: str                       # 사용자의 질문\n",
    "    # generation: str                     # LLM 생성 답변\n",
    "    # documents: List[Document]           # 컨텍스트 문서 (검색된 문서)\n",
    "    # num_generations: int                # 질문 or 답변 생성 횟수 (무한 루프 방지에 활용)\n",
    "    filtered_documents: List[Document]    # 컨텍스트 문서 중에서 질문에 대답할 수 있는 문서를 필터링"
   ]
  },
  {
   "cell_type": "code",
   "execution_count": 53,
   "id": "629c73ee",
   "metadata": {},
   "outputs": [
    {
     "data": {
      "image/jpeg": "[encoded data removed]",
      "text/plain": [
       "<IPython.core.display.Image object>"
      ]
     },
     "metadata": {},
     "output_type": "display_data"
    }
   ],
   "source": [
    "from langgraph.graph import StateGraph, START, END\n",
    "from IPython.display import Image, display\n",
    "\n",
    "# 워크플로우 그래프 초기화\n",
    "rag_builder = StateGraph(SelfRagOverallState)\n",
    "\n",
    "# 검색 단계 서브 그래프 컴파일\n",
    "tool_search_graph = search_builder.compile()\n",
    "\n",
    "# 노드 정의\n",
    "rag_builder.add_node(\"search_data\", tool_search_graph)         # 문서 검색\n",
    "rag_builder.add_node(\"generate\", generate_self)                # 답변 생성\n",
    "rag_builder.add_node(\"transform_query\", transform_query_self)  # 질문 개선\n",
    "\n",
    "# 그래프 구축\n",
    "rag_builder.add_edge(START, \"search_data\")\n",
    "\n",
    "# 조건부 엣지 추가: 문서 평가 후 결정\n",
    "rag_builder.add_conditional_edges(\n",
    "    \"search_data\",\n",
    "    decide_to_generate_self,\n",
    "    {\n",
    "        \"transform_query\": \"transform_query\",\n",
    "        \"generate\": \"generate\",\n",
    "    },\n",
    ")\n",
    "rag_builder.add_edge(\"transform_query\", \"search_data\")\n",
    "\n",
    "# 조건부 엣지 추가: 답변 생성 후 평가\n",
    "rag_builder.add_conditional_edges(\n",
    "    \"generate\",\n",
    "    grade_generation_self,\n",
    "    {\n",
    "        \"not supported\": \"generate\",          # 환각이 발생한 경우 -> 답변을 다시 생성 \n",
    "        \"not useful\": \"transform_query\",      # 질문과 답변의 관련성이 부족한 경우 -> 쿼리 개선해서 다시 검색 \n",
    "        \"useful\": END, \n",
    "        \"end\": END,\n",
    "    },\n",
    ")\n",
    "\n",
    "# 그래프 컴파일\n",
    "adaptive_self_rag = rag_builder.compile()\n",
    "\n",
    "# 그래프 시각화\n",
    "display(Image(adaptive_self_rag.get_graph(xray=True).draw_mermaid_png()))"
   ]
  },
  {
   "cell_type": "code",
   "execution_count": 54,
   "id": "a592ec9b",
   "metadata": {},
   "outputs": [
    {
     "name": "stdout",
     "output_type": "stream",
     "text": [
      "---ROUTE QUESTION---\n",
      "--- 문서 관련성 평가 ---\n",
      "---문서 관련성: 있음---\n",
      "---문서 관련성: 있음---\n",
      "--- 평가된 문서 분석 ---\n",
      "--- 결정: 답변 생성 (-> generate)---\n",
      "--- 답변 생성 ---\n",
      "--- 환각 여부 확인 ---\n",
      "--- 결정: 환각이 없음 (답변이 컨텍스트에 근거함) ---\n",
      "---질문-답변 관련성 확인---\n",
      "--- 결정: 생성된 답변이 질문을 잘 다룸 (-> END) ---\n"
     ]
    }
   ],
   "source": [
    "inputs = {\"question\": \"이 식당의 대표 메뉴는 무엇인가요? 주재료는 무엇인가요?\"}\n",
    "final_output = adaptive_self_rag.invoke(inputs)"
   ]
  },
  {
   "cell_type": "code",
   "execution_count": 55,
   "id": "7bf1e8aa",
   "metadata": {},
   "outputs": [
    {
     "name": "stdout",
     "output_type": "stream",
     "text": [
      "이 식당의 대표 메뉴는 \"시그니처 스테이크\"입니다. 주재료는 \"최상급 한우 등심, 로즈메리 감자, 그릴드 아스파라거스\"입니다.\n"
     ]
    }
   ],
   "source": [
    "# 최종 답변 \n",
    "print(final_output[\"generation\"])"
   ]
  },
  {
   "cell_type": "code",
   "execution_count": 56,
   "id": "acf522b9",
   "metadata": {},
   "outputs": [
    {
     "name": "stdout",
     "output_type": "stream",
     "text": [
      "---ROUTE QUESTION---\n",
      "--- 문서 관련성 평가 ---\n",
      "---문서 관련성: 있음---\n",
      "---문서 관련성: 있음---\n",
      "---문서 관련성: 없음---\n",
      "---문서 관련성: 없음---\n",
      "--- 평가된 문서 분석 ---\n",
      "--- 결정: 답변 생성 (-> generate)---\n",
      "\"Node 'search_data':\"\n",
      "(\"Value: {'question': '스테이크 메뉴가 있나요? 어울리는 와인이 있을까요?', 'documents': \"\n",
      " \"[Document(metadata={'menu_name': '시그니처 스테이크', 'menu_number': 1, 'source': \"\n",
      " \"'./data/restaurant_menu.txt'}, page_content='1. 시그니처 스테이크\\\\n   • 가격: \"\n",
      " '₩35,000\\\\n   • 주요 식재료: 최상급 한우 등심, 로즈메리 감자, 그릴드 아스파라거스\\\\n   • 설명: 셰프의 특제 시그니처 '\n",
      " '메뉴로, 21일간 건조 숙성한 최상급 한우 등심을 사용합니다. 미디엄 레어로 조리하여 육즙을 최대한 보존하며, 로즈메리 향의 감자와 '\n",
      " \"아삭한 그릴드 아스파라거스가 곁들여집니다. 레드와인 소스와 함께 제공되어 풍부한 맛을 더합니다.'), \"\n",
      " \"Document(metadata={'menu_name': '안심 스테이크 샐러드', 'menu_number': 8, 'source': \"\n",
      " \"'./data/restaurant_menu.txt'}, page_content='8. 안심 스테이크 샐러드\\\\n   • 가격: \"\n",
      " '₩26,000\\\\n   • 주요 식재료: 소고기 안심, 루꼴라, 체리 토마토, 발사믹 글레이즈\\\\n   • 설명: 부드러운 안심 '\n",
      " '스테이크를 얇게 슬라이스하여 신선한 루꼴라 위에 올린 메인 요리 샐러드입니다. 체리 토마토와 파마산 치즈 플레이크로 풍미를 더하고, '\n",
      " \"발사믹 글레이즈로 마무리하여 고기의 풍미를 한층 끌어올렸습니다.'), Document(metadata={'menu_name': '풀리니 \"\n",
      " \"몽라쉐 1er Cru 2018', 'menu_number': 7, 'source': \"\n",
      " \"'./data/restaurant_wine.txt'}, page_content='7. 풀리니 몽라쉐 1er Cru 2018\\\\n   • \"\n",
      " '가격: ₩320,000\\\\n   • 주요 품종: 샤르도네\\\\n   • 설명: 부르고뉴 최고의 화이트 와인 중 하나로 꼽힙니다. 레몬, '\n",
      " '사과, 배의 과실향과 함께 헤이즐넛, 버터, 바닐라의 풍부한 향이 어우러집니다. 미네랄리티가 돋보이며, 크리미한 텍스처와 긴 여운이 '\n",
      " \"특징입니다. 해산물, 닭고기, 크림 소스 파스타와 좋은 페어링을 이룹니다.'), Document(metadata={'menu_name': \"\n",
      " \"'바롤로 몬프리바토 2017', 'menu_number': 6, 'source': './data/restaurant_wine.txt'}, \"\n",
      " \"page_content='6. 바롤로 몬프리바토 2017\\\\n   • 가격: ₩280,000\\\\n   • 주요 품종: 네비올로\\\\n   \"\n",
      " '• 설명: 이탈리아 피에몬테 지역의 프리미엄 레드 와인입니다. 붉은 체리, 장미, 타르의 복잡한 아로마가 특징이며, 가죽, 담배, '\n",
      " '스파이스 노트가 더해집니다. 강렬한 타닌과 높은 산도가 인상적이며, 긴 숙성 잠재력을 가집니다. 숙성된 치즈나 트러플 요리와 잘 '\n",
      " \"어울립니다.')], 'filtered_documents': [Document(metadata={'menu_name': '시그니처 \"\n",
      " \"스테이크', 'menu_number': 1, 'source': './data/restaurant_menu.txt'}, \"\n",
      " \"page_content='1. 시그니처 스테이크\\\\n   • 가격: ₩35,000\\\\n   • 주요 식재료: 최상급 한우 등심, 로즈메리 \"\n",
      " '감자, 그릴드 아스파라거스\\\\n   • 설명: 셰프의 특제 시그니처 메뉴로, 21일간 건조 숙성한 최상급 한우 등심을 사용합니다. 미디엄 '\n",
      " '레어로 조리하여 육즙을 최대한 보존하며, 로즈메리 향의 감자와 아삭한 그릴드 아스파라거스가 곁들여집니다. 레드와인 소스와 함께 제공되어 '\n",
      " \"풍부한 맛을 더합니다.'), Document(metadata={'menu_name': '안심 스테이크 샐러드', \"\n",
      " \"'menu_number': 8, 'source': './data/restaurant_menu.txt'}, page_content='8. \"\n",
      " '안심 스테이크 샐러드\\\\n   • 가격: ₩26,000\\\\n   • 주요 식재료: 소고기 안심, 루꼴라, 체리 토마토, 발사믹 '\n",
      " '글레이즈\\\\n   • 설명: 부드러운 안심 스테이크를 얇게 슬라이스하여 신선한 루꼴라 위에 올린 메인 요리 샐러드입니다. 체리 토마토와 '\n",
      " \"파마산 치즈 플레이크로 풍미를 더하고, 발사믹 글레이즈로 마무리하여 고기의 풍미를 한층 끌어올렸습니다.')]}\")\n",
      "\n",
      "----------------------------------------------------------\n",
      "\n",
      "--- 답변 생성 ---\n",
      "--- 환각 여부 확인 ---\n",
      "--- 결정: 생성된 답변이 문서에 근거하지 않음, 재시도 필요 (-> generate) ---\n",
      "\"Node 'generate':\"\n",
      "('Value: {\\'generation\\': \\'네, 스테이크 메뉴가 있습니다. \"시그니처 스테이크\"와 \"안심 스테이크 샐러드\"가 '\n",
      " '있습니다. 어울리는 와인으로는 \"풀리니 몽라쉐 1er Cru 2018\"와 \"바롤로 몬프리바토 2017\"이 있습니다.\\', '\n",
      " \"'num_generations': 1}\")\n",
      "\n",
      "----------------------------------------------------------\n",
      "\n",
      "--- 답변 생성 ---\n",
      "--- 환각 여부 확인 ---\n",
      "--- 결정: 생성된 답변이 문서에 근거하지 않음, 재시도 필요 (-> generate) ---\n",
      "\"Node 'generate':\"\n",
      "('Value: {\\'generation\\': \\'네, 스테이크 메뉴가 있습니다. \"시그니처 스테이크\"와 \"안심 스테이크 샐러드\"가 '\n",
      " '있습니다. 어울리는 와인으로는 \"풀리니 몽라쉐 1er Cru 2018\"와 \"바롤로 몬프리바토 2017\"이 있습니다.\\', '\n",
      " \"'num_generations': 2}\")\n",
      "\n",
      "----------------------------------------------------------\n",
      "\n",
      "--- 답변 생성 ---\n",
      "--- 결정: 생성 횟수 초과, 종료 (-> END)---\n",
      "\"Node 'generate':\"\n",
      "('Value: {\\'generation\\': \\'네, 스테이크 메뉴가 있습니다. \"시그니처 스테이크\"와 \"안심 스테이크 샐러드\"가 '\n",
      " '있습니다. 어울리는 와인으로는 \"풀리니 몽라쉐 1er Cru 2018\"와 \"바롤로 몬프리바토 2017\"이 있습니다.\\', '\n",
      " \"'num_generations': 3}\")\n",
      "\n",
      "----------------------------------------------------------\n",
      "\n"
     ]
    }
   ],
   "source": [
    "inputs = {\"question\": \"스테이크 메뉴가 있나요? 어울리는 와인이 있을까요?\"}\n",
    "for output in adaptive_self_rag.stream(inputs):\n",
    "    for key, value in output.items():\n",
    "        # 노드 출력\n",
    "        pprint(f\"Node '{key}':\")\n",
    "        pprint(f\"Value: {value}\", indent=2, width=80, depth=None)\n",
    "    print(\"\\n----------------------------------------------------------\\n\")"
   ]
  },
  {
   "cell_type": "code",
   "execution_count": 57,
   "id": "88eea9f3",
   "metadata": {},
   "outputs": [
    {
     "name": "stdout",
     "output_type": "stream",
     "text": [
      "네, 스테이크 메뉴가 있습니다. \"시그니처 스테이크\"와 \"안심 스테이크 샐러드\"가 있습니다. 어울리는 와인으로는 \"풀리니 몽라쉐 1er Cru 2018\"와 \"바롤로 몬프리바토 2017\"이 있습니다.\n"
     ]
    }
   ],
   "source": [
    "# 최종 답변\n",
    "print(value[\"generation\"])"
   ]
  },
  {
   "cell_type": "markdown",
   "id": "d2fd1313",
   "metadata": {},
   "source": [
    "## 5. Corrective RAG (CRAG) 구현\n",
    "- CRAG (Corrective Retrieval-Augmented Generation) \n",
    "- 논문: https://arxiv.org/pdf/2401.15884\n",
    "\n",
    "- 주요 과정: 검색 -> 평가 -> 지식 정제 또는 웹 검색 -> 답변 생성\n",
    "\n",
    "   1. 문서 관련성 평가 (`grade_documents`):\n",
    "      - 각 문서의 관련성을 평가\n",
    "      - 기준을 통과하는 문서만을 유지\n",
    "\n",
    "   1. 지식 정제 (`refine_knowledge`):\n",
    "      - 문서를 \"지식 조각\"으로 분할하고 각각의 관련성을 평가\n",
    "      - 관련성 높은(0.5 초과) 지식 조각만 유지\n",
    "\n",
    "   1. 웹 검색 (`web_search`):\n",
    "      - 문서가 충분한 정보를 담지 못한 경우 외부 지식을 활용\n",
    "      - 웹 검색 결과를 기존 문서에 추가 \n",
    "\n",
    "   1. 답변 생성 (`generate_answer`):\n",
    "      - 정제된 지식 조각을 사용하여 답변을 생성\n",
    "      - 관련 정보가 없을 경우 적절한 메시지를 반환\n",
    "\n"
   ]
  },
  {
   "cell_type": "markdown",
   "id": "285306dd",
   "metadata": {},
   "source": [
    "### 5-1. LLM 체인 추가"
   ]
  },
  {
   "cell_type": "markdown",
   "id": "bece863e",
   "metadata": {},
   "source": [
    "`(1) Knowledge Refiner`"
   ]
  },
  {
   "cell_type": "code",
   "execution_count": 58,
   "id": "dc4a2afd",
   "metadata": {},
   "outputs": [
    {
     "name": "stdout",
     "output_type": "stream",
     "text": [
      "검색된 문서 수: 2\n",
      "문서: 1. 시그니처 스테이크\n",
      "   • 가격: ₩35,000\n",
      "   • 주요 식재료: 최상급 한우 등심, 로즈메리 감자, 그릴드 아스파라거스\n",
      "   • 설명: 셰프의 특제 시그니처 메뉴로, 21일간 건조 숙성한 최상급 한우 등심을 사용합니다. 미디엄 레어로 조리하여 육즙을 최대한 보존하며, 로즈메리 향의 감자와 아삭한 그릴드 아스파라거스가 곁들여집니다. 레드와인 소스와 함께 제공되어 풍부한 맛을 더합니다.\n",
      "정제된 지식: 시그니처 스테이크는 셰프의 특제 시그니처 메뉴입니다.\n",
      "정제된 지식 평가: yes\n",
      "=====================================\n",
      "문서: 6. 해산물 파스타\n",
      "   • 가격: ₩24,000\n",
      "   • 주요 식재료: 링귀네 파스타, 새우, 홍합, 오징어, 토마토 소스\n",
      "   • 설명: 알 덴테로 삶은 링귀네 파스타에 신선한 해산물을 듬뿍 올린 메뉴입니다. 토마토 소스의 산미와 해산물의 감칠맛이 조화를 이루며, 마늘과 올리브 오일로 풍미를 더했습니다. 파슬리를 뿌려 향긋한 맛을 더합니다.\n",
      "정제된 지식: 해산물 파스타는 신선한 해산물과 토마토 소스를 사용한 메뉴입니다.\n",
      "정제된 지식 평가: yes\n",
      "=====================================\n"
     ]
    }
   ],
   "source": [
    "# 지식 정제를 위한 클래스\n",
    "class RefinedKnowledge(BaseModel):\n",
    "    \"\"\"\n",
    "    Represents a refined piece of knowledge extracted from a document.\n",
    "    \"\"\"\n",
    "\n",
    "    knowledge_strip: str = Field(description=\"A refined piece of knowledge extracted from a document\")\n",
    "    binary_score: str = Field(\n",
    "        description=\"Documents are relevant to the question, 'yes' or 'no'\"\n",
    "    )\n",
    "\n",
    "# LLM 모델 초기화 및 구조화된 출력 설정\n",
    "llm = ChatOpenAI(model=\"gpt-4o\", temperature=0)\n",
    "structured_llm_refiner = llm.with_structured_output(RefinedKnowledge)\n",
    "\n",
    "# 지식 정제를 위한 프롬프트\n",
    "system_prompt = \"\"\"\n",
    "    You are an expert in knowledge refinement. Your task is to extract key information from the given document related to the provided question and evaluate its relevance.\n",
    "\n",
    "    [Instructions]\n",
    "    1. 질문과 문서를 주의 깊게 읽습니다.\n",
    "    2. 질문에 답하는 데 관련된 문서 내의 주요 정보를 식별합니다.\n",
    "    3. 각 주요 정보에 대해:\n",
    "        a. 간결하게 추출하고 요약합니다 (정보당 1-2문장을 목표로 합니다).\n",
    "        b. 질문에 대한 관련성을 'yes' (관련 있음) 또는 'no' (관련 없음)로 평가합니다.\n",
    "    4. 각 정보를 다음 형식으로 새 줄에 제시합니다:\n",
    "        [추출된 정보] (yes/no)\n",
    "\n",
    "    [Example Output]\n",
    "    AI 시스템은 학습 데이터에 존재하는 편향을 나타낼 수 있습니다. (yes)\n",
    "    의사 결정에 AI를 사용하는 것은 프라이버시 문제를 제기합니다. (yes)\n",
    "    기계 학습 모델은 상당한 컴퓨팅 자원을 필요로 합니다. (no)\n",
    "\n",
    "    [Note]\n",
    "    Focus on extracting factual and objective information. Avoid personal opinions or speculations. Aim to provide 3-5 key pieces of information, but you may include more if the document is particularly rich in relevant content.\n",
    "    \"\"\"\n",
    "\n",
    "# 지식정제를 위한 프롬프트 템플릿 생성\n",
    "refine_prompt = ChatPromptTemplate.from_messages([\n",
    "    (\"system\", system_prompt),\n",
    "    (\"human\", \"[Document]\\n{document}\\n\\n[User question]\\n{question}\"),\n",
    "])\n",
    "\n",
    "# Knowledge Refiner 파이프라인 구성\n",
    "knowledge_refiner = refine_prompt | structured_llm_refiner\n",
    "\n",
    "# 지식 정제 실행\n",
    "retrieved_docs = search_menu.invoke(question)\n",
    "print(f\"검색된 문서 수: {len(retrieved_docs)}\")\n",
    "\n",
    "for test_chunk in retrieved_docs:\n",
    "    print(\"문서:\", test_chunk.page_content)\n",
    "\n",
    "    refined_knowledge = knowledge_refiner.invoke({\"question\": question, \"document\": test_chunk})\n",
    "    print(f\"정제된 지식: {refined_knowledge.knowledge_strip}\")\n",
    "    print(f\"정제된 지식 평가: {refined_knowledge.binary_score}\")\n",
    "    print(\"=====================================\")\n"
   ]
  },
  {
   "cell_type": "markdown",
   "id": "73bb527f",
   "metadata": {},
   "source": [
    "`(2) Retrieval Grader 수정`"
   ]
  },
  {
   "cell_type": "code",
   "execution_count": 59,
   "id": "2c79d5ae",
   "metadata": {},
   "outputs": [
    {
     "name": "stdout",
     "output_type": "stream",
     "text": [
      "검색된 문서 수: 2\n",
      "문서: 7. 랍스터 비스크\n",
      "   • 가격: ₩28,000\n",
      "   • 주요 식재료: 랍스터, 생크림, 브랜디, 파프리카\n",
      "   • 설명: 랍스터 껍질과 육수로 오랜 시간 우려낸 진한 비스크 수프입니다. 생크림으로 부드러운 질감을 더하고 브랜디로 깊은 풍미를 살렸습니다. 작은 랍스터 살을 토핑으로 올려 고급스러움을 더했습니다.\n",
      "문서 관련성: incorrect\n",
      "=====================================\n",
      "문서: 10. 티라미수\n",
      "    • 가격: ₩9,000\n",
      "    • 주요 식재료: 마스카포네 치즈, 에스프레소, 카카오 파우더, 레이디핑거 비스킷\n",
      "    • 설명: 부드러운 마스카포네 치즈 크림과 에스프레소에 적신 레이디핑거 비스킷을 층층이 쌓아 만든 이탈리아 정통 디저트입니다. 고소한 카카오 파우더를 듬뿍 뿌려 풍미를 더했습니다. 커피의 쌉싸름함과 치즈의 부드러움이 조화롭게 어우러집니다.\n",
      "문서 관련성: incorrect\n",
      "=====================================\n"
     ]
    }
   ],
   "source": [
    "from pydantic import BaseModel, Field\n",
    "from typing import Literal\n",
    "from langchain_core.prompts import ChatPromptTemplate\n",
    "from langchain_openai import ChatOpenAI\n",
    "\n",
    "\n",
    "# 문서 관련성 평가 결과를 위한 데이터 모델 정의\n",
    "class MultiGradeDocuments(BaseModel):\n",
    "    \"\"\"Three-class score for relevance check on retrieved documents.\"\"\"\n",
    "\n",
    "    relevance_score: Literal[\"correct\", \"incorrect\", \"ambiguous\"] = Field(\n",
    "        description=\"Document relevance to the question: 'correct', 'incorrect', or 'ambiguous'\"\n",
    "    )\n",
    "\n",
    "# LLM 모델 초기화 및 구조화된 출력 설정\n",
    "llm = ChatOpenAI(model=\"gpt-4o-mini\", temperature=0)\n",
    "structured_llm_grader = llm.with_structured_output(MultiGradeDocuments)\n",
    "\n",
    "# 문서 관련성 평가를 위한 시스템 프롬프트 정의\n",
    "system_prompt = \"\"\"\n",
    "You are an expert evaluator tasked with assessing the relevance of retrieved documents to a user's question. Your role is crucial in enhancing the quality of information retrieval systems.\n",
    "\n",
    "[평가 기준]\n",
    "1. 키워드 관련성: 문서가 질문의 주요 단어나 유사어를 포함하는지 확인\n",
    "2. 의미적 관련성: 문서의 전반적인 주제가 질문의 의도와 일치하는지 평가\n",
    "3. 부분 관련성: 질문의 일부를 다루거나 맥락 정보를 제공하는 문서도 고려\n",
    "4. 답변 가능성: 직접적인 답이 아니더라도 답변 형성에 도움될 정보 포함 여부 평가\n",
    "\n",
    "[점수 체계]\n",
    "- 'Correct': 문서가 명확히 관련 있고, 질문에 답하는 데 필요한 정보를 포함함.\n",
    "- 'Incorrect': 문서가 명확히 무관하거나, 질문에 도움이 되지 않는 정보를 포함함.\n",
    "- 'Ambiguous': 문서의 관련성이 불분명하거나, 일부 관련 정보는 있지만 유용성이 확실하지 않음, 혹은 질문과 약간만 관련 있음.\n",
    "\n",
    "[주의사항]\n",
    "- 단순 단어 매칭이 아닌 질문의 전체 맥락을 고려하세요\n",
    "- 완벽한 답변이 아니어도 유용한 정보가 있다면 관련 있다고 판단하세요\n",
    "\n",
    "Your evaluation plays a critical role in improving the overall performance of the information retrieval system. Strive for balanced and thoughtful assessments.\n",
    "\"\"\"\n",
    "\n",
    "# 채점 프롬프트 템플릿 생성\n",
    "grade_prompt = ChatPromptTemplate.from_messages([\n",
    "    (\"system\", system_prompt),\n",
    "    (\"human\", \"Document: \\n\\n {document} \\n\\n Question: {question}\"),\n",
    "])\n",
    "\n",
    "# Retrieval Grader 파이프라인 구성\n",
    "retrieval_grader_multi = grade_prompt | structured_llm_grader\n",
    "    \n",
    "# 관련성 평가 실행\n",
    "question = \"비건 메뉴가 있나요?\"\n",
    "retrieved_docs = search_menu.invoke(question)\n",
    "print(f\"검색된 문서 수: {len(retrieved_docs)}\")\n",
    "\n",
    "for test_chunk in retrieved_docs:\n",
    "    print(\"문서:\", test_chunk.page_content)\n",
    "\n",
    "    relevance = retrieval_grader_multi.invoke({\"question\": question, \"document\": test_chunk.page_content})\n",
    "    print(f\"문서 관련성: {relevance.relevance_score}\")\n",
    "    print(\"=====================================\")"
   ]
  },
  {
   "cell_type": "markdown",
   "id": "8510ffd8",
   "metadata": {},
   "source": [
    "### 5-2. LangGraph로 그래프 구현"
   ]
  },
  {
   "cell_type": "markdown",
   "id": "107236a3",
   "metadata": {},
   "source": [
    "`(1) 그래프 State 생성`"
   ]
  },
  {
   "cell_type": "code",
   "execution_count": 60,
   "id": "a05d9e14",
   "metadata": {},
   "outputs": [],
   "source": [
    "# LangGraph MessagesState라는 미리 만들어진 상태를 사용\n",
    "from langgraph.graph import MessagesState\n",
    "from typing import List, Tuple\n",
    "from langchain_core.documents import Document\n",
    "\n",
    "class CorrectiveRagState(MessagesState):\n",
    "    \"\"\"\n",
    "    메시지 기반 그래프의 상태를 나타내는 클래스\n",
    "    \n",
    "    Attributes:\n",
    "        messages: 대화 히스토리 (기본 제공, 설정 불필요)\n",
    "        question: 사용자의 질문\n",
    "        generation: AI 모델의 답변\n",
    "        retrieved_documents: 검색된 문서 리스트 (문서, 점수)\n",
    "        knowledge_strips: 지식 보강한 결과 리스트 (문서, 점수)\n",
    "        num_generations: 생성 횟수 (무한 루프 방지에 활용)\n",
    "    \"\"\"\n",
    "    question: str\n",
    "    generation: str\n",
    "    retrieved_documents: List[Tuple[Document, str]] \n",
    "    knowledge_strips: List[Tuple[Document, str]] \n",
    "    num_generations: int "
   ]
  },
  {
   "cell_type": "markdown",
   "id": "673cf479",
   "metadata": {},
   "source": [
    "`(2) Node 구성`"
   ]
  },
  {
   "cell_type": "code",
   "execution_count": 61,
   "id": "1dc40be7",
   "metadata": {},
   "outputs": [],
   "source": [
    "from langchain_core.documents import Document\n",
    "from langchain_core.messages import HumanMessage, AIMessage\n",
    "\n",
    "def retrieve_crag(state: CorrectiveRagState):\n",
    "    \"\"\"문서를 검색하는 함수\"\"\"\n",
    "    print(\"--- 문서 검색 ---\")\n",
    "    question = state[\"question\"]\n",
    "    \n",
    "    # 문서 검색 로직\n",
    "    retrieved_documents = search_menu.invoke(question)\n",
    "    retrieved_documents = [(doc, \"ambiguous\") for doc in retrieved_documents]\n",
    "\n",
    "    return {\"retrieved_documents\": retrieved_documents}\n",
    "\n",
    "def grade_documents_crag(state: CorrectiveRagState):\n",
    "    \"\"\"검색된 문서의 관련성을 평가하는 함수\"\"\"\n",
    "    print(\"--- 문서 관련성 평가 ---\")\n",
    "    question = state[\"question\"]\n",
    "    retrieved_documents = state.get(\"retrieved_documents\", [])\n",
    "    knowledge_strips = state.get(\"knowledge_strips\", [])\n",
    "    \n",
    "    scored_docs = []\n",
    "    for doc, _ in retrieved_documents:\n",
    "        score = retrieval_grader_multi.invoke({\"question\": question, \"document\": doc.page_content})\n",
    "        grade = score.relevance_score.lower()\n",
    "        if grade == \"correct\":\n",
    "            print(\"---문서 관련성: 있음---\")\n",
    "            scored_docs.append((doc, \"correct\"))\n",
    "            knowledge_strips.append((doc, \"correct\"))\n",
    "        elif grade == \"incorrect\":\n",
    "            print(\"---문서 관련성: 없음---\")\n",
    "            scored_docs.append((doc, \"incorrect\"))\n",
    "        else:\n",
    "            print(\"---문서 관련성: 모호함---\")\n",
    "            scored_docs.append((doc, \"ambiguous\"))\n",
    "\n",
    "    return {\"retrieved_documents\": scored_docs, \"knowledge_strips\": knowledge_strips}\n",
    "\n",
    "def refine_knowledge_crag(state: CorrectiveRagState):\n",
    "    \"\"\"지식을 정제하는 함수\"\"\"\n",
    "    print(\"--- 지식 정제 ---\")\n",
    "    question = state[\"question\"]\n",
    "    knowledge_strips = state.get(\"knowledge_strips\", [])\n",
    "    \n",
    "    refined_docs = []\n",
    "    for doc, score in knowledge_strips:\n",
    "        if score == \"incorrect\":\n",
    "            continue\n",
    "\n",
    "        refined_knowledge = knowledge_refiner.invoke({\"question\": question, \"document\": doc.page_content})\n",
    "        knowledge = refined_knowledge.knowledge_strip\n",
    "        grade = refined_knowledge.binary_score\n",
    "        if grade == \"yes\":\n",
    "            print(\"---정제된 지식: 추가---\")\n",
    "            refined_docs.append((Document(page_content=knowledge), \"correct\"))\n",
    "    \n",
    "    return {\"knowledge_strips\": refined_docs}\n",
    "\n",
    "def web_search_crag(state: CorrectiveRagState):\n",
    "    \"\"\"웹 검색을 수행하는 함수\"\"\"\n",
    "    print(\"--- 웹 검색 ---\")\n",
    "    question = state[\"question\"]\n",
    "    \n",
    "    search_results = search_web.invoke(question)\n",
    "\n",
    "    scored_docs = []\n",
    "    for result in search_results:\n",
    "        score = retrieval_grader_multi.invoke({\"question\": question, \"document\": result})\n",
    "        grade = score.relevance_score.lower()\n",
    "        if grade == \"correct\":\n",
    "            print(\"---웹 검색 문서 관련성: 있음---\")\n",
    "            scored_docs.append((result, \"correct\"))\n",
    "        else:\n",
    "            print(\"---웹 검색 문서 관련성: 없음---\")\n",
    "\n",
    "    return {\"knowledge_strips\": scored_docs}\n",
    "\n",
    "def generate_crag(state: CorrectiveRagState):\n",
    "    \"\"\"답변을 생성하는 함수\"\"\"\n",
    "    print(\"--- 답변 생성 ---\")\n",
    "    question = state[\"question\"]\n",
    "    knowledge_strips = state.get(\"knowledge_strips\", [])\n",
    "    \n",
    "    doc_texts = [doc for doc, _ in knowledge_strips]\n",
    "    generation = generator_rag_answer(question, docs=doc_texts)\n",
    "\n",
    "    return {\n",
    "        \"generation\": generation, \n",
    "        \"messages\": [AIMessage(content=generation)]            # 기존 메시지에 추가 \n",
    "    }\n",
    "\n",
    "def transform_query_crag(state: CorrectiveRagState):\n",
    "    \"\"\"질문을 개선하는 함수\"\"\"\n",
    "    print(\"--- 질문 개선 ---\")\n",
    "    question = state[\"question\"]\n",
    "    num_generations = state.get(\"num_generations\", 0)\n",
    "    num_generations += 1\n",
    "    \n",
    "    rewritten_question = rewrite_question(question)\n",
    "    \n",
    "    return {\n",
    "        \"question\": rewritten_question,\n",
    "        \"num_generations\": num_generations,\n",
    "        \"messages\": [HumanMessage(content=rewritten_question)]  # 기존 메시지에 추가 \n",
    "    }"
   ]
  },
  {
   "cell_type": "markdown",
   "id": "57943fd4",
   "metadata": {},
   "source": [
    "`(3) Edge 구성`"
   ]
  },
  {
   "cell_type": "code",
   "execution_count": 62,
   "id": "c415299c",
   "metadata": {},
   "outputs": [],
   "source": [
    "def decide_to_generate_crag(state: CorrectiveRagState):\n",
    "    \"\"\"답변 생성 여부를 결정하는 함수\"\"\"\n",
    "    print(\"--- 평가된 문서 분석 ---\")\n",
    "    knowledge_strips = state.get(\"knowledge_strips\", None)\n",
    "    \n",
    "    if not knowledge_strips:\n",
    "        print(\"--- 결정: 모든 문서가 질문과 관련이 없음, 질문 개선 필요 (-> transform_query)---\")\n",
    "        return \"transform_query\"\n",
    "    else:\n",
    "        print(\"--- 결정: 답변 생성 (-> generate)---\")\n",
    "        return \"generate\""
   ]
  },
  {
   "cell_type": "markdown",
   "id": "bae76a5e",
   "metadata": {},
   "source": [
    "`(4) 그래프 연결`"
   ]
  },
  {
   "cell_type": "code",
   "execution_count": 69,
   "id": "de6ec776",
   "metadata": {},
   "outputs": [
    {
     "data": {
      "image/jpeg": "[encoded data removed]",
      "text/plain": [
       "<IPython.core.display.Image object>"
      ]
     },
     "metadata": {},
     "output_type": "display_data"
    }
   ],
   "source": [
    "from langgraph.graph import StateGraph, START, END\n",
    "from IPython.display import Image, display\n",
    "\n",
    "\n",
    "# 워크플로우 그래프 초기화\n",
    "builder = StateGraph(CorrectiveRagState)\n",
    "\n",
    "# 노드 정의\n",
    "builder.add_node(\"retrieve\", retrieve_crag)                  # 문서 검색 \n",
    "builder.add_node(\"grade_documents\", grade_documents_crag)    # 문서 평가\n",
    "builder.add_node(\"refine_knowledge\", refine_knowledge_crag)  # 지식 정제\n",
    "builder.add_node(\"web_search\", web_search_crag)              # 웹 검색\n",
    "builder.add_node(\"generate\", generate_crag)                  # 답변 생성\n",
    "builder.add_node(\"transform_query\", transform_query_crag)    # 질문 개선\n",
    "\n",
    "\n",
    "# 경로 정의\n",
    "builder.add_edge(START, \"retrieve\")\n",
    "builder.add_edge(\"retrieve\", \"grade_documents\")\n",
    "builder.add_edge(\"grade_documents\", \"refine_knowledge\")\n",
    "\n",
    "# 조건부 엣지 추가: 문서 평가 후 결정\n",
    "builder.add_conditional_edges(\n",
    "    \"refine_knowledge\",\n",
    "    decide_to_generate_crag,\n",
    "    {\n",
    "        \"transform_query\": \"transform_query\",\n",
    "        \"generate\": \"generate\",\n",
    "    },\n",
    ")\n",
    "\n",
    "# 추가 경로 \n",
    "builder.add_edge(\"transform_query\", \"web_search\")\n",
    "builder.add_edge(\"web_search\", \"generate\")\n",
    "builder.add_edge(\"generate\", END)\n",
    "\n",
    "\n",
    "# 그래프 컴파일\n",
    "corrective_rag = builder.compile()\n",
    "\n",
    "# 그래프 시각화\n",
    "display(Image(corrective_rag.get_graph().draw_mermaid_png()))"
   ]
  },
  {
   "cell_type": "markdown",
   "id": "b0192fa7",
   "metadata": {},
   "source": [
    "`(5) 그래프 실행`"
   ]
  },
  {
   "cell_type": "code",
   "execution_count": 70,
   "id": "61252c98",
   "metadata": {},
   "outputs": [
    {
     "name": "stdout",
     "output_type": "stream",
     "text": [
      "--- 문서 검색 ---\n",
      "\"Node 'retrieve':\"\n",
      "(\"Value: {'retrieved_documents': [(Document(metadata={'menu_name': '시그니처 \"\n",
      " \"스테이크', 'menu_number': 1, 'source': './data/restaurant_menu.txt'}, \"\n",
      " \"page_content='1. 시그니처 스테이크\\\\n   • 가격: ₩35,000\\\\n   • 주요 식재료: 최상급 한우 등심, 로즈메리 \"\n",
      " '감자, 그릴드 아스파라거스\\\\n   • 설명: 셰프의 특제 시그니처 메뉴로, 21일간 건조 숙성한 최상급 한우 등심을 사용합니다. 미디엄 '\n",
      " '레어로 조리하여 육즙을 최대한 보존하며, 로즈메리 향의 감자와 아삭한 그릴드 아스파라거스가 곁들여집니다. 레드와인 소스와 함께 제공되어 '\n",
      " \"풍부한 맛을 더합니다.'), 'ambiguous'), (Document(metadata={'menu_name': '안심 스테이크 \"\n",
      " \"샐러드', 'menu_number': 8, 'source': './data/restaurant_menu.txt'}, \"\n",
      " \"page_content='8. 안심 스테이크 샐러드\\\\n   • 가격: ₩26,000\\\\n   • 주요 식재료: 소고기 안심, 루꼴라, \"\n",
      " '체리 토마토, 발사믹 글레이즈\\\\n   • 설명: 부드러운 안심 스테이크를 얇게 슬라이스하여 신선한 루꼴라 위에 올린 메인 요리 '\n",
      " \"샐러드입니다. 체리 토마토와 파마산 치즈 플레이크로 풍미를 더하고, 발사믹 글레이즈로 마무리하여 고기의 풍미를 한층 끌어올렸습니다.'), \"\n",
      " \"'ambiguous')]}\")\n",
      "\n",
      "----------------------------------------------------------\n",
      "\n",
      "--- 문서 관련성 평가 ---\n",
      "---문서 관련성: 있음---\n",
      "---문서 관련성: 있음---\n",
      "\"Node 'grade_documents':\"\n",
      "(\"Value: {'retrieved_documents': [(Document(metadata={'menu_name': '시그니처 \"\n",
      " \"스테이크', 'menu_number': 1, 'source': './data/restaurant_menu.txt'}, \"\n",
      " \"page_content='1. 시그니처 스테이크\\\\n   • 가격: ₩35,000\\\\n   • 주요 식재료: 최상급 한우 등심, 로즈메리 \"\n",
      " '감자, 그릴드 아스파라거스\\\\n   • 설명: 셰프의 특제 시그니처 메뉴로, 21일간 건조 숙성한 최상급 한우 등심을 사용합니다. 미디엄 '\n",
      " '레어로 조리하여 육즙을 최대한 보존하며, 로즈메리 향의 감자와 아삭한 그릴드 아스파라거스가 곁들여집니다. 레드와인 소스와 함께 제공되어 '\n",
      " \"풍부한 맛을 더합니다.'), 'correct'), (Document(metadata={'menu_name': '안심 스테이크 샐러드', \"\n",
      " \"'menu_number': 8, 'source': './data/restaurant_menu.txt'}, page_content='8. \"\n",
      " '안심 스테이크 샐러드\\\\n   • 가격: ₩26,000\\\\n   • 주요 식재료: 소고기 안심, 루꼴라, 체리 토마토, 발사믹 '\n",
      " '글레이즈\\\\n   • 설명: 부드러운 안심 스테이크를 얇게 슬라이스하여 신선한 루꼴라 위에 올린 메인 요리 샐러드입니다. 체리 토마토와 '\n",
      " \"파마산 치즈 플레이크로 풍미를 더하고, 발사믹 글레이즈로 마무리하여 고기의 풍미를 한층 끌어올렸습니다.'), 'correct')], \"\n",
      " \"'knowledge_strips': [(Document(metadata={'menu_name': '시그니처 스테이크', \"\n",
      " \"'menu_number': 1, 'source': './data/restaurant_menu.txt'}, page_content='1. \"\n",
      " '시그니처 스테이크\\\\n   • 가격: ₩35,000\\\\n   • 주요 식재료: 최상급 한우 등심, 로즈메리 감자, 그릴드 '\n",
      " '아스파라거스\\\\n   • 설명: 셰프의 특제 시그니처 메뉴로, 21일간 건조 숙성한 최상급 한우 등심을 사용합니다. 미디엄 레어로 '\n",
      " '조리하여 육즙을 최대한 보존하며, 로즈메리 향의 감자와 아삭한 그릴드 아스파라거스가 곁들여집니다. 레드와인 소스와 함께 제공되어 풍부한 '\n",
      " \"맛을 더합니다.'), 'correct'), (Document(metadata={'menu_name': '안심 스테이크 샐러드', \"\n",
      " \"'menu_number': 8, 'source': './data/restaurant_menu.txt'}, page_content='8. \"\n",
      " '안심 스테이크 샐러드\\\\n   • 가격: ₩26,000\\\\n   • 주요 식재료: 소고기 안심, 루꼴라, 체리 토마토, 발사믹 '\n",
      " '글레이즈\\\\n   • 설명: 부드러운 안심 스테이크를 얇게 슬라이스하여 신선한 루꼴라 위에 올린 메인 요리 샐러드입니다. 체리 토마토와 '\n",
      " \"파마산 치즈 플레이크로 풍미를 더하고, 발사믹 글레이즈로 마무리하여 고기의 풍미를 한층 끌어올렸습니다.'), 'correct')]}\")\n",
      "\n",
      "----------------------------------------------------------\n",
      "\n",
      "--- 지식 정제 ---\n",
      "---정제된 지식: 추가---\n",
      "---정제된 지식: 추가---\n",
      "--- 평가된 문서 분석 ---\n",
      "--- 결정: 답변 생성 (-> generate)---\n",
      "\"Node 'refine_knowledge':\"\n",
      "(\"Value: {'knowledge_strips': [(Document(metadata={}, page_content='시그니처 스테이크의 \"\n",
      " \"가격은 ₩35,000입니다.'), 'correct'), (Document(metadata={}, page_content='안심 스테이크 \"\n",
      " \"샐러드의 가격은 ₩26,000입니다.'), 'correct')]}\")\n",
      "\n",
      "----------------------------------------------------------\n",
      "\n",
      "--- 답변 생성 ---\n",
      "\"Node 'generate':\"\n",
      "(\"Value: {'messages': [AIMessage(content='스테이크 메뉴의 가격은 시그니처 스테이크가 ₩35,000이고, \"\n",
      " \"안심 스테이크 샐러드가 ₩26,000입니다.', additional_kwargs={}, response_metadata={}, \"\n",
      " \"id='ce0c29ae-4bbe-4aae-b3ab-bb18fdab1c23')], 'generation': '스테이크 메뉴의 가격은 \"\n",
      " \"시그니처 스테이크가 ₩35,000이고, 안심 스테이크 샐러드가 ₩26,000입니다.'}\")\n",
      "\n",
      "----------------------------------------------------------\n",
      "\n"
     ]
    }
   ],
   "source": [
    "inputs = {\"question\": \"스테이크 메뉴의 가격은 얼마인가요?\"}\n",
    "\n",
    "for output in corrective_rag.stream(inputs):\n",
    "    for key, value in output.items():\n",
    "        # 노드 출력\n",
    "        pprint(f\"Node '{key}':\")\n",
    "        pprint(f\"Value: {value}\", indent=2, width=80, depth=None)\n",
    "    print(\"\\n----------------------------------------------------------\\n\")"
   ]
  },
  {
   "cell_type": "code",
   "execution_count": 71,
   "id": "bb891b1a",
   "metadata": {},
   "outputs": [
    {
     "name": "stdout",
     "output_type": "stream",
     "text": [
      "스테이크 메뉴의 가격은 시그니처 스테이크가 ₩35,000이고, 안심 스테이크 샐러드가 ₩26,000입니다.\n"
     ]
    }
   ],
   "source": [
    "# 최종 답변\n",
    "print(value[\"generation\"])"
   ]
  },
  {
   "cell_type": "code",
   "execution_count": 72,
   "id": "dc9dbf54",
   "metadata": {},
   "outputs": [
    {
     "name": "stdout",
     "output_type": "stream",
     "text": [
      "--- 문서 검색 ---\n",
      "\"Node 'retrieve':\"\n",
      "(\"Value: {'retrieved_documents': [(Document(metadata={'menu_name': '시그니처 \"\n",
      " \"스테이크', 'menu_number': 1, 'source': './data/restaurant_menu.txt'}, \"\n",
      " \"page_content='1. 시그니처 스테이크\\\\n   • 가격: ₩35,000\\\\n   • 주요 식재료: 최상급 한우 등심, 로즈메리 \"\n",
      " '감자, 그릴드 아스파라거스\\\\n   • 설명: 셰프의 특제 시그니처 메뉴로, 21일간 건조 숙성한 최상급 한우 등심을 사용합니다. 미디엄 '\n",
      " '레어로 조리하여 육즙을 최대한 보존하며, 로즈메리 향의 감자와 아삭한 그릴드 아스파라거스가 곁들여집니다. 레드와인 소스와 함께 제공되어 '\n",
      " \"풍부한 맛을 더합니다.'), 'ambiguous'), (Document(metadata={'menu_name': '안심 스테이크 \"\n",
      " \"샐러드', 'menu_number': 8, 'source': './data/restaurant_menu.txt'}, \"\n",
      " \"page_content='8. 안심 스테이크 샐러드\\\\n   • 가격: ₩26,000\\\\n   • 주요 식재료: 소고기 안심, 루꼴라, \"\n",
      " '체리 토마토, 발사믹 글레이즈\\\\n   • 설명: 부드러운 안심 스테이크를 얇게 슬라이스하여 신선한 루꼴라 위에 올린 메인 요리 '\n",
      " \"샐러드입니다. 체리 토마토와 파마산 치즈 플레이크로 풍미를 더하고, 발사믹 글레이즈로 마무리하여 고기의 풍미를 한층 끌어올렸습니다.'), \"\n",
      " \"'ambiguous')]}\")\n",
      "\n",
      "----------------------------------------------------------\n",
      "\n",
      "--- 문서 관련성 평가 ---\n",
      "---문서 관련성: 모호함---\n",
      "---문서 관련성: 없음---\n",
      "\"Node 'grade_documents':\"\n",
      "(\"Value: {'retrieved_documents': [(Document(metadata={'menu_name': '시그니처 \"\n",
      " \"스테이크', 'menu_number': 1, 'source': './data/restaurant_menu.txt'}, \"\n",
      " \"page_content='1. 시그니처 스테이크\\\\n   • 가격: ₩35,000\\\\n   • 주요 식재료: 최상급 한우 등심, 로즈메리 \"\n",
      " '감자, 그릴드 아스파라거스\\\\n   • 설명: 셰프의 특제 시그니처 메뉴로, 21일간 건조 숙성한 최상급 한우 등심을 사용합니다. 미디엄 '\n",
      " '레어로 조리하여 육즙을 최대한 보존하며, 로즈메리 향의 감자와 아삭한 그릴드 아스파라거스가 곁들여집니다. 레드와인 소스와 함께 제공되어 '\n",
      " \"풍부한 맛을 더합니다.'), 'ambiguous'), (Document(metadata={'menu_name': '안심 스테이크 \"\n",
      " \"샐러드', 'menu_number': 8, 'source': './data/restaurant_menu.txt'}, \"\n",
      " \"page_content='8. 안심 스테이크 샐러드\\\\n   • 가격: ₩26,000\\\\n   • 주요 식재료: 소고기 안심, 루꼴라, \"\n",
      " '체리 토마토, 발사믹 글레이즈\\\\n   • 설명: 부드러운 안심 스테이크를 얇게 슬라이스하여 신선한 루꼴라 위에 올린 메인 요리 '\n",
      " \"샐러드입니다. 체리 토마토와 파마산 치즈 플레이크로 풍미를 더하고, 발사믹 글레이즈로 마무리하여 고기의 풍미를 한층 끌어올렸습니다.'), \"\n",
      " \"'incorrect')], 'knowledge_strips': []}\")\n",
      "\n",
      "----------------------------------------------------------\n",
      "\n",
      "--- 지식 정제 ---\n",
      "--- 평가된 문서 분석 ---\n",
      "--- 결정: 모든 문서가 질문과 관련이 없음, 질문 개선 필요 (-> transform_query)---\n",
      "\"Node 'refine_knowledge':\"\n",
      "\"Value: {'knowledge_strips': []}\"\n",
      "\n",
      "----------------------------------------------------------\n",
      "\n",
      "--- 질문 개선 ---\n",
      "\"Node 'transform_query':\"\n",
      "(\"Value: {'messages': [HumanMessage(content='스테이크와 잘 어울리는 와인 종류를 추천해 주실 수 \"\n",
      " \"있나요?', additional_kwargs={}, response_metadata={}, \"\n",
      " \"id='69054479-662b-400d-b8de-5a5b07c83be7')], 'question': '스테이크와 잘 어울리는 와인 \"\n",
      " \"종류를 추천해 주실 수 있나요?', 'num_generations': 1}\")\n",
      "\n",
      "----------------------------------------------------------\n",
      "\n",
      "--- 웹 검색 ---\n",
      "---웹 검색 문서 관련성: 있음---\n",
      "---웹 검색 문서 관련성: 있음---\n",
      "\"Node 'web_search':\"\n",
      "(\"Value: {'knowledge_strips': [(Document(metadata={'source': 'web search', \"\n",
      " \"'url': 'https://m.blog.naver.com/chelina89/220634349414'}, \"\n",
      " \"page_content='<Document \"\n",
      " 'href=\"https://m.blog.naver.com/chelina89/220634349414\"/>\\\\n레드 와인 추천! 스테이크와 '\n",
      " '어울리는 와인 베스트 5 - 10만원 미만 (1865, 카니버, 루이마티니, 트라피체) : 네이버 블로그 레드 와인 추천! 스테이크와 '\n",
      " '어울리는 와인 베스트 5 - 10만원 미만 (1865, 카니버, 루이마티니, 트라피체) 레드 와인 추천 - 스테이크와 어울리는 와인 '\n",
      " '리스트! 카니버, 엑스트라버겐저, 1865, 루이마티니, 트라피체 수 많은 와인 중에서 고기와 베스트를 이루는\\\\xa0와인 추천 리스트 '\n",
      " '공개합니다♡ 4. 루이마티니 나파밸리 까베르네 소비뇽 - 9만원 미만 미국 고급 와인 산지인 나파밸리 특유의 진득함과 파워풀함이 응축되어 '\n",
      " '있는 와인이라, 소고기랑 진짜 베스트 인거같아요 개인적으로. 한남동 한와담이나, 뚜뿔등심 처럼 콜키지 프리인 레스토랑에 정말 너무너무 잘 '\n",
      " '어울리는 스테이크 와인! 위의 추천드린 레드 와인 베스트 5 와 함께 하심은 어떠실까요?! #와인 {\"title\":\"레드 와인 추천! '\n",
      " '스테이크와 어울리는 와인 베스트 5 - 10만원 미만 (1865, 카니버, 루이마티니, '\n",
      " '트라피체)\",\"source\":\"https://blog.naver.com/chelina89/220634349414\",\"blogName\":\"유나리\\\\\\'s '\n",
      " '..\",\"blogId\":\"chelina89\",\"domainIdOrBlogId\":\"chelina89\",\"nicknameOrBlogId\":\"유나리\",\"logNo\":220634349414,\"smartEditorVersion\":3,\"meDisplay\":true,\"lineDisplay\":true,\"outsideDisplay\":false,\"cafeDisplay\":true,\"blogDisplay\":true}\\\\n</Document>\\'), '\n",
      " \"'correct'), (Document(metadata={'source': 'web search', 'url': \"\n",
      " \"'https://m.blog.naver.com/wineislikeacat/223096696241'}, \"\n",
      " \"page_content='<Document \"\n",
      " 'href=\"https://m.blog.naver.com/wineislikeacat/223096696241\"/>\\\\n등심 스테이크에는 이 '\n",
      " '와인 드셔보세요! 소고기 부위별 레드와인 추천 모음 : 네이버 블로그 카테고리 이동 나의 와인 아지트, 우리동네내와인 등심 스테이크에는 '\n",
      " '이 와인 드셔보세요! 소고기 부위별 레드와인 추천 모음 우리동네내와인의 소고기 스테이크 부위별 레드와인 추천! 특정 부위에 더 잘 '\n",
      " '어울리는 와인을 소개하는 방식으로요 :) 등심 & 채끝 스테이크와 어울리는 와인 등심 스테이크, 채끝 스테이크와 어울리는 와인 품종은? '\n",
      " '안심 스테이크와 어울리는 와인 안심 스테이크와 어울리는 와인 품종은? 지방이 거의 없기 때문에 고기 자체의 맛을 가장 잘 느낄 수 있는 '\n",
      " '것이죠. 갈비살과 어울리는 와인 갈비살과 어울리는 와인 품종은? 느끼함을 씻어줄 수 있는 와인 품종이 좋습니다. 차돌박이와 어울리는 와인 '\n",
      " '차돌박이와 어울리는 와인 품종은? 부채살과 어울리는 와인 #와인 {\"title\":\"등심 스테이크에는 이 와인 드셔보세요! 소고기 부위별 '\n",
      " '레드와인 추천 '\n",
      " '모음\",\"source\":\"https://blog.naver.com/wineislikeacat/223096696241\",\"blogName\":\"나의 '\n",
      " '와인 '\n",
      " '..\",\"blogId\":\"wineislikeacat\",\"domainIdOrBlogId\":\"wineislikeacat\",\"nicknameOrBlogId\":\"우리동네내와인\",\"logNo\":223096696241,\"smartEditorVersion\":4,\"lineDisplay\":true,\"outsideDisplay\":false,\"cafeDisplay\":false,\"blogDisplay\":false,\"meDisplay\":true}\\\\n</Document>\\'), '\n",
      " \"'correct')]}\")\n",
      "\n",
      "----------------------------------------------------------\n",
      "\n",
      "--- 답변 생성 ---\n",
      "\"Node 'generate':\"\n",
      "(\"Value: {'messages': [AIMessage(content='스테이크와 잘 어울리는 와인으로는 다음과 같은 종류가 추천됩니다: \"\n",
      " '\\\\n\\\\n1. 카니버\\\\n2. 엑스트라버겐저\\\\n3. 1865\\\\n4. 루이마티니\\\\n5. 트라피체\\\\n\\\\n특히 \"루이마티니 나파밸리 '\n",
      " '까베르네 소비뇽\"은 소고기와 잘 어울린다고 언급되어 있습니다.\\', additional_kwargs={}, '\n",
      " \"response_metadata={}, id='48c24602-9984-4b54-b5f4-95a72a3a5c1b')], \"\n",
      " \"'generation': '스테이크와 잘 어울리는 와인으로는 다음과 같은 종류가 추천됩니다: \\\\n\\\\n1. 카니버\\\\n2. \"\n",
      " '엑스트라버겐저\\\\n3. 1865\\\\n4. 루이마티니\\\\n5. 트라피체\\\\n\\\\n특히 \"루이마티니 나파밸리 까베르네 소비뇽\"은 소고기와 잘 '\n",
      " \"어울린다고 언급되어 있습니다.'}\")\n",
      "\n",
      "----------------------------------------------------------\n",
      "\n"
     ]
    }
   ],
   "source": [
    "inputs = {\"question\": \"스테이크에 어울리는 와인을 추천해주세요.\"}\n",
    "\n",
    "for output in corrective_rag.stream(inputs):\n",
    "    for key, value in output.items():\n",
    "        # 노드 출력\n",
    "        pprint(f\"Node '{key}':\")\n",
    "        pprint(f\"Value: {value}\", indent=2, width=80, depth=None)\n",
    "    print(\"\\n----------------------------------------------------------\\n\")"
   ]
  },
  {
   "cell_type": "code",
   "execution_count": 73,
   "id": "28c3792d",
   "metadata": {},
   "outputs": [
    {
     "name": "stdout",
     "output_type": "stream",
     "text": [
      "스테이크와 잘 어울리는 와인으로는 다음과 같은 종류가 추천됩니다: \n",
      "\n",
      "1. 카니버\n",
      "2. 엑스트라버겐저\n",
      "3. 1865\n",
      "4. 루이마티니\n",
      "5. 트라피체\n",
      "\n",
      "특히 \"루이마티니 나파밸리 까베르네 소비뇽\"은 소고기와 잘 어울린다고 언급되어 있습니다.\n"
     ]
    }
   ],
   "source": [
    "# 최종 답변\n",
    "print(value[\"generation\"])"
   ]
  }
 ],
 "metadata": {
  "kernelspec": {
   "display_name": "chatbot-0lCeHk3W-py3.12",
   "language": "python",
   "name": "python3"
  },
  "language_info": {
   "codemirror_mode": {
    "name": "ipython",
    "version": 3
   },
   "file_extension": ".py",
   "mimetype": "text/x-python",
   "name": "python",
   "nbconvert_exporter": "python",
   "pygments_lexer": "ipython3",
   "version": "3.12.7"
  }
 },
 "nbformat": 4,
 "nbformat_minor": 5
}
