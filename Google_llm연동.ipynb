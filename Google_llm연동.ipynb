{
 "cells": [
  {
   "cell_type": "code",
   "execution_count": 1,
   "id": "b9eb42c8",
   "metadata": {},
   "outputs": [
    {
     "name": "stdout",
     "output_type": "stream",
     "text": [
      "AI\n"
     ]
    }
   ],
   "source": [
    "\n",
    "import os\n",
    "from dotenv import load_dotenv\n",
    "\n",
    "load_dotenv()\n",
    "GOOGLE_API_KEY = os.getenv(\"GOOGLE_API_KEY\")\n",
    "print(GOOGLE_API_KEY[:2])"
   ]
  },
  {
   "cell_type": "code",
   "execution_count": 2,
   "id": "3040e083",
   "metadata": {},
   "outputs": [
    {
     "name": "stdout",
     "output_type": "stream",
     "text": [
      " Google Gemini Response:\n",
      "LangChain은 대규모 언어 모델(LLM)을 애플리케이션에 통합하기 위한 프레임워크입니다.  단순히 LLM을 호출하는 것 이상으로, 여러 LLM을 연결하고, 외부 데이터 소스와 상호 작용하며, 메모리 및 채팅 기능을 제공하여 더욱 강력하고 유용한 애플리케이션을 구축할 수 있도록 지원합니다.  핵심 기능은 다음과 같습니다.\n",
      "\n",
      "* **모듈성:** LangChain은 다양한 LLM, 프로세서, 메모리, 데이터 연결 등을 모듈화하여 개발자가 필요에 따라 구성 요소를 선택하고 조합할 수 있도록 합니다.  이를 통해 특정 작업에 최적화된 애플리케이션을 구축할 수 있습니다.  다양한 LLM 제공업체(OpenAI, Hugging Face 등)와의 호환성을 제공합니다.\n",
      "\n",
      "* **LLM 연결:** 여러 LLM을 체인처럼 연결하여 복잡한 작업을 수행할 수 있습니다.  예를 들어, 하나의 LLM은 질문을 분석하고, 다른 LLM은 답변을 생성하는 방식으로 작업을 분담할 수 있습니다.\n",
      "\n",
      "* **외부 데이터 소스 통합:**  LLM을 데이터베이스, API, 파일 시스템 등의 외부 데이터 소스와 연결하여 정보를 검색하고 처리할 수 있습니다.  이는 LLM의 지식 범위를 확장하고 실제 문제 해결에 활용할 수 있도록 합니다.  예를 들어, 특정 문서에서 정보를 추출하거나, 웹에서 정보를 검색하여 답변을 생성하는 애플리케이션을 구축할 수 있습니다.\n",
      "\n",
      "* **메모리:**  이전 상호 작용의 내용을 기억하여 맥락을 유지하고 일관성 있는 대화를 가능하게 합니다.  이는 채팅 봇이나 대화형 에이전트 개발에 필수적인 기능입니다.  다양한 메모리 유형을 제공하여 개발자가 애플리케이션의 요구 사항에 맞게 선택할 수 있습니다.\n",
      "\n",
      "* **에이전트:**  외부 도구(웹 검색, 계산기 등)를 사용하여 LLM의 기능을 확장하는 에이전트를 구축할 수 있습니다.  LLM은 에이전트를 통해 필요한 정보를 얻고 작업을 수행하여 더욱 복잡한 문제를 해결할 수 있습니다.\n",
      "\n",
      "* **채팅 기능:**  LangChain은 채팅 애플리케이션을 쉽게 구축할 수 있는 기능을 제공합니다.  메모리 기능과 결합하여 자연스럽고 일관성 있는 대화를 가능하게 합니다.\n",
      "\n",
      "\n",
      "**장점:**\n",
      "\n",
      "* **개발 속도 향상:**  모듈화된 구성 요소와 다양한 기능을 제공하여 개발 시간을 단축합니다.\n",
      "* **유연성:**  다양한 LLM, 데이터 소스, 기능을 조합하여 다양한 애플리케이션을 구축할 수 있습니다.\n",
      "* **확장성:**  모듈화된 아키텍처를 통해 애플리케이션을 쉽게 확장할 수 있습니다.\n",
      "\n",
      "\n",
      "**단점:**\n",
      "\n",
      "* **복잡성:**  다양한 구성 요소와 기능을 이해하고 사용하는 데 어느 정도의 학습 곡선이 있습니다.\n",
      "* **비용:**  일부 LLM 및 데이터 소스는 유료 서비스일 수 있습니다.\n",
      "\n",
      "\n",
      "결론적으로 LangChain은 LLM 기반 애플리케이션 개발을 위한 강력하고 유연한 프레임워크입니다.  모듈성과 다양한 기능을 통해 개발자는 복잡하고 강력한 애플리케이션을 효율적으로 구축할 수 있습니다.  하지만 복잡성과 비용을 고려하여 프로젝트에 적합한지 신중하게 판단해야 합니다.\n"
     ]
    }
   ],
   "source": [
    "from langchain_google_genai import ChatGoogleGenerativeAI\n",
    "from langchain_core.prompts import ChatPromptTemplate\n",
    "    \n",
    "# API 키 설정\n",
    "# os.environ[\"GOOGLE_API_KEY\"] = \"your-google-api-key\"\n",
    "\n",
    "# 모델 초기화\n",
    "llm = ChatGoogleGenerativeAI(\n",
    "    model=\"gemini-1.5-flash\",  # 또는 \"gemini-pro-vision\"\n",
    "    temperature=0.3    \n",
    ")\n",
    "\n",
    "# 프롬프트 설정\n",
    "prompt = ChatPromptTemplate.from_messages([\n",
    "    (\"system\", \"당신은 AI 전문가입니다다.\"),\n",
    "    (\"human\", \"{topic}은 무엇인가요?\")\n",
    "])\n",
    "\n",
    "# 체인 실행\n",
    "chain = prompt | llm\n",
    "response = chain.invoke({\"topic\": \"LangChain\"})\n",
    "\n",
    "print(\" Google Gemini Response:\")\n",
    "print(response.content)"
   ]
  }
 ],
 "metadata": {
  "kernelspec": {
   "display_name": "langchain-basic-kGdHTiMZ-py3.13",
   "language": "python",
   "name": "python3"
  },
  "language_info": {
   "codemirror_mode": {
    "name": "ipython",
    "version": 3
   },
   "file_extension": ".py",
   "mimetype": "text/x-python",
   "name": "python",
   "nbconvert_exporter": "python",
   "pygments_lexer": "ipython3",
   "version": "3.13.4"
  }
 },
 "nbformat": 4,
 "nbformat_minor": 5
}
