{
 "cells": [
  {
   "cell_type": "code",
   "execution_count": 1,
   "id": "d1ef38a5",
   "metadata": {},
   "outputs": [
    {
     "name": "stdout",
     "output_type": "stream",
     "text": [
      "sk\n"
     ]
    }
   ],
   "source": [
    "import os\n",
    "from dotenv import load_dotenv\n",
    "\n",
    "load_dotenv()\n",
    "OPENAI_API_KEY = os.getenv(\"OPENAI_API_KEY\")\n",
    "print(OPENAI_API_KEY[:2])\n",
    "     "
   ]
  },
  {
   "cell_type": "code",
   "execution_count": 3,
   "id": "3cd6fec4",
   "metadata": {},
   "outputs": [
    {
     "name": "stdout",
     "output_type": "stream",
     "text": [
      "<class 'langgraph.graph.state.CompiledStateGraph'>\n",
      "\n",
      "[Agent 1] 원본 질문: LangGraph는 무엇이며, LangChain과 어떤 차이점이 있나요? 그리고 LangGraph를 사용해야 하는 이유는 무엇인가요?\n",
      "[Agent 1] 핵심 키워드: content='- LangGraph\\n- LangChain\\n- 차이점\\n- 사용 이유' additional_kwargs={'refusal': None} response_metadata={'token_usage': {'completion_tokens': 20, 'prompt_tokens': 89, 'total_tokens': 109, 'completion_tokens_details': {'accepted_prediction_tokens': 0, 'audio_tokens': 0, 'reasoning_tokens': 0, 'rejected_prediction_tokens': 0}, 'prompt_tokens_details': {'audio_tokens': 0, 'cached_tokens': 0}}, 'model_name': 'gpt-3.5-turbo-0125', 'system_fingerprint': None, 'id': 'chatcmpl-BhtNaafcXSaQwecitvKuPRWhnhMIv', 'service_tier': 'default', 'finish_reason': 'stop', 'logprobs': None} id='run--dc17745c-3681-4fed-a721-f909dd7534e2-0' usage_metadata={'input_tokens': 89, 'output_tokens': 20, 'total_tokens': 109, 'input_token_details': {'audio': 0, 'cache_read': 0}, 'output_token_details': {'audio': 0, 'reasoning': 0}}\n",
      "[Agent 1] 배경 정보: content='LangGraph는 언어 간의 관계를 나타내는 그래프 구조를 이용한 자연어 처리(NLP) 기술의 일종입니다. 이 그래프는 각 언어의 특징, 형태학, 구문, 의미, 문화적 차이 등을 정리하여 표현한 것이며, 다양한 언어 간의 상호작용을 분석하고 이해하는 데 도움이 됩니다.\\n\\nLangChain은 LangGraph에서 파생된 개념으로, 여러 언어 간의 상호작용을 나타내는 사슬(chain) 형태의 구조를 의미합니다. 이를 통해 다양한 언어 간의 유사점이나 차이점을 쉽게 파악할 수 있습니다.\\n\\nLangGraph를 사용하는 이유는 다음과 같습니다:\\n1. 다국어 처리: LangGraph를 이용하면 다양한 언어 간의 관계를 분석하고 처리할 수 있으므로, 다국어 환경에서의 자연어 처리에 유용합니다.\\n2. 언어학적 분석: 언어의 특징을 그래프 형태로 시각화하므로, 언어학적 분석이나 비교 연구에 도움이 됩니다.\\n3. 번역 및 통역: LangGraph를 통해 다양한 언어 간의 바이오멧릭스를 구축하고 활용하면 번역이나 통역 작업을 보다 효율적으로 할 수 있습니다.\\n\\n종합하면, LangGraph는 다국어 처리와 언어학적 분석에 유용한 자연어 처리 기술로, 여러 언어 간의 관계를 시각적으로 표현하여 이해하기 쉽게 해 줍니다.' additional_kwargs={'refusal': None} response_metadata={'token_usage': {'completion_tokens': 518, 'prompt_tokens': 91, 'total_tokens': 609, 'completion_tokens_details': {'accepted_prediction_tokens': 0, 'audio_tokens': 0, 'reasoning_tokens': 0, 'rejected_prediction_tokens': 0}, 'prompt_tokens_details': {'audio_tokens': 0, 'cached_tokens': 0}}, 'model_name': 'gpt-3.5-turbo-0125', 'system_fingerprint': None, 'id': 'chatcmpl-BhtNbyUU6HyEuPu0azGGLtxgH8H3g', 'service_tier': 'default', 'finish_reason': 'stop', 'logprobs': None} id='run--e6a8d03e-47cd-4142-9f98-ce118a3bf035-0' usage_metadata={'input_tokens': 91, 'output_tokens': 518, 'total_tokens': 609, 'input_token_details': {'audio': 0, 'cache_read': 0}, 'output_token_details': {'audio': 0, 'reasoning': 0}}\n",
      "\n",
      "[Agent 2] 최종 답변 생성 완료\n",
      "\n",
      "\n",
      "🔹 [AI 최종 답변]:\n",
      "content='LangGraph는 언어 간의 관계를 그래프 구조로 나타내는 자연어 처리 기술이며, 각 언어의 특징, 형태학, 구문, 의미, 문화적 차이 등을 정리하여 시각화합니다. 반면에, LangChain은 LangGraph에서 파생된 개념으로, 여러 언어 간의 상호작용을 사슬(chain) 형태의 구조로 나타내어 다양한 언어 간의 유사점이나 차이점을 비교하거나 분석할 수 있습니다.\\n\\nLangGraph를 사용해야 하는 이유는 여러 가지가 있습니다. 첫째, 다국어 처리에 유용하며, 다양한 언어 간의 관계를 분석하고 처리할 수 있어 다국어 환경에서의 자연어 처리에 도움을 줍니다. 둘째, 언어학적 분석이나 비교 연구에 활용될 수 있어 언어의 특징을 시각적으로 분석할 수 있습니다. 셋째, 번역 및 통역 작업을 보다 효율적으로 할 수 있도록 다양한 언어 간의 바이오멧릭스를 구축하고 활용할 수 있습니다. 이러한 이유로 LangGraph는 다국어 처리와 언어학적 분석에 유용한 자연어 처리 기술로 활용되며, 다양한 언어 간의 관계를 시각적으로 표현하여 이해를 도와줍니다.' additional_kwargs={'refusal': None} response_metadata={'token_usage': {'completion_tokens': 453, 'prompt_tokens': 1160, 'total_tokens': 1613, 'completion_tokens_details': {'accepted_prediction_tokens': 0, 'audio_tokens': 0, 'reasoning_tokens': 0, 'rejected_prediction_tokens': 0}, 'prompt_tokens_details': {'audio_tokens': 0, 'cached_tokens': 0}}, 'model_name': 'gpt-3.5-turbo-0125', 'system_fingerprint': None, 'id': 'chatcmpl-BhtNfKcQVEewG8a89tYUSnkCGQbll', 'service_tier': 'default', 'finish_reason': 'stop', 'logprobs': None} id='run--f9e75146-82de-47c6-a92e-921e4c352081-0' usage_metadata={'input_tokens': 1160, 'output_tokens': 453, 'total_tokens': 1613, 'input_token_details': {'audio': 0, 'cache_read': 0}, 'output_token_details': {'audio': 0, 'reasoning': 0}}\n"
     ]
    }
   ],
   "source": [
    "from langgraph.graph import StateGraph\n",
    "from langchain_openai import ChatOpenAI\n",
    "\n",
    "# LLM 모델 설정\n",
    "llm = ChatOpenAI(model=\"gpt-3.5-turbo\")\n",
    "\n",
    "# 첫 번째 AI 에이전트: 질문 분석 및 배경 정보 생성\n",
    "def agent_1(state):\n",
    "    \"\"\"사용자의 질문을 분석하고 핵심 키워드와 배경 정보를 추가\"\"\"\n",
    "    query = state[\"query\"]\n",
    "    \n",
    "    # 질문에서 핵심 키워드 추출\n",
    "    keywords = llm.invoke(f\"질문: {query}\\n이 질문에서 핵심 키워드를 3~5개 추출해 주세요.\")\n",
    "    \n",
    "    # 질문과 관련된 배경 정보 제공\n",
    "    background_info = llm.invoke(f\"질문: {query}\\n이 질문을 이해하는 데 도움이 될 만한 추가 정보를 제공해 주세요.\")\n",
    "\n",
    "    print(f\"\\n[Agent 1] 원본 질문: {query}\")\n",
    "    print(f\"[Agent 1] 핵심 키워드: {keywords}\")\n",
    "    print(f\"[Agent 1] 배경 정보: {background_info}\\n\")\n",
    "\n",
    "    return {\"refined_query\": query, \"keywords\": keywords, \"background_info\": background_info}\n",
    "\n",
    "# 두 번째 AI 에이전트: 키워드 및 배경 정보를 활용하여 답변 생성\n",
    "def agent_2(state):\n",
    "    \"\"\"Agent 1이 제공한 정보를 기반으로 보다 정교한 답변 생성\"\"\"\n",
    "    refined_query = state[\"refined_query\"]\n",
    "    keywords = state[\"keywords\"]\n",
    "    background_info = state[\"background_info\"]\n",
    "\n",
    "    # Agent 1이 제공한 정보를 활용하여 최종 답변 생성\n",
    "    final_response = llm.invoke(\n",
    "        f\"질문: {refined_query}\\n\"\n",
    "        f\"핵심 키워드: {keywords}\\n\"\n",
    "        f\"배경 정보: {background_info}\\n\"\n",
    "        f\"위 정보를 바탕으로 질문에 대해 깊이 있는 답변을 작성해 주세요.\"\n",
    "    )\n",
    "\n",
    "    print(f\"[Agent 2] 최종 답변 생성 완료\\n\")\n",
    "    \n",
    "    return {\"final_answer\": final_response}\n",
    "\n",
    "# LangGraph Workflow 설정\n",
    "workflow = StateGraph(dict)  \n",
    "\n",
    "# 그래프의 시작점 정의\n",
    "workflow.add_node(\"agent_1\", agent_1)\n",
    "workflow.add_node(\"agent_2\", agent_2)\n",
    "\n",
    "# 실행 흐름(Edges) 정의\n",
    "workflow.set_entry_point(\"agent_1\")  # Agent 1이 먼저 실행됨\n",
    "workflow.add_edge(\"agent_1\", \"agent_2\")  # Agent 1 -> Agent 2\n",
    "\n",
    "# 실행 엔진 빌드\n",
    "app = workflow.compile()\n",
    "print(type(app))\n",
    "\n",
    "# 실행 예제\n",
    "query = \"LangGraph는 무엇이며, LangChain과 어떤 차이점이 있나요? 그리고 LangGraph를 사용해야 하는 이유는 무엇인가요?\"\n",
    "state = {\"query\": query}\n",
    "result = app.invoke(state)\n",
    "\n",
    "# 최종 결과 출력\n",
    "print(\"\\n🔹 [AI 최종 답변]:\")\n",
    "print(result[\"final_answer\"])\n",
    "\n"
   ]
  },
  {
   "cell_type": "code",
   "execution_count": 4,
   "id": "246724dd",
   "metadata": {},
   "outputs": [
    {
     "data": {
      "image/png": "[encoded data removed]",
      "text/plain": [
       "<IPython.core.display.Image object>"
      ]
     },
     "metadata": {},
     "output_type": "display_data"
    }
   ],
   "source": [
    "from IPython.display import Image, display\n",
    "from langchain_core.runnables.graph import CurveStyle, MermaidDrawMethod, NodeStyles\n",
    "\n",
    "display(\n",
    "    Image(\n",
    "        app.get_graph().draw_mermaid_png(draw_method=MermaidDrawMethod.API)        \n",
    "    )\n",
    ")"
   ]
  }
 ],
 "metadata": {
  "kernelspec": {
   "display_name": "langchain-basic-kGdHTiMZ-py3.13",
   "language": "python",
   "name": "python3"
  },
  "language_info": {
   "codemirror_mode": {
    "name": "ipython",
    "version": 3
   },
   "file_extension": ".py",
   "mimetype": "text/x-python",
   "name": "python",
   "nbconvert_exporter": "python",
   "pygments_lexer": "ipython3",
   "version": "3.13.4"
  }
 },
 "nbformat": 4,
 "nbformat_minor": 5
}
