{
 "cells": [
  {
   "cell_type": "code",
   "execution_count": 1,
   "id": "7cdc7c8e",
   "metadata": {},
   "outputs": [
    {
     "name": "stdout",
     "output_type": "stream",
     "text": [
      "Hello LangChain ChatGPT\n"
     ]
    }
   ],
   "source": [
    "print('Hello LangChain ChatGPT')"
   ]
  },
  {
   "cell_type": "code",
   "execution_count": 3,
   "id": "a101764a",
   "metadata": {},
   "outputs": [],
   "source": [
    "import os\n",
    "from dotenv import load_dotenv\n",
    "from langchain_core.prompts import ChatPromptTemplate\n",
    "from langchain_openai import ChatOpenAI \n",
    "\n",
    "\n",
    "load_dotenv()\n",
    "OPENAI_API_KEY = os.getenv(\"OPENAI_API_KEY\")\n",
    "#print(OPENAI_API_KEY)"
   ]
  },
  {
   "cell_type": "code",
   "execution_count": 11,
   "id": "6086b3a2",
   "metadata": {},
   "outputs": [
    {
     "name": "stdout",
     "output_type": "stream",
     "text": [
      "input_variables=['input'] input_types={} partial_variables={} messages=[SystemMessagePromptTemplate(prompt=PromptTemplate(input_variables=[], input_types={}, partial_variables={}, template='당신은 개발자입니다.'), additional_kwargs={}), HumanMessagePromptTemplate(prompt=PromptTemplate(input_variables=['input'], input_types={}, partial_variables={}, template='{input}'), additional_kwargs={})]\n"
     ]
    }
   ],
   "source": [
    "#1\n",
    "\n",
    "# prompt\n",
    "prompt = ChatPromptTemplate.from_messages(\n",
    "    [ (\"system\", \"당신은 개발자입니다.\") , \n",
    "     (\"human\", \"{input}\") ]\n",
    ")\n",
    "print(prompt)\n",
    "\n",
    "prompt_text = prompt.format(input=\"html는 무엇인가요? 자세하게 설명해주세요\")"
   ]
  },
  {
   "cell_type": "code",
   "execution_count": 8,
   "id": "4f971144",
   "metadata": {},
   "outputs": [
    {
     "name": "stdout",
     "output_type": "stream",
     "text": [
      "client=<openai.resources.chat.completions.completions.Completions object at 0x000001DBEB6FE710> async_client=<openai.resources.chat.completions.completions.AsyncCompletions object at 0x000001DBEB6FEAD0> root_client=<openai.OpenAI object at 0x000001DBEB6FE490> root_async_client=<openai.AsyncOpenAI object at 0x000001DBEB6FE850> model_name='gpt-4o-mini' temperature=0.7 model_kwargs={} openai_api_key=SecretStr('**********')\n"
     ]
    }
   ],
   "source": [
    "# ChatGPT API를 사용하는 ChatOpenAI 인스턴스 생성\n",
    "llm = ChatOpenAI(\n",
    "    #api_key=OPENAI_API_KEY,\n",
    "    model=\"gpt-4o-mini\",\n",
    "    temperature=0.7\n",
    ")\n",
    "print(llm)"
   ]
  },
  {
   "cell_type": "code",
   "execution_count": 13,
   "id": "fe3dcf47",
   "metadata": {},
   "outputs": [
    {
     "name": "stdout",
     "output_type": "stream",
     "text": [
      "<class 'langchain_core.messages.ai.AIMessage'>\n",
      "content='HTML은 \"HyperText Markup Language\"의 약자로, 웹 페이지를 만들기 위해 사용하는 표준 마크업 언어입니다. HTML은 웹 콘텐츠의 구조를 정의하고, 텍스트, 이미지, 링크, 비디오 등의 다양한 요소를 웹 브라우저에 표시하는 데 사용됩니다.\\n\\n### HTML의 주요 구성 요소:\\n\\n1. **요소 (Elements)**:\\n   - HTML 문서는 다양한 요소로 구성됩니다. 각 요소는 시작 태그, 내용, 종료 태그로 이루어져 있습니다.\\n   - 예: `<p>이것은 문단입니다.</p>`에서 `<p>`는 시작 태그, `</p>`는 종료 태그, \"이것은 문단입니다.\"는 요소의 내용입니다.\\n\\n2. **태그 (Tags)**:\\n   - HTML 태그는 요소를 정의하는 데 사용되는 기호입니다. 대부분의 HTML 태그는 여는 태그(`<tagname>`)와 닫는 태그(`</tagname>`)로 구성됩니다.\\n   - 예: `<h1>제목</h1>`는 가장 큰 제목을 나타냅니다.\\n\\n3. **속성 (Attributes)**:\\n   - 태그는 추가 정보를 제공하기 위해 속성을 가질 수 있습니다. 속성은 태그 내에서 정의되며, 이름과 값의 쌍으로 구성됩니다.\\n   - 예: `<a href=\"https://www.example.com\">링크</a>`에서 `href`는 속성 이름이고, `\"https://www.example.com\"`은 속성 값입니다.\\n\\n4. **문서 구조**:\\n   - HTML 문서는 일반적으로 다음과 같은 구조를 가집니다:\\n     ```html\\n     <!DOCTYPE html>\\n     <html>\\n       <head>\\n         <title>문서 제목</title>\\n       </head>\\n       <body>\\n         <h1>안녕하세요!</h1>\\n         <p>HTML에 대한 설명.</p>\\n       </body>\\n     </html>\\n     ```\\n   - `<!DOCTYPE html>`은 문서의 HTML5 표준을 선언합니다.\\n   - `<html>` 태그는 HTML 문서의 시작과 끝을 나타냅니다.\\n   - `<head>` 태그는 문서의 메타데이터(제목, 문자 인코딩 등)를 포함합니다.\\n   - `<body>` 태그는 웹 페이지에 표시되는 실제 콘텐츠를 포함합니다.\\n\\n### HTML의 주요 기능:\\n\\n- **웹 콘텐츠 표현**: 텍스트, 이미지, 비디오, 오디오, 링크 등을 웹 페이지에 배치할 수 있습니다.\\n- **링크 생성**: 하이퍼링크를 통해 다른 웹 페이지나 외부 웹사이트로 연결할 수 있습니다.\\n- **폼 생성**: 사용자 입력을 받을 수 있는 폼을 생성하여 데이터 수집이 가능합니다.\\n- **웹 접근성**: 스크린 리더와 같은 보조 기술을 지원하여 장애인이 웹 콘텐츠에 접근할 수 있도록 도와줍니다.\\n\\n### 결론\\n\\nHTML은 웹 개발의 기초이며, CSS(스타일링) 및 JavaScript(동적 기능)와 함께 사용되어 현대적인 웹 페이지를 구성하는 데 필수적인 역할을 합니다. HTML을 이해하는 것은 웹 개발에 있어 중요한 첫걸음입니다.' additional_kwargs={'refusal': None} response_metadata={'token_usage': {'completion_tokens': 687, 'prompt_tokens': 27, 'total_tokens': 714, 'completion_tokens_details': {'accepted_prediction_tokens': 0, 'audio_tokens': 0, 'reasoning_tokens': 0, 'rejected_prediction_tokens': 0}, 'prompt_tokens_details': {'audio_tokens': 0, 'cached_tokens': 0}}, 'model_name': 'gpt-4o-mini-2024-07-18', 'system_fingerprint': 'fp_62a23a81ef', 'id': 'chatcmpl-BglYD2bfDNpoodjs4rah1JZOHqwEb', 'service_tier': 'default', 'finish_reason': 'stop', 'logprobs': None} id='run--539111d9-50fb-4268-8f24-df775920b98d-0' usage_metadata={'input_tokens': 27, 'output_tokens': 687, 'total_tokens': 714, 'input_token_details': {'audio': 0, 'cache_read': 0}, 'output_token_details': {'audio': 0, 'reasoning': 0}}\n",
      "HTML은 \"HyperText Markup Language\"의 약자로, 웹 페이지를 만들기 위해 사용하는 표준 마크업 언어입니다. HTML은 웹 콘텐츠의 구조를 정의하고, 텍스트, 이미지, 링크, 비디오 등의 다양한 요소를 웹 브라우저에 표시하는 데 사용됩니다.\n",
      "\n",
      "### HTML의 주요 구성 요소:\n",
      "\n",
      "1. **요소 (Elements)**:\n",
      "   - HTML 문서는 다양한 요소로 구성됩니다. 각 요소는 시작 태그, 내용, 종료 태그로 이루어져 있습니다.\n",
      "   - 예: `<p>이것은 문단입니다.</p>`에서 `<p>`는 시작 태그, `</p>`는 종료 태그, \"이것은 문단입니다.\"는 요소의 내용입니다.\n",
      "\n",
      "2. **태그 (Tags)**:\n",
      "   - HTML 태그는 요소를 정의하는 데 사용되는 기호입니다. 대부분의 HTML 태그는 여는 태그(`<tagname>`)와 닫는 태그(`</tagname>`)로 구성됩니다.\n",
      "   - 예: `<h1>제목</h1>`는 가장 큰 제목을 나타냅니다.\n",
      "\n",
      "3. **속성 (Attributes)**:\n",
      "   - 태그는 추가 정보를 제공하기 위해 속성을 가질 수 있습니다. 속성은 태그 내에서 정의되며, 이름과 값의 쌍으로 구성됩니다.\n",
      "   - 예: `<a href=\"https://www.example.com\">링크</a>`에서 `href`는 속성 이름이고, `\"https://www.example.com\"`은 속성 값입니다.\n",
      "\n",
      "4. **문서 구조**:\n",
      "   - HTML 문서는 일반적으로 다음과 같은 구조를 가집니다:\n",
      "     ```html\n",
      "     <!DOCTYPE html>\n",
      "     <html>\n",
      "       <head>\n",
      "         <title>문서 제목</title>\n",
      "       </head>\n",
      "       <body>\n",
      "         <h1>안녕하세요!</h1>\n",
      "         <p>HTML에 대한 설명.</p>\n",
      "       </body>\n",
      "     </html>\n",
      "     ```\n",
      "   - `<!DOCTYPE html>`은 문서의 HTML5 표준을 선언합니다.\n",
      "   - `<html>` 태그는 HTML 문서의 시작과 끝을 나타냅니다.\n",
      "   - `<head>` 태그는 문서의 메타데이터(제목, 문자 인코딩 등)를 포함합니다.\n",
      "   - `<body>` 태그는 웹 페이지에 표시되는 실제 콘텐츠를 포함합니다.\n",
      "\n",
      "### HTML의 주요 기능:\n",
      "\n",
      "- **웹 콘텐츠 표현**: 텍스트, 이미지, 비디오, 오디오, 링크 등을 웹 페이지에 배치할 수 있습니다.\n",
      "- **링크 생성**: 하이퍼링크를 통해 다른 웹 페이지나 외부 웹사이트로 연결할 수 있습니다.\n",
      "- **폼 생성**: 사용자 입력을 받을 수 있는 폼을 생성하여 데이터 수집이 가능합니다.\n",
      "- **웹 접근성**: 스크린 리더와 같은 보조 기술을 지원하여 장애인이 웹 콘텐츠에 접근할 수 있도록 도와줍니다.\n",
      "\n",
      "### 결론\n",
      "\n",
      "HTML은 웹 개발의 기초이며, CSS(스타일링) 및 JavaScript(동적 기능)와 함께 사용되어 현대적인 웹 페이지를 구성하는 데 필수적인 역할을 합니다. HTML을 이해하는 것은 웹 개발에 있어 중요한 첫걸음입니다.\n"
     ]
    }
   ],
   "source": [
    "#2\n",
    "\n",
    "try:\n",
    "    response = llm.invoke(prompt_text)\n",
    "    print(type(response))\n",
    "    print(response)\n",
    "    print(response.content)\n",
    "except Exception as e:\n",
    "    print(f\"오류 발생: {e}\")"
   ]
  },
  {
   "cell_type": "code",
   "execution_count": null,
   "id": "e154f6a1",
   "metadata": {},
   "outputs": [],
   "source": []
  }
 ],
 "metadata": {
  "kernelspec": {
   "display_name": "langchain-basic-kGdHTiMZ-py3.13",
   "language": "python",
   "name": "python3"
  },
  "language_info": {
   "codemirror_mode": {
    "name": "ipython",
    "version": 3
   },
   "file_extension": ".py",
   "mimetype": "text/x-python",
   "name": "python",
   "nbconvert_exporter": "python",
   "pygments_lexer": "ipython3",
   "version": "3.13.4"
  }
 },
 "nbformat": 4,
 "nbformat_minor": 5
}
