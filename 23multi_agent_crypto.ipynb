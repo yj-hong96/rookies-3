{
 "cells": [
  {
   "cell_type": "code",
   "execution_count": 1,
   "metadata": {},
   "outputs": [],
   "source": [
    "# 환경 변수에서 API 키 가져오기\n",
    "import os\n",
    "from dotenv import load_dotenv\n",
    "\n",
    "load_dotenv()\n",
    "OPENAI_API_KEY = os.getenv(\"OPENAI_API_KEY\")\n",
    "TAVILY_API_KEY = os.getenv(\"TAVILY_API_KEY\")"
   ]
  },
  {
   "cell_type": "code",
   "execution_count": 2,
   "metadata": {},
   "outputs": [],
   "source": [
    "# CrewAI 라이브러리에서 필요한 클래스 가져오기\n",
    "from langchain_openai import ChatOpenAI\n",
    "\n",
    "# LLM\n",
    "llm = ChatOpenAI(\n",
    "    #model='gpt-3.5-turbo', \n",
    "    model='gpt-4o-mini',\n",
    "    temperature=0,\n",
    "    api_key=OPENAI_API_KEY)"
   ]
  },
  {
   "cell_type": "code",
   "execution_count": 2,
   "metadata": {},
   "outputs": [
    {
     "ename": "ModuleNotFoundError",
     "evalue": "No module named 'crewai'",
     "output_type": "error",
     "traceback": [
      "\u001b[31m---------------------------------------------------------------------------\u001b[39m",
      "\u001b[31mModuleNotFoundError\u001b[39m                       Traceback (most recent call last)",
      "\u001b[36mCell\u001b[39m\u001b[36m \u001b[39m\u001b[32mIn[2]\u001b[39m\u001b[32m, line 2\u001b[39m\n\u001b[32m      1\u001b[39m \u001b[38;5;66;03m# Search Tool\u001b[39;00m\n\u001b[32m----> \u001b[39m\u001b[32m2\u001b[39m \u001b[38;5;28;01mfrom\u001b[39;00m\u001b[38;5;250m \u001b[39m\u001b[34;01mcrewai\u001b[39;00m\u001b[38;5;250m \u001b[39m\u001b[38;5;28;01mimport\u001b[39;00m Agent, Task, Crew, Process\n\u001b[32m      3\u001b[39m \u001b[38;5;28;01mfrom\u001b[39;00m\u001b[38;5;250m \u001b[39m\u001b[34;01mcrewai\u001b[39;00m\u001b[34;01m.\u001b[39;00m\u001b[34;01mtools\u001b[39;00m\u001b[38;5;250m \u001b[39m\u001b[38;5;28;01mimport\u001b[39;00m tool\n\u001b[32m      4\u001b[39m \u001b[38;5;28;01mfrom\u001b[39;00m\u001b[38;5;250m \u001b[39m\u001b[34;01mlangchain_community\u001b[39;00m\u001b[34;01m.\u001b[39;00m\u001b[34;01mtools\u001b[39;00m\u001b[34;01m.\u001b[39;00m\u001b[34;01mtavily_search\u001b[39;00m\u001b[38;5;250m \u001b[39m\u001b[38;5;28;01mimport\u001b[39;00m TavilySearchResults\n",
      "\u001b[31mModuleNotFoundError\u001b[39m: No module named 'crewai'"
     ]
    }
   ],
   "source": [
    "# Search Tool\n",
    "from crewai import Agent, Task, Crew, Process\n",
    "from crewai.tools import tool\n",
    "from langchain_community.tools.tavily_search import TavilySearchResults\n",
    "\n",
    "\n",
    "#search_tool = TavilySearchResults(api_key=TAVILY_API_KEY)\n",
    "@tool(\"tavily_search_wrapper\")\n",
    "def tavily_search_wrapper(query: str) -> str:\n",
    "    \"\"\"Tavily 검색 도구 래퍼\"\"\"\n",
    "    search_tool = TavilySearchResults(api_key=TAVILY_API_KEY)\n",
    "    return search_tool.run(query)"
   ]
  },
  {
   "cell_type": "code",
   "execution_count": 4,
   "metadata": {},
   "outputs": [],
   "source": [
    "# Agent\n",
    "researcher = Agent(\n",
    "role='Market Researcher',\n",
    "goal='Uncover emerging trends and investment opportunities in the cryptocurrency market in 2024.',\n",
    "backstory='Identify groundbreaking trends and actionable insights.',\n",
    "verbose=True,\n",
    "tools=[tavily_search_wrapper],\n",
    "allow_delegation=False,\n",
    "llm=llm,\n",
    "max_iter=3,\n",
    "max_rpm=10,\n",
    ")\n",
    "\n",
    "analyst = Agent(\n",
    "role='Investment Analyst',\n",
    "goal='Analyze cryptocurrency market data to extract actionable insights and investment leads.',\n",
    "backstory='Draw meaningful conclusions from cryptocurrency market data.',\n",
    "verbose=True,\n",
    "allow_delegation=False,\n",
    "llm=llm,\n",
    ")"
   ]
  },
  {
   "cell_type": "code",
   "execution_count": 5,
   "metadata": {},
   "outputs": [],
   "source": [
    "# Tasks\n",
    "research_task = Task(\n",
    "description='Explore the internet to pinpoint emerging trends and potential investment opportunities.',\n",
    "agent=researcher,\n",
    "expected_output='A detailed summary of the reserch results in string format'\n",
    ")\n",
    "\n",
    "\n",
    "analyst_task = Task(\n",
    "description='Analyze the provided cryptocurrency market data to extract key insights and compile a concise report.',\n",
    "agent=analyst,\n",
    "expected_output='A refined finalized version of the report in string format'\n",
    ")"
   ]
  },
  {
   "cell_type": "code",
   "execution_count": 6,
   "metadata": {},
   "outputs": [],
   "source": [
    "#`Crew` is a group of agents working together to accomplish a task\n",
    "crypto_crew = Crew(\n",
    "agents=[researcher, analyst],\n",
    "tasks=[research_task, analyst_task],\n",
    "process=Process.sequential  \n",
    ")"
   ]
  },
  {
   "cell_type": "code",
   "execution_count": 7,
   "metadata": {},
   "outputs": [
    {
     "name": "stdout",
     "output_type": "stream",
     "text": [
      "\u001b[1m\u001b[95m# Agent:\u001b[00m \u001b[1m\u001b[92mMarket Researcher\u001b[00m\n",
      "\u001b[95m## Task:\u001b[00m \u001b[92mExplore the internet to pinpoint emerging trends and potential investment opportunities.\u001b[00m\n",
      "\n",
      "\n",
      "\u001b[1m\u001b[95m# Agent:\u001b[00m \u001b[1m\u001b[92mMarket Researcher\u001b[00m\n",
      "\u001b[95m## Thought:\u001b[00m \u001b[92mI need to explore the internet for emerging trends and investment opportunities in the cryptocurrency market for 2024.\u001b[00m\n",
      "\u001b[95m## Using tool:\u001b[00m \u001b[92mtavily_search_wrapper\u001b[00m\n",
      "\u001b[95m## Tool Input:\u001b[00m \u001b[92m\n",
      "\"{\\\"query\\\": \\\"emerging trends and investment opportunities in cryptocurrency market 2024\\\"}\"\u001b[00m\n",
      "\u001b[95m## Tool Output:\u001b[00m \u001b[92m\n",
      "[{'title': 'Cryptocurrency Market Size, Growth & Trends Report, 2024', 'url': 'https://planwriters.com/blog/cryptocurrency-market-size-growth-trends-report-2024', 'content': 'With a projected market size of $2 trillion and emerging trends like DeFi, NFTs, and green cryptocurrencies, the industry is ripe for', 'score': 0.9158166}, {'title': 'The Cryptocurrency Industry in 2024: A Year in Review - Nonco', 'url': 'https://nonco.com/the-cryptocurrency-industry-in-2024-a-year-in-review/', 'content': 'The total cryptocurrency market capitalization grew substantially in 2024, nearly doubling to surpass $3.8 trillion. This growth was driven by both retail and institutional investors seeking opportunities amid changing economic conditions.\\n\\n### **Memecoin Frenzy**\\n\\nMemecoins took center stage in 2024, with tokens like Fartcoin capturing unexpected trading volumes. This trend highlighted the unpredictable nature of investor sentiment and the continued appeal of novelty in the crypto space. [...] New innovations in 2024, such as the tokenization of real-world assets and the growing adoption of stablecoins, gained significant momentum. These advancements opened new pathways for investment and financial transactions, further embedding cryptocurrencies into mainstream finance. [...] ### **Solana’s Comeback**\\n\\nSolana (SOL) experienced a dramatic resurgence, surging 2,500% from its post-FTX low of $8.30 to a peak of $214 in November. Renewed investor confidence and the expectation of regulatory easing under Trump played key roles in Solana’s remarkable recovery.\\n\\n### **Emerging Trends**', 'score': 0.9094659}, {'title': 'Crypto Trends in 2024: Market Forecast and Growth Insights', 'url': 'https://icoholder.com/blog/crypto-trends-in-2024/', 'content': 'For those looking at long-term strategies, current conditions, technological advancements, and clearer crypto regulations in 2024 could offer good investment opportunities. Major financial institutions are getting involved, which adds credibility to the crypto market. This may indicate a trend toward more stable growth. [...] With many innovative emerging crypto projects and strategic partnerships, the market is showing signs of maturity and growth, reflecting the ongoing crypto trends in 2024. However, it’s essential to approach crypto investments cautiously, especially with the evolving crypto regulations 2024. This market is still developing, and changes in regulations or technology can significantly impact it. [...] Many investors are pondering whether now is the right time to jump into crypto. The favorable developments for Bitcoin, including the [ETF](https://icoholder.com/en/ethereum-1450) approvals and a positive economic outlook, paint an optimistic picture for cryptocurrency trends 2024 and the broader cryptocurrency market.', 'score': 0.9039154}, {'title': 'Top 7 Cryptocurrency Trends (2025 and Beyond) - Exploding Topics', 'url': 'https://explodingtopics.com/blog/cryptocurrency-trends', 'content': 'The past year has been a wild ride in the cryptocurrency space.\\n\\nOnce ripe with fraud and falling prices, the crypto market surged back in 2024.\\n\\nThe cryptocurrency market is currently at a [$3.4 trillion](https://www.coingecko.com/en/global-charts) market cap. It surged as high as $3.8 trillion in December 2024.\\n\\nThe rising trend was impacted by the US trade tariffs in Q1 of 2025, causing a short-term decline and high volatility in Bitcoin. [...] BlackRock and Fidelity have emerged as the [early leaders in the Bitcoin ETF market](https://www.forbes.com/sites/digital-assets/2024/03/24/blackrock-and-fidelity-etf-bombshell-triggers-a-massive-75-trillion-bitcoin-price-prediction/?sh=3ac79cfd1531)—Blackrock holds $15 billion in Bitcoin assets and Fidelity has $9 billion. [...] ...more\\n\\n### 1. Bull Market Emerges After Approval of ETFs\\n\\nThe value of Bitcoin [surged 150%](https://www.nytimes.com/2023/12/05/business/bitcoin-price-etf.html) coming into 2024.\\n\\nAnd many believe this bull run could [last well into 2025](https://www.nasdaq.com/articles/is-a-bitcoin-bull-run-coming).\\n\\nThe price of Bitcoin began 2024 at about $44,000 but had grown to nearly $70,000 by late May.', 'score': 0.8660535}, {'title': '2024 Cryptocurrency Adoption and Sentiment Report - Security.org', 'url': 'https://www.security.org/digital-security/cryptocurrency-annual-consumer-report/2024/', 'content': 'Current owners and non-owners who are familiar with cryptocurrencies think that 2024 could be an excellent year for crypto prices. The SEC is evaluating how to approve a spot Bitcoin exchange-traded fund (ETF). An ETF is a security that tracks the price of a single commodity so that people can invest in it on the stock market without directly purchasing it.', 'score': 0.79901963}]\u001b[00m\n",
      "\n",
      "\n",
      "\u001b[1m\u001b[95m# Agent:\u001b[00m \u001b[1m\u001b[92mMarket Researcher\u001b[00m\n",
      "\u001b[95m## Final Answer:\u001b[00m \u001b[92m\n",
      "In 2024, the cryptocurrency market is experiencing significant growth and transformation, with the total market capitalization nearly doubling to surpass $3.8 trillion. This surge is attributed to both retail and institutional investors seeking opportunities amid changing economic conditions. \n",
      "\n",
      "Key trends include:\n",
      "\n",
      "1. **Memecoin Frenzy**: Memecoins have gained unexpected trading volumes, showcasing the unpredictable nature of investor sentiment and the appeal of novelty in the crypto space.\n",
      "\n",
      "2. **Tokenization of Real-World Assets**: Innovations such as the tokenization of real-world assets and the growing adoption of stablecoins are gaining momentum, opening new pathways for investment and financial transactions.\n",
      "\n",
      "3. **Solana's Resurgence**: Solana (SOL) has seen a dramatic resurgence, surging 2,500% from its post-FTX low, driven by renewed investor confidence and expectations of regulatory easing.\n",
      "\n",
      "4. **Institutional Involvement**: Major financial institutions are increasingly getting involved in the crypto market, adding credibility and indicating a trend toward more stable growth.\n",
      "\n",
      "5. **ETF Approvals**: The approval of Bitcoin exchange-traded funds (ETFs) has led to a bull market, with Bitcoin's value surging significantly. BlackRock and Fidelity have emerged as leaders in the Bitcoin ETF market, holding substantial Bitcoin assets.\n",
      "\n",
      "6. **Cautious Optimism**: While the market shows signs of maturity and growth, investors are advised to approach crypto investments cautiously due to evolving regulations and technological changes.\n",
      "\n",
      "Overall, 2024 presents a promising landscape for cryptocurrency investments, with favorable developments and innovative projects on the horizon.\u001b[00m\n",
      "\n",
      "\n",
      "\u001b[1m\u001b[95m# Agent:\u001b[00m \u001b[1m\u001b[92mInvestment Analyst\u001b[00m\n",
      "\u001b[95m## Task:\u001b[00m \u001b[92mAnalyze the provided cryptocurrency market data to extract key insights and compile a concise report.\u001b[00m\n",
      "\n",
      "\n",
      "\u001b[1m\u001b[95m# Agent:\u001b[00m \u001b[1m\u001b[92mInvestment Analyst\u001b[00m\n",
      "\u001b[95m## Final Answer:\u001b[00m \u001b[92m\n",
      "**Cryptocurrency Market Analysis Report - 2024**\n",
      "\n",
      "**Overview**  \n",
      "In 2024, the cryptocurrency market is witnessing a remarkable transformation, with the total market capitalization nearly doubling to surpass $3.8 trillion. This growth is primarily driven by both retail and institutional investors who are actively seeking opportunities amidst evolving economic conditions. \n",
      "\n",
      "**Key Trends and Insights**\n",
      "\n",
      "1. **Memecoin Frenzy**  \n",
      "The rise of memecoins has taken the market by storm, showcasing unexpected trading volumes. This trend highlights the unpredictable nature of investor sentiment and the allure of novelty within the crypto space. Investors should consider the potential for high volatility and speculative opportunities in this segment.\n",
      "\n",
      "2. **Tokenization of Real-World Assets**  \n",
      "The tokenization of real-world assets is gaining traction, alongside the increasing adoption of stablecoins. This innovation is paving the way for new investment pathways and financial transactions, suggesting a shift towards more integrated financial ecosystems. Investors should explore projects that focus on asset tokenization as they may offer significant growth potential.\n",
      "\n",
      "3. **Solana's Resurgence**  \n",
      "Solana (SOL) has experienced a dramatic resurgence, surging 2,500% from its post-FTX low. This rebound is fueled by renewed investor confidence and expectations of regulatory easing. Given Solana's strong performance, it may be a strategic investment opportunity for those looking to capitalize on its growth trajectory.\n",
      "\n",
      "4. **Institutional Involvement**  \n",
      "The increasing participation of major financial institutions in the cryptocurrency market is adding credibility and signaling a trend towards more stable growth. This institutional involvement is likely to attract more conservative investors, further solidifying the market's foundation.\n",
      "\n",
      "5. **ETF Approvals**  \n",
      "The approval of Bitcoin exchange-traded funds (ETFs) has catalyzed a bull market, with Bitcoin's value experiencing significant surges. Notably, BlackRock and Fidelity have emerged as leaders in the Bitcoin ETF market, holding substantial Bitcoin assets. Investors should monitor ETF developments as they can influence market dynamics and provide new investment avenues.\n",
      "\n",
      "6. **Cautious Optimism**  \n",
      "While the cryptocurrency market exhibits signs of maturity and growth, it is essential for investors to approach investments with caution. Evolving regulations and technological changes pose risks that could impact market stability. A balanced investment strategy that includes risk management is advisable.\n",
      "\n",
      "**Conclusion**  \n",
      "The cryptocurrency landscape in 2024 presents a promising environment for investment, characterized by favorable developments and innovative projects. Investors are encouraged to stay informed about market trends, regulatory changes, and emerging technologies to make well-informed decisions. By strategically navigating this evolving market, there are ample opportunities for growth and profit.\u001b[00m\n",
      "\n",
      "\n"
     ]
    }
   ],
   "source": [
    "#`kickoff` method starts the crew's process\n",
    "result = crypto_crew.kickoff()"
   ]
  },
  {
   "cell_type": "code",
   "execution_count": null,
   "metadata": {},
   "outputs": [],
   "source": []
  }
 ],
 "metadata": {
  "kernelspec": {
   "display_name": "langchain-basic-kGdHTiMZ-py3.13",
   "language": "python",
   "name": "python3"
  },
  "language_info": {
   "codemirror_mode": {
    "name": "ipython",
    "version": 3
   },
   "file_extension": ".py",
   "mimetype": "text/x-python",
   "name": "python",
   "nbconvert_exporter": "python",
   "pygments_lexer": "ipython3",
   "version": "3.13.4"
  }
 },
 "nbformat": 4,
 "nbformat_minor": 2
}
