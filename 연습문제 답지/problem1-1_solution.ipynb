{
 "cells": [
  {
   "cell_type": "markdown",
   "metadata": {},
   "source": [
    "### 문제 1-1: 기본 체인 만들기 - AI 요리사 해답\n",
    "\n",
    "## 환경 설정"
   ]
  },
  {
   "cell_type": "code",
   "execution_count": 1,
   "metadata": {},
   "outputs": [
    {
     "name": "stdout",
     "output_type": "stream",
     "text": [
      "Note: you may need to restart the kernel to use updated packages.\n"
     ]
    }
   ],
   "source": [
    "# 필요한 라이브러리 설치\n",
    "%pip install -q langchain langchain-openai python-dotenv"
   ]
  },
  {
   "cell_type": "code",
   "execution_count": 2,
   "metadata": {},
   "outputs": [
    {
     "data": {
      "text/plain": [
       "True"
      ]
     },
     "execution_count": 2,
     "metadata": {},
     "output_type": "execute_result"
    }
   ],
   "source": [
    "# 환경 변수 설정\n",
    "from dotenv import load_dotenv\n",
    "import os\n",
    "\n",
    "# .env 파일에서 API 키 로드\n",
    "load_dotenv()\n",
    "\n",
    "#OPENAI_API_KEY = os.getenv(\"OPENAI_API_KEY\")"
   ]
  },
  {
   "cell_type": "code",
   "execution_count": 3,
   "metadata": {},
   "outputs": [],
   "source": [
    "# 필요한 라이브러리 import\n",
    "from langchain_core.prompts import PromptTemplate\n",
    "from langchain_openai import ChatOpenAI\n",
    "from langchain_core.output_parsers import StrOutputParser"
   ]
  },
  {
   "cell_type": "markdown",
   "metadata": {},
   "source": [
    "## 문제 1 해답 구현\n",
    "\n",
    "### 요구사항\n",
    "1. PromptTemplate 사용하여 프롬프트 작성\n",
    "2. 사용자가 입력한 재료를 받아서 요리 추천\n",
    "3. ChatOpenAI 모델 사용\n",
    "4. StrOutputParser로 결과를 문자열로 출력\n",
    "5. LCEL(|) 문법을 사용하여 체인 연결"
   ]
  },
  {
   "cell_type": "code",
   "execution_count": 4,
   "metadata": {},
   "outputs": [],
   "source": [
    "# 1. PromptTemplate 생성\n",
    "cooking_prompt = PromptTemplate.from_template(\n",
    "    \"\"\"\n",
    "당신은 친근하고 전문적인 AI 요리사입니다.\n",
    "사용자가 제공한 재료로 만들 수 있는 요리를 추천하고,\n",
    "상세한 레시피를 제공해주세요.\n",
    "\n",
    "재료: {ingredients}\n",
    "\n",
    "다음 형식으로 답변해주세요:\n",
    "- 추천 요리명\n",
    "- 필요한 재료 목록 (제공된 재료 포함)\n",
    "- 단계별 조리법\n",
    "- 조리 팁\n",
    "\n",
    "친근하고 따뜻한 톤으로 설명해주세요.\n",
    "\"\"\"\n",
    ")"
   ]
  },
  {
   "cell_type": "code",
   "execution_count": 5,
   "metadata": {},
   "outputs": [],
   "source": [
    "# 2. LLM 모델 초기화\n",
    "#llm = ChatOpenAI(model=\"gpt-3.5-turbo\", temperature=0.7)\n",
    "llm = ChatOpenAI(\n",
    "    #api_key=OPENAI_API_KEY,\n",
    "    base_url=\"https://api.groq.com/openai/v1\",  # Groq API 엔드포인트\n",
    "    model=\"meta-llama/llama-4-scout-17b-16e-instruct\",  # Spring AI와 동일한 모델\n",
    "    temperature=0.7\n",
    ")\n",
    "\n",
    "# 3. 출력 파서\n",
    "output_parser = StrOutputParser()\n",
    "\n",
    "# 4. 체인 생성 (LCEL 사용)\n",
    "cooking_chain = cooking_prompt | llm | output_parser"
   ]
  },
  {
   "cell_type": "code",
   "execution_count": 6,
   "metadata": {},
   "outputs": [
    {
     "name": "stdout",
     "output_type": "stream",
     "text": [
      "AI 요리사 - 재료 기반 요리 추천\n",
      "=====================================\n",
      "\n",
      "입력 재료: 계란, 밥, 김치\n",
      "\n",
      "AI 요리사의 추천:\n",
      "### 추천 요리명\n",
      "김치볶음밥\n",
      "\n",
      "### 필요한 재료 목록\n",
      "- 계란 \n",
      "- 밥 \n",
      "- 김치 \n",
      "- 참기름 \n",
      "- 소금 \n",
      "- 후추 \n",
      "\n",
      "### 단계별 조리법\n",
      "1. **김치 준비하기**: 김치를 잘게 썰어주세요. 김치의 양은 개인의 취향에 따라 조절할 수 있습니다.\n",
      "2. **계란 준비하기**: 계란을 깨뜨려 그릇에 담고, 소금과 후추를 조금씩 뿌려 섞어주세요.\n",
      "3. **계란 프라이하기**: 팬에 참기름을 두르고 중불로 예열합니다. 계란을 넣고 스크램블드 에그처럼 잘게 다져주세요. 계란이 반숙 정도 되면 접시에 덜어둡니다.\n",
      "4. **김치 볶기**: 같은 팬에 김치를 넣고 중불로 볶아주세요. 김치가 약간 탄 느낌이 나면 더욱 맛있습니다.\n",
      "5. **밥 넣고 볶기**: 김치와 함께 밥을 넣고 잘 섞어주세요. 밥이 뭉쳐지지 않도록 계속 저어주면서 볶습니다.\n",
      "6. **계란 추가하기**: 준비한 계란을 밥과 김치에 넣고 모든 재료가 잘 섞이도록 볶아주세요.\n",
      "7. **간 맞추기**: 소금과 후추로 간을 맞추고, 마지막에 참기름을 한 번 더 둘러주세요.\n",
      "\n",
      "### 조리 팁\n",
      "- **김치의 양**: 김치를 많이 넣을수록 더 매운 맛을 즐길 수 있습니다. \n",
      "- **밥의 종류**: 남은 밥을 사용하는 것이 좋습니다. 밥이 차가우면 더 잘 볶아집니다.\n",
      "- **간 조절**: 소금과 후추로 간을 조절하세요. 필요하다면 추가적으로 참기름을 더 둘러도 좋습니다.\n",
      "\n",
      "맛있는 김치볶음밥을 즐기세요!\n"
     ]
    }
   ],
   "source": [
    "# 5. 테스트 실행\n",
    "try:\n",
    "    ingredients = \"계란, 밥, 김치\"\n",
    "    result = cooking_chain.invoke({\"ingredients\": ingredients})\n",
    "    \n",
    "    print(\"AI 요리사 - 재료 기반 요리 추천\")\n",
    "    print(\"=====================================\")\n",
    "    print(f\"\\n입력 재료: {ingredients}\")\n",
    "    print(\"\\nAI 요리사의 추천:\")\n",
    "    print(result)\n",
    "    \n",
    "except Exception as e:\n",
    "    print(f\"오류 발생: {e}\")"
   ]
  },
  {
   "cell_type": "markdown",
   "metadata": {},
   "source": [
    "## 추가 테스트"
   ]
  },
  {
   "cell_type": "code",
   "execution_count": 8,
   "metadata": {},
   "outputs": [
    {
     "name": "stdout",
     "output_type": "stream",
     "text": [
      "다른 재료로 테스트:\n",
      "===================\n",
      "\n",
      "입력 재료: 토마토, 양파, 치즈\n",
      "\n",
      "AI 요리사의 추천:\n",
      "맛있는 요리를 만들 준비가 되었습니다! 오늘은 토마토, 양파, 치즈로 만들 수 있는 '토마토 치즈 파스타'를 추천해 드릴게요. 이 요리는 간단하면서도 맛이 뛰어나고, 준비한 재료들을 활용할 수 있어요.\n",
      "\n",
      "### 추천 요리명\n",
      "토마토 치즈 파스타\n",
      "\n",
      "### 필요한 재료 목록\n",
      "- 파스타 (스파게티 또는 펜네 등)\n",
      "- 토마토\n",
      "- 양파\n",
      "- 치즈 (모짜렐라 치즈 또는 체다 치즈)\n",
      "- 올리브 오일\n",
      "- 소금\n",
      "- 후추\n",
      "- 마늘 (선택 사항)\n",
      "- 신선한 바질 (선택 사항)\n",
      "\n",
      "### 단계별 조리법\n",
      "1. **파스타 삶기**: \n",
      "   - 큰 냄비에 물을 많이 넣고 소금을 한 숟가락 정도 넣어주세요. \n",
      "   - 물이 끓으면 파스타를 넣고 패키지에 적힌 시간만큼 삶아주세요. \n",
      "   - 삶은 파스타는 물에서 건져내어 따로 놓아주세요.\n",
      "\n",
      "2. **토마토와 양파 준비하기**:\n",
      "   - 토마토는 깨끗이 씻고, 꼭지를 제거한 뒤에 잘게 썰어주세요.\n",
      "   - 양파는 껍질을 벗기고 잘게 썰어주세요.\n",
      "\n",
      "3. **소스 만들기**:\n",
      "   - 팬에 올리브 오일을 두르고 다진 마늘을 넣어 볶아주세요 (마늘을 사용하지 않으면 생략).\n",
      "   - 잘게 썬 양파를 넣고 양파가 투명해질 때까지 볶아주세요.\n",
      "   - 썬 토마토를 넣고 5분 정도 볶아주세요. 소금과 후추로 간을 맞춰주세요.\n",
      "\n",
      "4. **파스타와 소스 합치기**:\n",
      "   - 삶은 파스타를 팬에 넣고, 토마토 소스와 잘 섞어주세요.\n",
      "\n",
      "5. **치즈 추가하기**:\n",
      "   - 모짜렐라 치즈 또는 체다 치즈를 파스타 위에 뿌려주세요.\n",
      "   - 오븐에 넣고 치즈가 녹고 황금빛이 될 때까지 구워주세요 (약 10분).\n",
      "\n",
      "6. **마무리**:\n",
      "   - 신선한 바질을 잘게 썰어 파스타 위에 올려주세요 (선택 사항).\n",
      "   - 따뜻하게 바로 서빙하세요!\n",
      "\n",
      "### 조리 팁\n",
      "- 파스타를 삶은 물은 소스를 만들 때 조금씩 추가하면 더 크리미한 소스를 만들 수 있어요.\n",
      "- 치즈는 여러 종류를 섞어 사용하면 더 깊은 맛을 낼 수 있어요.\n",
      "- 토마토는 신선한 것을 사용하면 더 맛있어요.\n",
      "\n",
      "맛있는 '토마토 치즈 파스타'를 즐기시길 바래요! 요리하시면서 궁금한 점이 있으면 언제든지 물어봐 주세요.\n"
     ]
    }
   ],
   "source": [
    "# 추가 테스트 - 다른 재료로 실행\n",
    "other_ingredients = \"토마토, 양파, 치즈\"\n",
    "other_result = cooking_chain.invoke({\"ingredients\": other_ingredients})\n",
    "\n",
    "print(\"다른 재료로 테스트:\")\n",
    "print(\"===================\")\n",
    "print(f\"\\n입력 재료: {other_ingredients}\")\n",
    "print(\"\\nAI 요리사의 추천:\")\n",
    "print(other_result)"
   ]
  },
  {
   "cell_type": "markdown",
   "metadata": {},
   "source": [
    "## 학습 정리\n",
    "\n",
    "### 문제 1에서 배운 핵심 개념\n",
    "1. **PromptTemplate**: 동적 변수를 포함한 프롬프트 생성\n",
    "2. **LCEL 문법**: `|` 연산자를 사용한 체인 연결\n",
    "3. **기본 체인 구조**: prompt → llm → output_parser\n",
    "4. **invoke() 메서드**: 체인 실행 및 결과 반환\n",
    "\n",
    "### 구현 완료 사항\n",
    "- PromptTemplate 사용\n",
    "- 재료 입력 처리\n",
    "- ChatOpenAI 모델 활용\n",
    "- StrOutputParser로 문자열 출력\n",
    "- LCEL 문법으로 체인 연결\n",
    "- 요리 추천 및 레시피 제공\n",
    "- 오류 처리 구현"
   ]
  }
 ],
 "metadata": {
  "kernelspec": {
   "display_name": "langchain-basic-kGdHTiMZ-py3.13",
   "language": "python",
   "name": "python3"
  },
  "language_info": {
   "codemirror_mode": {
    "name": "ipython",
    "version": 3
   },
   "file_extension": ".py",
   "mimetype": "text/x-python",
   "name": "python",
   "nbconvert_exporter": "python",
   "pygments_lexer": "ipython3",
   "version": "3.13.4"
  }
 },
 "nbformat": 4,
 "nbformat_minor": 4
}
